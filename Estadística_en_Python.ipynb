{
  "nbformat": 4,
  "nbformat_minor": 0,
  "metadata": {
    "colab": {
      "provenance": [],
      "collapsed_sections": [],
      "toc_visible": true,
      "authorship_tag": "ABX9TyOn64M8jY3zoDwxBpE/Eq0L",
      "include_colab_link": true
    },
    "kernelspec": {
      "name": "python3",
      "display_name": "Python 3"
    },
    "language_info": {
      "name": "python"
    }
  },
  "cells": [
    {
      "cell_type": "markdown",
      "metadata": {
        "id": "view-in-github",
        "colab_type": "text"
      },
      "source": [
        "<a href=\"https://colab.research.google.com/github/blaulicht7/Python_Basic/blob/main/Estad%C3%ADstica_en_Python.ipynb\" target=\"_parent\"><img src=\"https://colab.research.google.com/assets/colab-badge.svg\" alt=\"Open In Colab\"/></a>"
      ]
    },
    {
      "cell_type": "markdown",
      "source": [
        "# **Constantes en Python**"
      ],
      "metadata": {
        "id": "xMaUSDWCTqNy"
      }
    },
    {
      "cell_type": "code",
      "source": [
        "import math"
      ],
      "metadata": {
        "id": "FJbL4YhrvKXJ"
      },
      "execution_count": null,
      "outputs": []
    },
    {
      "cell_type": "code",
      "source": [
        "math.pi"
      ],
      "metadata": {
        "colab": {
          "base_uri": "https://localhost:8080/"
        },
        "id": "aPdf1KOPveth",
        "outputId": "68c60df4-dcb1-47ac-9e01-ed96b2bb5091"
      },
      "execution_count": null,
      "outputs": [
        {
          "output_type": "execute_result",
          "data": {
            "text/plain": [
              "3.141592653589793"
            ]
          },
          "metadata": {},
          "execution_count": 4
        }
      ]
    },
    {
      "cell_type": "code",
      "source": [
        "math.e"
      ],
      "metadata": {
        "colab": {
          "base_uri": "https://localhost:8080/"
        },
        "id": "IKpzOCeTvmLp",
        "outputId": "772af834-8a39-4b3d-ec18-25adf7ca2753"
      },
      "execution_count": null,
      "outputs": [
        {
          "output_type": "execute_result",
          "data": {
            "text/plain": [
              "2.718281828459045"
            ]
          },
          "metadata": {},
          "execution_count": 5
        }
      ]
    },
    {
      "cell_type": "code",
      "source": [
        "math.tau #tau es 2pi"
      ],
      "metadata": {
        "colab": {
          "base_uri": "https://localhost:8080/"
        },
        "id": "Nrt68dxavqXr",
        "outputId": "3b16dd98-8ff7-4b07-aa36-791ce828bc51"
      },
      "execution_count": null,
      "outputs": [
        {
          "output_type": "execute_result",
          "data": {
            "text/plain": [
              "6.283185307179586"
            ]
          },
          "metadata": {},
          "execution_count": 7
        }
      ]
    },
    {
      "cell_type": "code",
      "source": [
        "math.inf"
      ],
      "metadata": {
        "colab": {
          "base_uri": "https://localhost:8080/"
        },
        "id": "qOxHBpbKwC5B",
        "outputId": "4d3feb65-9fa7-47aa-af0b-2149c53fd7da"
      },
      "execution_count": null,
      "outputs": [
        {
          "output_type": "execute_result",
          "data": {
            "text/plain": [
              "inf"
            ]
          },
          "metadata": {},
          "execution_count": 8
        }
      ]
    },
    {
      "cell_type": "code",
      "source": [
        "-math.inf"
      ],
      "metadata": {
        "colab": {
          "base_uri": "https://localhost:8080/"
        },
        "id": "EkTz90FiwHSh",
        "outputId": "8bda4d6a-1607-4583-c119-cc0ed21eee15"
      },
      "execution_count": null,
      "outputs": [
        {
          "output_type": "execute_result",
          "data": {
            "text/plain": [
              "-inf"
            ]
          },
          "metadata": {},
          "execution_count": 9
        }
      ]
    },
    {
      "cell_type": "code",
      "source": [
        "float(\"inf\")"
      ],
      "metadata": {
        "colab": {
          "base_uri": "https://localhost:8080/"
        },
        "id": "8AA3AiXcwMox",
        "outputId": "11b0c2bf-dce9-4f1c-ec03-7f797014a8dc"
      },
      "execution_count": null,
      "outputs": [
        {
          "output_type": "execute_result",
          "data": {
            "text/plain": [
              "inf"
            ]
          },
          "metadata": {},
          "execution_count": 10
        }
      ]
    },
    {
      "cell_type": "markdown",
      "source": [
        "*Nota*\n",
        "\n",
        "> **float** representa números decimales con 8 digitos decimales exactos\n",
        "\n",
        "> **double** representa números decimales con 16 digitos decimales exactos, más precisión \n",
        "\n",
        "\n"
      ],
      "metadata": {
        "id": "iV8j_MC_sYN2"
      }
    },
    {
      "cell_type": "code",
      "source": [
        "math.nan\n",
        "float(\"nan\") \n",
        "#nan not a number"
      ],
      "metadata": {
        "colab": {
          "base_uri": "https://localhost:8080/"
        },
        "id": "lGPDopBbxXhR",
        "outputId": "d7c8bff1-a9ce-4375-ad63-edee18b74d9f"
      },
      "execution_count": null,
      "outputs": [
        {
          "output_type": "execute_result",
          "data": {
            "text/plain": [
              "nan"
            ]
          },
          "metadata": {},
          "execution_count": 12
        }
      ]
    },
    {
      "cell_type": "code",
      "source": [
        "math.sqrt(-1.0) #operación incorrecta"
      ],
      "metadata": {
        "colab": {
          "base_uri": "https://localhost:8080/",
          "height": 165
        },
        "id": "wLFYG7caxlci",
        "outputId": "b73b3f10-c34c-444e-9944-e01dad7df9e5"
      },
      "execution_count": null,
      "outputs": [
        {
          "output_type": "error",
          "ename": "ValueError",
          "evalue": "ignored",
          "traceback": [
            "\u001b[0;31m---------------------------------------------------------------------------\u001b[0m",
            "\u001b[0;31mValueError\u001b[0m                                Traceback (most recent call last)",
            "\u001b[0;32m<ipython-input-13-7ff522030b8c>\u001b[0m in \u001b[0;36m<module>\u001b[0;34m\u001b[0m\n\u001b[0;32m----> 1\u001b[0;31m \u001b[0mmath\u001b[0m\u001b[0;34m.\u001b[0m\u001b[0msqrt\u001b[0m\u001b[0;34m(\u001b[0m\u001b[0;34m-\u001b[0m\u001b[0;36m1.0\u001b[0m\u001b[0;34m)\u001b[0m\u001b[0;34m\u001b[0m\u001b[0;34m\u001b[0m\u001b[0m\n\u001b[0m",
            "\u001b[0;31mValueError\u001b[0m: math domain error"
          ]
        }
      ]
    },
    {
      "cell_type": "code",
      "source": [
        "math.log(0.0) #operación incorrecta\n"
      ],
      "metadata": {
        "colab": {
          "base_uri": "https://localhost:8080/",
          "height": 165
        },
        "id": "UPXlQtHXx-sN",
        "outputId": "8ce2be93-3ca9-4aeb-d34c-a771bd42970b"
      },
      "execution_count": null,
      "outputs": [
        {
          "output_type": "error",
          "ename": "ValueError",
          "evalue": "ignored",
          "traceback": [
            "\u001b[0;31m---------------------------------------------------------------------------\u001b[0m",
            "\u001b[0;31mValueError\u001b[0m                                Traceback (most recent call last)",
            "\u001b[0;32m<ipython-input-14-e3b33b95446c>\u001b[0m in \u001b[0;36m<module>\u001b[0;34m\u001b[0m\n\u001b[0;32m----> 1\u001b[0;31m \u001b[0mmath\u001b[0m\u001b[0;34m.\u001b[0m\u001b[0mlog\u001b[0m\u001b[0;34m(\u001b[0m\u001b[0;36m0.0\u001b[0m\u001b[0;34m)\u001b[0m\u001b[0;34m\u001b[0m\u001b[0;34m\u001b[0m\u001b[0m\n\u001b[0m",
            "\u001b[0;31mValueError\u001b[0m: math domain error"
          ]
        }
      ]
    },
    {
      "cell_type": "code",
      "source": [
        "math.exp(1000.0) #operación incorrecta"
      ],
      "metadata": {
        "colab": {
          "base_uri": "https://localhost:8080/",
          "height": 165
        },
        "id": "CewXzkVNyF3k",
        "outputId": "d6c0b7cd-e5a9-4e6a-a781-ed4f97044f5c"
      },
      "execution_count": null,
      "outputs": [
        {
          "output_type": "error",
          "ename": "OverflowError",
          "evalue": "ignored",
          "traceback": [
            "\u001b[0;31m---------------------------------------------------------------------------\u001b[0m",
            "\u001b[0;31mOverflowError\u001b[0m                             Traceback (most recent call last)",
            "\u001b[0;32m<ipython-input-15-037a59403f9d>\u001b[0m in \u001b[0;36m<module>\u001b[0;34m\u001b[0m\n\u001b[0;32m----> 1\u001b[0;31m \u001b[0mmath\u001b[0m\u001b[0;34m.\u001b[0m\u001b[0mexp\u001b[0m\u001b[0;34m(\u001b[0m\u001b[0;36m1000.0\u001b[0m\u001b[0;34m)\u001b[0m\u001b[0;34m\u001b[0m\u001b[0;34m\u001b[0m\u001b[0m\n\u001b[0m",
            "\u001b[0;31mOverflowError\u001b[0m: math range error"
          ]
        }
      ]
    },
    {
      "cell_type": "markdown",
      "source": [
        "ValueError es un error de dominio, probablemente datos no válidos\n",
        "\n",
        "Overflow error, es un error de rango, se puede calcular pero tiene muchos decimales "
      ],
      "metadata": {
        "id": "fxfRqKrd1QZV"
      }
    },
    {
      "cell_type": "code",
      "source": [
        "math.pow(math.nan,0)"
      ],
      "metadata": {
        "colab": {
          "base_uri": "https://localhost:8080/"
        },
        "id": "2dzhwk4T0zSc",
        "outputId": "06aad073-7882-41aa-a0aa-80f8bee66b44"
      },
      "execution_count": null,
      "outputs": [
        {
          "output_type": "execute_result",
          "data": {
            "text/plain": [
              "1.0"
            ]
          },
          "metadata": {},
          "execution_count": 16
        }
      ]
    },
    {
      "cell_type": "code",
      "source": [
        "math.nan+5"
      ],
      "metadata": {
        "colab": {
          "base_uri": "https://localhost:8080/"
        },
        "id": "3k4olMVp053s",
        "outputId": "a840ed93-1873-4674-f358-810c1bb6e8f5"
      },
      "execution_count": null,
      "outputs": [
        {
          "output_type": "execute_result",
          "data": {
            "text/plain": [
              "nan"
            ]
          },
          "metadata": {},
          "execution_count": 17
        }
      ]
    },
    {
      "cell_type": "code",
      "source": [
        "math.hypot(math.nan,math.inf)"
      ],
      "metadata": {
        "colab": {
          "base_uri": "https://localhost:8080/"
        },
        "id": "qPRq618t09vT",
        "outputId": "8e1108a4-b577-4702-99ce-609279da4911"
      },
      "execution_count": null,
      "outputs": [
        {
          "output_type": "execute_result",
          "data": {
            "text/plain": [
              "inf"
            ]
          },
          "metadata": {},
          "execution_count": 18
        }
      ]
    },
    {
      "cell_type": "markdown",
      "source": [
        "# **Representación númerica**"
      ],
      "metadata": {
        "id": "jwCikoVVIU45"
      }
    },
    {
      "cell_type": "code",
      "source": [
        "2+2"
      ],
      "metadata": {
        "colab": {
          "base_uri": "https://localhost:8080/"
        },
        "id": "8XYGuEprIlRf",
        "outputId": "2349264d-33c8-4362-ee9d-6a86c8f39b85"
      },
      "execution_count": null,
      "outputs": [
        {
          "output_type": "execute_result",
          "data": {
            "text/plain": [
              "4"
            ]
          },
          "metadata": {},
          "execution_count": 19
        }
      ]
    },
    {
      "cell_type": "code",
      "source": [
        "3-5"
      ],
      "metadata": {
        "colab": {
          "base_uri": "https://localhost:8080/"
        },
        "id": "tD6c601VIlN2",
        "outputId": "90ebfc0e-90db-41ed-beff-92be62fec477"
      },
      "execution_count": null,
      "outputs": [
        {
          "output_type": "execute_result",
          "data": {
            "text/plain": [
              "-2"
            ]
          },
          "metadata": {},
          "execution_count": 20
        }
      ]
    },
    {
      "cell_type": "code",
      "source": [
        "3*5"
      ],
      "metadata": {
        "colab": {
          "base_uri": "https://localhost:8080/"
        },
        "id": "1Uyg9enkIlKO",
        "outputId": "7b34f0ad-5c54-4dfc-b7cb-c878112fb188"
      },
      "execution_count": null,
      "outputs": [
        {
          "output_type": "execute_result",
          "data": {
            "text/plain": [
              "15"
            ]
          },
          "metadata": {},
          "execution_count": 21
        }
      ]
    },
    {
      "cell_type": "code",
      "source": [
        "3/5"
      ],
      "metadata": {
        "colab": {
          "base_uri": "https://localhost:8080/"
        },
        "id": "XO-N1NE3Ik_e",
        "outputId": "cfacb75d-a085-4e92-9eda-7ca97c78be44"
      },
      "execution_count": null,
      "outputs": [
        {
          "output_type": "execute_result",
          "data": {
            "text/plain": [
              "0.6"
            ]
          },
          "metadata": {},
          "execution_count": 22
        }
      ]
    },
    {
      "cell_type": "code",
      "source": [
        "math.ceil(3.4523) #redondea al mayor número entero"
      ],
      "metadata": {
        "colab": {
          "base_uri": "https://localhost:8080/"
        },
        "id": "eZ1uIkOwIk1m",
        "outputId": "4c54709a-3257-4825-fb21-835992d01bd0"
      },
      "execution_count": null,
      "outputs": [
        {
          "output_type": "execute_result",
          "data": {
            "text/plain": [
              "4"
            ]
          },
          "metadata": {},
          "execution_count": 23
        }
      ]
    },
    {
      "cell_type": "code",
      "source": [
        "math.floor(3.4523) #redondea al menor número entero"
      ],
      "metadata": {
        "colab": {
          "base_uri": "https://localhost:8080/"
        },
        "id": "UMxeLwcpIkkW",
        "outputId": "5b1717d2-ac88-4ddd-fec5-882cc01869fe"
      },
      "execution_count": null,
      "outputs": [
        {
          "output_type": "execute_result",
          "data": {
            "text/plain": [
              "3"
            ]
          },
          "metadata": {},
          "execution_count": 24
        }
      ]
    },
    {
      "cell_type": "code",
      "source": [
        "math.trunc(3.4523) #de valor real a valor entero"
      ],
      "metadata": {
        "colab": {
          "base_uri": "https://localhost:8080/"
        },
        "id": "q0cAy8VQK3tf",
        "outputId": "502acca1-d13a-4e89-e91a-1a370e6572b5"
      },
      "execution_count": null,
      "outputs": [
        {
          "output_type": "execute_result",
          "data": {
            "text/plain": [
              "3"
            ]
          },
          "metadata": {},
          "execution_count": 33
        }
      ]
    },
    {
      "cell_type": "code",
      "source": [
        "math.copysign(3,-2) #copia el signo de la variable sobre el valor de la primera"
      ],
      "metadata": {
        "colab": {
          "base_uri": "https://localhost:8080/"
        },
        "id": "ouNzcxBAJDbf",
        "outputId": "fe304fd2-0ef3-4a81-d0df-2214d91c6e40"
      },
      "execution_count": null,
      "outputs": [
        {
          "output_type": "execute_result",
          "data": {
            "text/plain": [
              "-3.0"
            ]
          },
          "metadata": {},
          "execution_count": 30
        }
      ]
    },
    {
      "cell_type": "code",
      "source": [
        "math.fabs(5)"
      ],
      "metadata": {
        "colab": {
          "base_uri": "https://localhost:8080/"
        },
        "id": "7S_qesCuJDYO",
        "outputId": "fcd11160-918d-4d11-d797-d7327edbb693"
      },
      "execution_count": null,
      "outputs": [
        {
          "output_type": "execute_result",
          "data": {
            "text/plain": [
              "5.0"
            ]
          },
          "metadata": {},
          "execution_count": 31
        }
      ]
    },
    {
      "cell_type": "code",
      "source": [
        "math.fabs(-5) #trabaja con el valor absoluto"
      ],
      "metadata": {
        "colab": {
          "base_uri": "https://localhost:8080/"
        },
        "id": "m9oPdl8OJDVH",
        "outputId": "de18cc0c-3bed-41ac-c4c1-b3e91bc0e4be"
      },
      "execution_count": null,
      "outputs": [
        {
          "output_type": "execute_result",
          "data": {
            "text/plain": [
              "5.0"
            ]
          },
          "metadata": {},
          "execution_count": 32
        }
      ]
    },
    {
      "cell_type": "code",
      "source": [
        "2**5 #un número elevado al otro"
      ],
      "metadata": {
        "colab": {
          "base_uri": "https://localhost:8080/"
        },
        "id": "_cpkMcyQJDSA",
        "outputId": "b156bc69-cab7-4271-9c40-d7d400f51e27"
      },
      "execution_count": null,
      "outputs": [
        {
          "output_type": "execute_result",
          "data": {
            "text/plain": [
              "32"
            ]
          },
          "metadata": {},
          "execution_count": 34
        }
      ]
    },
    {
      "cell_type": "code",
      "source": [
        "math.factorial(4) #factorial de un número"
      ],
      "metadata": {
        "id": "slAl8hx8JDO-",
        "colab": {
          "base_uri": "https://localhost:8080/"
        },
        "outputId": "8970703b-627b-4e7e-cf9f-c8cb995ee6b2"
      },
      "execution_count": 35,
      "outputs": [
        {
          "output_type": "execute_result",
          "data": {
            "text/plain": [
              "24"
            ]
          },
          "metadata": {},
          "execution_count": 35
        }
      ]
    },
    {
      "cell_type": "code",
      "source": [
        "x=5\n",
        "y=2\n",
        "math.factorial(x)/(math.factorial(y)*math.factorial(x-y))\n",
        "#Se puede trabajar operaciones pero la mejor librería en python para esto es scipy"
      ],
      "metadata": {
        "id": "KagIamAeJDLp",
        "colab": {
          "base_uri": "https://localhost:8080/"
        },
        "outputId": "6e46621a-bfd2-4ddb-d67a-186c8d6c355c"
      },
      "execution_count": 36,
      "outputs": [
        {
          "output_type": "execute_result",
          "data": {
            "text/plain": [
              "10.0"
            ]
          },
          "metadata": {},
          "execution_count": 36
        }
      ]
    },
    {
      "cell_type": "code",
      "source": [
        "math.fmod(7,3) \n",
        "#da el resto de la división\n",
        "#Se puede utilizar en números enteros y decimales"
      ],
      "metadata": {
        "id": "u5WurRkZJDIO",
        "colab": {
          "base_uri": "https://localhost:8080/"
        },
        "outputId": "5f7e3b1f-233f-4417-99ac-66fde242d6da"
      },
      "execution_count": 37,
      "outputs": [
        {
          "output_type": "execute_result",
          "data": {
            "text/plain": [
              "1.0"
            ]
          },
          "metadata": {},
          "execution_count": 37
        }
      ]
    },
    {
      "cell_type": "code",
      "source": [
        "7%3\n",
        "#solo cuando se utiliza en números enteros"
      ],
      "metadata": {
        "id": "d1XSTWVjJDE7",
        "colab": {
          "base_uri": "https://localhost:8080/"
        },
        "outputId": "9c0b22ea-bdba-4385-8d28-39f2eb1d1ce3"
      },
      "execution_count": 38,
      "outputs": [
        {
          "output_type": "execute_result",
          "data": {
            "text/plain": [
              "1"
            ]
          },
          "metadata": {},
          "execution_count": 38
        }
      ]
    },
    {
      "cell_type": "code",
      "source": [
        "7//3 #da el resto de la división en números enteros"
      ],
      "metadata": {
        "id": "huL8BiH9JDBX",
        "colab": {
          "base_uri": "https://localhost:8080/"
        },
        "outputId": "6b93d97f-32f5-4990-c1c7-f27d8841ca5c"
      },
      "execution_count": 40,
      "outputs": [
        {
          "output_type": "execute_result",
          "data": {
            "text/plain": [
              "2"
            ]
          },
          "metadata": {},
          "execution_count": 40
        }
      ]
    },
    {
      "cell_type": "code",
      "source": [
        "math.remainder(7,3)"
      ],
      "metadata": {
        "id": "_swHr13VJC9f",
        "colab": {
          "base_uri": "https://localhost:8080/"
        },
        "outputId": "3b67fe16-93a8-4b63-9464-cd4b972abc95"
      },
      "execution_count": 41,
      "outputs": [
        {
          "output_type": "execute_result",
          "data": {
            "text/plain": [
              "1.0"
            ]
          },
          "metadata": {},
          "execution_count": 41
        }
      ]
    },
    {
      "cell_type": "code",
      "source": [
        "math.modf(4.25)\n",
        "#Separa la parte entera de la decimal"
      ],
      "metadata": {
        "colab": {
          "base_uri": "https://localhost:8080/"
        },
        "id": "4GeXtCjrPFyO",
        "outputId": "02aa713c-f3fd-4f17-de19-661f1bc82a32"
      },
      "execution_count": 42,
      "outputs": [
        {
          "output_type": "execute_result",
          "data": {
            "text/plain": [
              "(0.25, 4.0)"
            ]
          },
          "metadata": {},
          "execution_count": 42
        }
      ]
    },
    {
      "cell_type": "code",
      "source": [
        "math.gcd(24,36)\n",
        "#Máximo común divisor"
      ],
      "metadata": {
        "id": "dtPZ9kljJC3e",
        "colab": {
          "base_uri": "https://localhost:8080/"
        },
        "outputId": "6977b27a-015a-40eb-b406-1d9c1c100527"
      },
      "execution_count": 43,
      "outputs": [
        {
          "output_type": "execute_result",
          "data": {
            "text/plain": [
              "12"
            ]
          },
          "metadata": {},
          "execution_count": 43
        }
      ]
    },
    {
      "cell_type": "code",
      "source": [
        "math.isfinite(2.5) \n",
        "#comprueba si un número es finito"
      ],
      "metadata": {
        "colab": {
          "base_uri": "https://localhost:8080/"
        },
        "id": "d0DDRGVpNGX3",
        "outputId": "a863e061-5a11-4ec3-d207-b578d0f350ce"
      },
      "execution_count": 44,
      "outputs": [
        {
          "output_type": "execute_result",
          "data": {
            "text/plain": [
              "True"
            ]
          },
          "metadata": {},
          "execution_count": 44
        }
      ]
    },
    {
      "cell_type": "code",
      "source": [
        "math.isinf(4.6)\n",
        "#comprueba si un número es infinito"
      ],
      "metadata": {
        "colab": {
          "base_uri": "https://localhost:8080/"
        },
        "id": "o7LuwZAxNGUa",
        "outputId": "7a0c0987-1b46-4cfd-bba9-eb3bb625bcf3"
      },
      "execution_count": 45,
      "outputs": [
        {
          "output_type": "execute_result",
          "data": {
            "text/plain": [
              "False"
            ]
          },
          "metadata": {},
          "execution_count": 45
        }
      ]
    },
    {
      "cell_type": "code",
      "source": [
        "math.isnan(4.5)\n",
        "#comprueba si un número es nan"
      ],
      "metadata": {
        "colab": {
          "base_uri": "https://localhost:8080/"
        },
        "id": "-6nrNIUjNGQ3",
        "outputId": "5b918533-cf95-4289-924f-c3e115a97005"
      },
      "execution_count": 46,
      "outputs": [
        {
          "output_type": "execute_result",
          "data": {
            "text/plain": [
              "False"
            ]
          },
          "metadata": {},
          "execution_count": 46
        }
      ]
    },
    {
      "cell_type": "code",
      "source": [
        "math.sqrt(2)**2==2\n",
        "#elevar a la potencia un número, == demuestra igualdad"
      ],
      "metadata": {
        "colab": {
          "base_uri": "https://localhost:8080/"
        },
        "id": "DjwB3LFRNGNj",
        "outputId": "4f3ca6ea-9c89-48f5-a94d-df7ffbf501ad"
      },
      "execution_count": 47,
      "outputs": [
        {
          "output_type": "execute_result",
          "data": {
            "text/plain": [
              "False"
            ]
          },
          "metadata": {},
          "execution_count": 47
        }
      ]
    },
    {
      "cell_type": "code",
      "source": [
        "math.isclose(math.sqrt(2)**2,2, rel_tol=1e-09)\n",
        "#calcular el valor de un número aproximado, rel_tol es la tolerancia, en este caso a 9 dígitos"
      ],
      "metadata": {
        "colab": {
          "base_uri": "https://localhost:8080/"
        },
        "id": "Z_KBgn4jNGKL",
        "outputId": "6dc314fd-5d02-4be2-89d5-8da75c26efe4"
      },
      "execution_count": 50,
      "outputs": [
        {
          "output_type": "execute_result",
          "data": {
            "text/plain": [
              "True"
            ]
          },
          "metadata": {},
          "execution_count": 50
        }
      ]
    },
    {
      "cell_type": "markdown",
      "source": [
        "# **Operaciones de entrada y salida de datos** *(Input, output)*"
      ],
      "metadata": {
        "id": "c1lj2FuPSPPR"
      }
    },
    {
      "cell_type": "code",
      "source": [
        "print(\"Hola, soy Jeanett Valladares\")"
      ],
      "metadata": {
        "colab": {
          "base_uri": "https://localhost:8080/"
        },
        "id": "7UE6EdxMSOed",
        "outputId": "d379fbfe-4e23-4ac2-e2e2-562cb01b3fdb"
      },
      "execution_count": 51,
      "outputs": [
        {
          "output_type": "stream",
          "name": "stdout",
          "text": [
            "Hola, soy Jeanett Valladares\n"
          ]
        }
      ]
    },
    {
      "cell_type": "code",
      "source": [
        "x=5\n",
        "print(x)"
      ],
      "metadata": {
        "colab": {
          "base_uri": "https://localhost:8080/"
        },
        "id": "-pcotiVsNGGn",
        "outputId": "4b1e7303-2858-4cb9-d7ca-4144b2e8b564"
      },
      "execution_count": 55,
      "outputs": [
        {
          "output_type": "stream",
          "name": "stdout",
          "text": [
            "5\n"
          ]
        }
      ]
    },
    {
      "cell_type": "code",
      "source": [
        "print(\"El valor de la variable x es: \"+ str(x))\n",
        "# str() transforma un número a string y así se puede concatenar"
      ],
      "metadata": {
        "colab": {
          "base_uri": "https://localhost:8080/"
        },
        "id": "QwEkXFyVNGDD",
        "outputId": "3d2d3f3d-7296-42f7-806b-6cd060561841"
      },
      "execution_count": 56,
      "outputs": [
        {
          "output_type": "stream",
          "name": "stdout",
          "text": [
            "El valor de la variable x es: 5\n"
          ]
        }
      ]
    },
    {
      "cell_type": "code",
      "source": [
        "x=\"h\""
      ],
      "metadata": {
        "id": "hb3EZYAqWBNK"
      },
      "execution_count": 67,
      "outputs": []
    },
    {
      "cell_type": "code",
      "source": [
        "print(\"El valor de la variable x es: \" + x)\n",
        "# como todos los valores son de tipo string (texto) no es necesario cambiar y se puede concaternar sin ningún problema"
      ],
      "metadata": {
        "colab": {
          "base_uri": "https://localhost:8080/"
        },
        "id": "oLVYBQUQWD1O",
        "outputId": "58440dd6-c7ff-4426-8440-d1ebfb0efe1d"
      },
      "execution_count": 69,
      "outputs": [
        {
          "output_type": "stream",
          "name": "stdout",
          "text": [
            "El valor de la variable x es: h\n"
          ]
        }
      ]
    },
    {
      "cell_type": "code",
      "source": [
        "texto = input(\"Introduce aquí tu nombre: \")\n",
        "#inserta números en str"
      ],
      "metadata": {
        "colab": {
          "base_uri": "https://localhost:8080/"
        },
        "id": "XjfXxYKyNF_H",
        "outputId": "55768a7d-8365-4f34-ae0a-62f7e460edcb"
      },
      "execution_count": 59,
      "outputs": [
        {
          "name": "stdout",
          "output_type": "stream",
          "text": [
            "Introduce aquí tu nombre: Jeanett\n"
          ]
        }
      ]
    },
    {
      "cell_type": "code",
      "source": [
        "texto"
      ],
      "metadata": {
        "colab": {
          "base_uri": "https://localhost:8080/",
          "height": 35
        },
        "id": "6Uf2rS8bNF7r",
        "outputId": "fa077d04-4913-480d-a3b8-8b922d24b008"
      },
      "execution_count": 60,
      "outputs": [
        {
          "output_type": "execute_result",
          "data": {
            "text/plain": [
              "'Jeanett'"
            ],
            "application/vnd.google.colaboratory.intrinsic+json": {
              "type": "string"
            }
          },
          "metadata": {},
          "execution_count": 60
        }
      ]
    },
    {
      "cell_type": "code",
      "source": [
        "numero = int(input(\"Introduce aquí tu edad: \"))\n",
        "#int para que el valor resultante salga tipo númerico"
      ],
      "metadata": {
        "colab": {
          "base_uri": "https://localhost:8080/"
        },
        "id": "twPpQoK0VHBJ",
        "outputId": "ad9fec2f-2d53-4b63-ed29-9c73487a72ff"
      },
      "execution_count": 64,
      "outputs": [
        {
          "name": "stdout",
          "output_type": "stream",
          "text": [
            "Introduce aquí tu edad: 26\n"
          ]
        }
      ]
    },
    {
      "cell_type": "code",
      "source": [
        "numero"
      ],
      "metadata": {
        "colab": {
          "base_uri": "https://localhost:8080/"
        },
        "id": "WVCtsw5bVG91",
        "outputId": "a06a1070-bece-4e68-98ea-439282a40935"
      },
      "execution_count": 65,
      "outputs": [
        {
          "output_type": "execute_result",
          "data": {
            "text/plain": [
              "26"
            ]
          },
          "metadata": {},
          "execution_count": 65
        }
      ]
    },
    {
      "cell_type": "code",
      "source": [
        "2*numero+5"
      ],
      "metadata": {
        "colab": {
          "base_uri": "https://localhost:8080/"
        },
        "id": "mcsqnrMMVG6u",
        "outputId": "66543994-5ace-47e8-c358-f50339a41512"
      },
      "execution_count": 66,
      "outputs": [
        {
          "output_type": "execute_result",
          "data": {
            "text/plain": [
              "57"
            ]
          },
          "metadata": {},
          "execution_count": 66
        }
      ]
    },
    {
      "cell_type": "markdown",
      "source": [
        "# **Operadores de decisión**"
      ],
      "metadata": {
        "id": "vcMyZhJAWWQg"
      }
    },
    {
      "cell_type": "markdown",
      "source": [
        "En la condición boleana es importante los tabuladores\n",
        "\n",
        "si condición booleana:\n",
        "    código que se ejecuta si la condición es verdad\n",
        "    ..\n",
        "    ..\n",
        "    ..\n",
        "siguiente código que se ejecuta siempre"
      ],
      "metadata": {
        "id": "Ut7sEdOdecqR"
      }
    },
    {
      "cell_type": "code",
      "source": [
        "x = int(input(\"Escribe un número: \"))"
      ],
      "metadata": {
        "colab": {
          "base_uri": "https://localhost:8080/"
        },
        "id": "evkIHoUkVG3w",
        "outputId": "77a477ec-5b95-4bd6-8f44-587fc756be6c"
      },
      "execution_count": 78,
      "outputs": [
        {
          "name": "stdout",
          "output_type": "stream",
          "text": [
            "Escribe un número: 12\n"
          ]
        }
      ]
    },
    {
      "cell_type": "code",
      "source": [
        "if x==5:\n",
        "  print(\"Has escrito el número 5\")\n",
        "#Se usa if para comprobar una condición"
      ],
      "metadata": {
        "id": "IsPqi6PXVG0u"
      },
      "execution_count": 79,
      "outputs": []
    },
    {
      "cell_type": "code",
      "source": [
        "x = int(input(\"Escribe un número: \"))\n",
        "if x<5:\n",
        "  print(\"Has escrito un número menor que 5\")\n",
        "elif x<10:\n",
        "  print(\"Has escrito un número menor que 10 y mayor o igual a 5\")\n",
        "else:\n",
        "  print(\"El número que has escrito es mayor o igual que 10\")\n",
        "#Se usa elif para comprobar otra condición aparte del if y else para poner un caso por defecto"
      ],
      "metadata": {
        "colab": {
          "base_uri": "https://localhost:8080/"
        },
        "id": "illXAP06VGxv",
        "outputId": "6109f9e1-a02e-412d-ec01-2fb675027cae"
      },
      "execution_count": 83,
      "outputs": [
        {
          "output_type": "stream",
          "name": "stdout",
          "text": [
            "Escribe un número: 3\n",
            "Has escrito un número menor que 5\n"
          ]
        }
      ]
    },
    {
      "cell_type": "code",
      "source": [
        "x = int(input(\"Escribe un número: \"))\n",
        "if x>0 and x<10:\n",
        "  print(\"Has escrito un número en el rango de [0,10]\")\n",
        "#AND es un operador en donde ambos valores deben ser verdaderos para que funcione"
      ],
      "metadata": {
        "colab": {
          "base_uri": "https://localhost:8080/"
        },
        "id": "A5xSWArdVGuo",
        "outputId": "b6534bb6-82de-433d-92fd-67aade476626"
      },
      "execution_count": 85,
      "outputs": [
        {
          "name": "stdout",
          "output_type": "stream",
          "text": [
            "Escribe un número: 15\n"
          ]
        }
      ]
    },
    {
      "cell_type": "code",
      "source": [
        "x = int(input(\"Escribe un número: \"))\n",
        "if x<0 or x>10:\n",
        "  print(\"Tu número escrito no se encuentra dentro del rango [0,10]\")\n",
        "#OR es un operador en donde uno de los valores debe ser verdadero para que funcione"
      ],
      "metadata": {
        "colab": {
          "base_uri": "https://localhost:8080/"
        },
        "id": "vLF6pCd5VGrl",
        "outputId": "5f0f6f93-946e-4e73-86a9-6a43fa15bf33"
      },
      "execution_count": 87,
      "outputs": [
        {
          "output_type": "stream",
          "name": "stdout",
          "text": [
            "Escribe un número: 11\n",
            "Tu número escrito no se encuentra dentro del rango [0,10]\n"
          ]
        }
      ]
    },
    {
      "cell_type": "markdown",
      "source": [
        "# **Funciones matemáticas**"
      ],
      "metadata": {
        "id": "x-L8Y1yU8Eie"
      }
    },
    {
      "cell_type": "code",
      "source": [
        "math.exp(3)\n",
        "#Representa el valor de exponencial de \"e\" elevado a un número"
      ],
      "metadata": {
        "colab": {
          "base_uri": "https://localhost:8080/"
        },
        "id": "PY0JZLl2VGil",
        "outputId": "e1f86a9e-1db0-4ebf-f601-e11324c5ffec"
      },
      "execution_count": 88,
      "outputs": [
        {
          "output_type": "execute_result",
          "data": {
            "text/plain": [
              "20.085536923187668"
            ]
          },
          "metadata": {},
          "execution_count": 88
        }
      ]
    },
    {
      "cell_type": "code",
      "source": [
        "math.e**3"
      ],
      "metadata": {
        "colab": {
          "base_uri": "https://localhost:8080/"
        },
        "id": "CPD1A6hK8ohH",
        "outputId": "d7d49efa-7062-4fc5-db3e-846110d3d828"
      },
      "execution_count": 89,
      "outputs": [
        {
          "output_type": "execute_result",
          "data": {
            "text/plain": [
              "20.085536923187664"
            ]
          },
          "metadata": {},
          "execution_count": 89
        }
      ]
    },
    {
      "cell_type": "code",
      "source": [
        "math.pow(math.e,3)\n",
        "#El doble asterisco es equivalente a pow"
      ],
      "metadata": {
        "colab": {
          "base_uri": "https://localhost:8080/"
        },
        "id": "7R3I4tiI8od3",
        "outputId": "a4577b9b-23a9-4534-bc6a-c14852f7161c"
      },
      "execution_count": 90,
      "outputs": [
        {
          "output_type": "execute_result",
          "data": {
            "text/plain": [
              "20.085536923187664"
            ]
          },
          "metadata": {},
          "execution_count": 90
        }
      ]
    },
    {
      "cell_type": "code",
      "source": [
        "math.expm1(1)\n",
        "#Calcula la exponencial menos 1, de un número"
      ],
      "metadata": {
        "colab": {
          "base_uri": "https://localhost:8080/"
        },
        "id": "TKWF2sly8oau",
        "outputId": "ab8438e8-cbe7-48c0-8905-5d3e2730d3e2"
      },
      "execution_count": 94,
      "outputs": [
        {
          "output_type": "execute_result",
          "data": {
            "text/plain": [
              "1.718281828459045"
            ]
          },
          "metadata": {},
          "execution_count": 94
        }
      ]
    },
    {
      "cell_type": "code",
      "source": [
        "math.exp(1)-1"
      ],
      "metadata": {
        "colab": {
          "base_uri": "https://localhost:8080/"
        },
        "id": "Yn1BLp6S8oXd",
        "outputId": "4d9cd25c-2bf7-43bd-88c0-deea57d29a43"
      },
      "execution_count": 95,
      "outputs": [
        {
          "output_type": "execute_result",
          "data": {
            "text/plain": [
              "1.718281828459045"
            ]
          },
          "metadata": {},
          "execution_count": 95
        }
      ]
    },
    {
      "cell_type": "code",
      "source": [
        "math.exp(1e-05)-1"
      ],
      "metadata": {
        "colab": {
          "base_uri": "https://localhost:8080/"
        },
        "id": "d-3SuBcw8oT-",
        "outputId": "25b021f7-1097-43bb-c64a-18451ee49bda"
      },
      "execution_count": 96,
      "outputs": [
        {
          "output_type": "execute_result",
          "data": {
            "text/plain": [
              "1.0000050000069649e-05"
            ]
          },
          "metadata": {},
          "execution_count": 96
        }
      ]
    },
    {
      "cell_type": "markdown",
      "source": [
        "Cuando se reste 1, es mejor utilizar la función expm1, para obtener la precisión de 16 digitos"
      ],
      "metadata": {
        "id": "NwIoRxkn9o8O"
      }
    },
    {
      "cell_type": "code",
      "source": [
        "math.log(12)\n",
        "#logaritmos neperiano"
      ],
      "metadata": {
        "colab": {
          "base_uri": "https://localhost:8080/"
        },
        "id": "JnhmnSzD8oQj",
        "outputId": "f4f7e7cf-0672-4b92-b577-aaa042d5e78b"
      },
      "execution_count": 97,
      "outputs": [
        {
          "output_type": "execute_result",
          "data": {
            "text/plain": [
              "2.4849066497880004"
            ]
          },
          "metadata": {},
          "execution_count": 97
        }
      ]
    },
    {
      "cell_type": "code",
      "source": [
        "math.log(12,2)\n",
        "#En este caso el logaritmo está en base 2"
      ],
      "metadata": {
        "colab": {
          "base_uri": "https://localhost:8080/"
        },
        "id": "uhRckNKn8oNx",
        "outputId": "38ff2bd3-c8e5-4b1c-daad-a33b95a42527"
      },
      "execution_count": 100,
      "outputs": [
        {
          "output_type": "execute_result",
          "data": {
            "text/plain": [
              "3.5849625007211565"
            ]
          },
          "metadata": {},
          "execution_count": 100
        }
      ]
    },
    {
      "cell_type": "code",
      "source": [
        "math.log1p(1e-5)\n",
        "#Mejor precisión y logaritmos neperiano de 1 + x"
      ],
      "metadata": {
        "colab": {
          "base_uri": "https://localhost:8080/"
        },
        "id": "8ixHQZoB8oKR",
        "outputId": "86111a50-a6dd-4dc3-d8db-418cc50a7f1d"
      },
      "execution_count": 99,
      "outputs": [
        {
          "output_type": "execute_result",
          "data": {
            "text/plain": [
              "9.999950000333332e-06"
            ]
          },
          "metadata": {},
          "execution_count": 99
        }
      ]
    },
    {
      "cell_type": "code",
      "source": [
        "math.log2(32)"
      ],
      "metadata": {
        "colab": {
          "base_uri": "https://localhost:8080/"
        },
        "id": "ksop5wDs8oHO",
        "outputId": "4f0419e1-1b61-45a7-fecb-1a5f9c59872d"
      },
      "execution_count": 102,
      "outputs": [
        {
          "output_type": "execute_result",
          "data": {
            "text/plain": [
              "5.0"
            ]
          },
          "metadata": {},
          "execution_count": 102
        }
      ]
    },
    {
      "cell_type": "code",
      "source": [
        "math.log10(1000000)"
      ],
      "metadata": {
        "colab": {
          "base_uri": "https://localhost:8080/"
        },
        "id": "J31BE6su8oED",
        "outputId": "d3d21ef0-c423-45d6-bda0-becfb060657c"
      },
      "execution_count": 103,
      "outputs": [
        {
          "output_type": "execute_result",
          "data": {
            "text/plain": [
              "6.0"
            ]
          },
          "metadata": {},
          "execution_count": 103
        }
      ]
    },
    {
      "cell_type": "code",
      "source": [
        "math.sqrt(64)"
      ],
      "metadata": {
        "colab": {
          "base_uri": "https://localhost:8080/"
        },
        "id": "vrT37AUo8oA6",
        "outputId": "a82c2dde-3458-4bd8-f313-01f7e664a90b"
      },
      "execution_count": 104,
      "outputs": [
        {
          "output_type": "execute_result",
          "data": {
            "text/plain": [
              "8.0"
            ]
          },
          "metadata": {},
          "execution_count": 104
        }
      ]
    },
    {
      "cell_type": "markdown",
      "source": [
        "*Funciones trigonométricas*"
      ],
      "metadata": {
        "id": "zC25i2G8_hbG"
      }
    },
    {
      "cell_type": "code",
      "source": [
        "math.sin(180)\n",
        "#cuando se coloca un valor, se debe considerar en radianes, en este caso son 180 radianes"
      ],
      "metadata": {
        "colab": {
          "base_uri": "https://localhost:8080/"
        },
        "id": "FZyZOwK08n9n",
        "outputId": "a761d79a-9474-41c6-dbfe-92dc989a8571"
      },
      "execution_count": 105,
      "outputs": [
        {
          "output_type": "execute_result",
          "data": {
            "text/plain": [
              "-0.8011526357338304"
            ]
          },
          "metadata": {},
          "execution_count": 105
        }
      ]
    },
    {
      "cell_type": "code",
      "source": [
        "math.cos(math.pi)"
      ],
      "metadata": {
        "colab": {
          "base_uri": "https://localhost:8080/"
        },
        "id": "DCDepanb8n5-",
        "outputId": "fb8efd37-2a39-433e-baeb-3571036955b1"
      },
      "execution_count": 106,
      "outputs": [
        {
          "output_type": "execute_result",
          "data": {
            "text/plain": [
              "-1.0"
            ]
          },
          "metadata": {},
          "execution_count": 106
        }
      ]
    },
    {
      "cell_type": "code",
      "source": [
        "math.tan(math.pi/2)"
      ],
      "metadata": {
        "colab": {
          "base_uri": "https://localhost:8080/"
        },
        "id": "qvZENPsV_gmO",
        "outputId": "d14e925c-57fe-44a9-d587-370d7df1a14d"
      },
      "execution_count": 107,
      "outputs": [
        {
          "output_type": "execute_result",
          "data": {
            "text/plain": [
              "1.633123935319537e+16"
            ]
          },
          "metadata": {},
          "execution_count": 107
        }
      ]
    },
    {
      "cell_type": "code",
      "source": [
        "math.asin(1)"
      ],
      "metadata": {
        "colab": {
          "base_uri": "https://localhost:8080/"
        },
        "id": "eieqEb5w_gjJ",
        "outputId": "cdfc8642-ac18-4920-a447-2d1cd91d0778"
      },
      "execution_count": 108,
      "outputs": [
        {
          "output_type": "execute_result",
          "data": {
            "text/plain": [
              "1.5707963267948966"
            ]
          },
          "metadata": {},
          "execution_count": 108
        }
      ]
    },
    {
      "cell_type": "code",
      "source": [
        "math.acos(1)"
      ],
      "metadata": {
        "colab": {
          "base_uri": "https://localhost:8080/"
        },
        "id": "3IZI5M9L_gf_",
        "outputId": "063b43b1-925d-46ff-95c9-6589d259499f"
      },
      "execution_count": 109,
      "outputs": [
        {
          "output_type": "execute_result",
          "data": {
            "text/plain": [
              "0.0"
            ]
          },
          "metadata": {},
          "execution_count": 109
        }
      ]
    },
    {
      "cell_type": "code",
      "source": [
        "math.atan(1)"
      ],
      "metadata": {
        "colab": {
          "base_uri": "https://localhost:8080/"
        },
        "id": "cAHUwE0j_gct",
        "outputId": "bd98e77b-5f95-4ccb-adc5-68f0ee773d36"
      },
      "execution_count": 110,
      "outputs": [
        {
          "output_type": "execute_result",
          "data": {
            "text/plain": [
              "0.7853981633974483"
            ]
          },
          "metadata": {},
          "execution_count": 110
        }
      ]
    },
    {
      "cell_type": "code",
      "source": [
        "math.degrees(0.7853981633974483)\n",
        "#Convierte de radianes a grados"
      ],
      "metadata": {
        "colab": {
          "base_uri": "https://localhost:8080/"
        },
        "id": "fnCDEDYf_gZe",
        "outputId": "4d05ced9-9d01-4c06-cad0-5a53e64a69ed"
      },
      "execution_count": 111,
      "outputs": [
        {
          "output_type": "execute_result",
          "data": {
            "text/plain": [
              "45.0"
            ]
          },
          "metadata": {},
          "execution_count": 111
        }
      ]
    },
    {
      "cell_type": "code",
      "source": [
        "math.radians(60)\n",
        "#Convertir de grados a radianes"
      ],
      "metadata": {
        "colab": {
          "base_uri": "https://localhost:8080/"
        },
        "id": "j-dRiqyh_gWi",
        "outputId": "47b8e67a-ee7d-4e8b-b91b-ef162aa02a19"
      },
      "execution_count": 112,
      "outputs": [
        {
          "output_type": "execute_result",
          "data": {
            "text/plain": [
              "1.0471975511965976"
            ]
          },
          "metadata": {},
          "execution_count": 112
        }
      ]
    },
    {
      "cell_type": "code",
      "source": [
        "math.cos(math.radians(60))"
      ],
      "metadata": {
        "colab": {
          "base_uri": "https://localhost:8080/"
        },
        "id": "Y05KkNgn_gTb",
        "outputId": "d57d242f-eaed-4dca-e1e1-a40cedc20dab"
      },
      "execution_count": 113,
      "outputs": [
        {
          "output_type": "execute_result",
          "data": {
            "text/plain": [
              "0.5000000000000001"
            ]
          },
          "metadata": {},
          "execution_count": 113
        }
      ]
    },
    {
      "cell_type": "code",
      "source": [],
      "metadata": {
        "id": "5kiPQZeO_gQj"
      },
      "execution_count": null,
      "outputs": []
    },
    {
      "cell_type": "code",
      "source": [],
      "metadata": {
        "id": "tyHa24D__gNH"
      },
      "execution_count": null,
      "outputs": []
    },
    {
      "cell_type": "code",
      "source": [],
      "metadata": {
        "id": "mC2t8bCk_gJ3"
      },
      "execution_count": null,
      "outputs": []
    },
    {
      "cell_type": "code",
      "source": [],
      "metadata": {
        "id": "u0O7MnaZ_gG4"
      },
      "execution_count": null,
      "outputs": []
    },
    {
      "cell_type": "code",
      "source": [],
      "metadata": {
        "id": "zd79SBlB_gD4"
      },
      "execution_count": null,
      "outputs": []
    },
    {
      "cell_type": "code",
      "source": [],
      "metadata": {
        "id": "FiSZr71U_gAn"
      },
      "execution_count": null,
      "outputs": []
    },
    {
      "cell_type": "code",
      "source": [],
      "metadata": {
        "id": "5mmmzd0U_f9X"
      },
      "execution_count": null,
      "outputs": []
    }
  ]
}