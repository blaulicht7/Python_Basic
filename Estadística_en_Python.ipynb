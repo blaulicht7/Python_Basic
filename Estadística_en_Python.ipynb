{
  "nbformat": 4,
  "nbformat_minor": 0,
  "metadata": {
    "colab": {
      "name": "Estadística en Python.ipynb",
      "provenance": [],
      "collapsed_sections": [],
      "authorship_tag": "ABX9TyP4kxrLUeHoYR9FN82VoAg5",
      "include_colab_link": true
    },
    "kernelspec": {
      "name": "python3",
      "display_name": "Python 3"
    },
    "language_info": {
      "name": "python"
    }
  },
  "cells": [
    {
      "cell_type": "markdown",
      "metadata": {
        "id": "view-in-github",
        "colab_type": "text"
      },
      "source": [
        "<a href=\"https://colab.research.google.com/github/blaulicht7/Python_Basic/blob/main/Estad%C3%ADstica_en_Python.ipynb\" target=\"_parent\"><img src=\"https://colab.research.google.com/assets/colab-badge.svg\" alt=\"Open In Colab\"/></a>"
      ]
    },
    {
      "cell_type": "markdown",
      "source": [
        "# **Estadística en Python**"
      ],
      "metadata": {
        "id": "Eb1RJoMQsMcP"
      }
    },
    {
      "cell_type": "markdown",
      "source": [
        "**Constantes en Python**"
      ],
      "metadata": {
        "id": "-DO5QNhpsT_-"
      }
    },
    {
      "cell_type": "markdown",
      "source": [
        "vvvvv"
      ],
      "metadata": {
        "id": "iV8j_MC_sYN2"
      }
    }
  ]
}