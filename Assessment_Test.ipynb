{
  "cells": [
    {
      "cell_type": "markdown",
      "metadata": {
        "id": "view-in-github",
        "colab_type": "text"
      },
      "source": [
        "<a href=\"https://colab.research.google.com/github/blaulicht7/Python_Basic/blob/main/Assessment_Test.ipynb\" target=\"_parent\"><img src=\"https://colab.research.google.com/assets/colab-badge.svg\" alt=\"Open In Colab\"/></a>"
      ]
    },
    {
      "cell_type": "markdown",
      "metadata": {
        "id": "nA4k5EmvpPEZ"
      },
      "source": [
        "___\n",
        "\n",
        "<a href='https://www.udemy.com/user/joseportilla/'><img src='https://github.com/blaulicht7/Complete-Python-3-Bootcamp/blob/master/Pierian_Data_Logo.png?raw=1'/></a>\n",
        "___\n",
        "<center><em>Content Copyright by Pierian Data</em></center>\n",
        "# Objects and Data Structures Assessment Test"
      ]
    },
    {
      "cell_type": "markdown",
      "metadata": {
        "collapsed": true,
        "id": "UdE_xDDJpPEc"
      },
      "source": [
        "## Test your knowledge. \n",
        "\n",
        "** Answer the following questions **"
      ]
    },
    {
      "cell_type": "markdown",
      "metadata": {
        "collapsed": true,
        "id": "vF28hQ91pPEc"
      },
      "source": [
        "Write (or just say out loud to yourself) a brief description of all the following Object Types and Data Structures we've learned about. You can edit the cell below by double clicking on it. Really this is just to test if you know the difference between these, so feel free to just think about it, since your answers are self-graded."
      ]
    },
    {
      "cell_type": "markdown",
      "metadata": {
        "id": "4nJY7K8upPEd"
      },
      "source": [
        "Double Click HERE to edit this markdown cell and write answers.\n",
        "\n",
        "Numbers: 23, 45, 36\n",
        "\n",
        "Strings: 'Hello', 'Orange'\n",
        "\n",
        "Lists: lists use ['1','2','3']\n",
        "\n",
        "Tuples: tuples use ('3', '4', '5')\n",
        "\n",
        "Dictionaries: use {'6', '7', '8'}\n"
      ]
    },
    {
      "cell_type": "markdown",
      "metadata": {
        "id": "ePd9plfipPEd"
      },
      "source": [
        "## Numbers\n",
        "\n",
        "Write an equation that uses multiplication, division, an exponent, addition, and subtraction that is equal to 100.25.\n",
        "\n",
        "Hint: This is just to test your memory of the basic arithmetic commands, work backwards from 100.25"
      ]
    },
    {
      "cell_type": "code",
      "execution_count": 2,
      "metadata": {
        "collapsed": true,
        "id": "TPzg5CTmpPEe",
        "colab": {
          "base_uri": "https://localhost:8080/"
        },
        "outputId": "160f34bd-0c96-4166-b581-a7d8a155e2ba"
      },
      "outputs": [
        {
          "output_type": "execute_result",
          "data": {
            "text/plain": [
              "100.25"
            ]
          },
          "metadata": {},
          "execution_count": 2
        }
      ],
      "source": [
        "1/4 + (40*3) + 6**2 - 56"
      ]
    },
    {
      "cell_type": "markdown",
      "metadata": {
        "id": "Y_565JeFpPEe"
      },
      "source": [
        "Answer these 3 questions without typing code. Then type code to check your answer.\n",
        "\n",
        "    What is the value of the expression 4 * (6 + 5) = 44\n",
        "    \n",
        "    What is the value of the expression 4 * 6 + 5 = 29\n",
        "    \n",
        "    What is the value of the expression 4 + 6 * 5 = 34"
      ]
    },
    {
      "cell_type": "code",
      "execution_count": 4,
      "metadata": {
        "collapsed": true,
        "id": "nuuiLnF6pPEf",
        "colab": {
          "base_uri": "https://localhost:8080/"
        },
        "outputId": "51b5d775-372d-4c56-89c5-5ac8741f1fb7"
      },
      "outputs": [
        {
          "output_type": "execute_result",
          "data": {
            "text/plain": [
              "44"
            ]
          },
          "metadata": {},
          "execution_count": 4
        }
      ],
      "source": [
        "4*(6+5)"
      ]
    },
    {
      "cell_type": "code",
      "source": [
        "4*6+5"
      ],
      "metadata": {
        "colab": {
          "base_uri": "https://localhost:8080/"
        },
        "id": "27gSGxVCrRSx",
        "outputId": "a5a1e4cb-d994-467a-9764-6bcf08b1ec23"
      },
      "execution_count": 5,
      "outputs": [
        {
          "output_type": "execute_result",
          "data": {
            "text/plain": [
              "29"
            ]
          },
          "metadata": {},
          "execution_count": 5
        }
      ]
    },
    {
      "cell_type": "code",
      "source": [
        "4+6*5"
      ],
      "metadata": {
        "colab": {
          "base_uri": "https://localhost:8080/"
        },
        "id": "FU6INejdrRIp",
        "outputId": "6e227adc-f898-48e1-d1aa-f60c16b673ba"
      },
      "execution_count": 6,
      "outputs": [
        {
          "output_type": "execute_result",
          "data": {
            "text/plain": [
              "34"
            ]
          },
          "metadata": {},
          "execution_count": 6
        }
      ]
    },
    {
      "cell_type": "markdown",
      "metadata": {
        "id": "3_uw5CpkpPEg"
      },
      "source": [
        "What is the *type* of the result of the expression 3 + 1.5 + 4?<br><br>\n",
        "*The type is float*"
      ]
    },
    {
      "cell_type": "code",
      "source": [
        "type(3+1.5+4)"
      ],
      "metadata": {
        "colab": {
          "base_uri": "https://localhost:8080/"
        },
        "id": "sQcLC0farf66",
        "outputId": "4d43863c-80ac-45f7-9f41-3aafa1bccf62"
      },
      "execution_count": 7,
      "outputs": [
        {
          "output_type": "execute_result",
          "data": {
            "text/plain": [
              "float"
            ]
          },
          "metadata": {},
          "execution_count": 7
        }
      ]
    },
    {
      "cell_type": "markdown",
      "metadata": {
        "id": "zatHy3sBpPEg"
      },
      "source": [
        "What would you use to find a number’s square root, as well as its square? "
      ]
    },
    {
      "cell_type": "code",
      "execution_count": 13,
      "metadata": {
        "collapsed": true,
        "id": "SrfwR7YkpPEh",
        "colab": {
          "base_uri": "https://localhost:8080/"
        },
        "outputId": "ab5703db-468a-41a6-e998-8f6702f39ac7"
      },
      "outputs": [
        {
          "output_type": "execute_result",
          "data": {
            "text/plain": [
              "6.0"
            ]
          },
          "metadata": {},
          "execution_count": 13
        }
      ],
      "source": [
        "# Square root: **(0.5)\n",
        "36**0.5\n"
      ]
    },
    {
      "cell_type": "code",
      "execution_count": 9,
      "metadata": {
        "collapsed": true,
        "id": "8l4VYIZVpPEh",
        "colab": {
          "base_uri": "https://localhost:8080/"
        },
        "outputId": "455ce422-6b78-4701-9d23-145529ee4c42"
      },
      "outputs": [
        {
          "output_type": "execute_result",
          "data": {
            "text/plain": [
              "36"
            ]
          },
          "metadata": {},
          "execution_count": 9
        }
      ],
      "source": [
        "# Square: **\n",
        "6**2\n"
      ]
    },
    {
      "cell_type": "markdown",
      "metadata": {
        "id": "3Q_1qQNTpPEi"
      },
      "source": [
        "## Strings"
      ]
    },
    {
      "cell_type": "markdown",
      "metadata": {
        "id": "aeTOZqZFpPEi"
      },
      "source": [
        "Given the string 'hello' give an index command that returns 'e'. Enter your code in the cell below:"
      ]
    },
    {
      "cell_type": "code",
      "execution_count": 14,
      "metadata": {
        "collapsed": true,
        "id": "Ce_nTOqFpPEi",
        "colab": {
          "base_uri": "https://localhost:8080/",
          "height": 35
        },
        "outputId": "4995ea35-0ad4-4150-84e2-021db4d42e21"
      },
      "outputs": [
        {
          "output_type": "execute_result",
          "data": {
            "text/plain": [
              "'e'"
            ],
            "application/vnd.google.colaboratory.intrinsic+json": {
              "type": "string"
            }
          },
          "metadata": {},
          "execution_count": 14
        }
      ],
      "source": [
        "s = 'hello'\n",
        "# Print out 'e' using indexing\n",
        "\n",
        "s[1]"
      ]
    },
    {
      "cell_type": "markdown",
      "metadata": {
        "id": "mxXcQiuppPEj"
      },
      "source": [
        "Reverse the string 'hello' using slicing:"
      ]
    },
    {
      "cell_type": "code",
      "execution_count": 19,
      "metadata": {
        "collapsed": true,
        "id": "r-DXS1JlpPEj",
        "colab": {
          "base_uri": "https://localhost:8080/",
          "height": 35
        },
        "outputId": "0f8df867-d6fd-46d8-dfb4-cb166765bf9b"
      },
      "outputs": [
        {
          "output_type": "execute_result",
          "data": {
            "text/plain": [
              "'olleh'"
            ],
            "application/vnd.google.colaboratory.intrinsic+json": {
              "type": "string"
            }
          },
          "metadata": {},
          "execution_count": 19
        }
      ],
      "source": [
        "s ='hello'\n",
        "# Reverse the string using slicing\n",
        "s[::-1]"
      ]
    },
    {
      "cell_type": "markdown",
      "metadata": {
        "id": "Dx8uhTKJpPEj"
      },
      "source": [
        "Given the string hello, give two methods of producing the letter 'o' using indexing."
      ]
    },
    {
      "cell_type": "code",
      "execution_count": 17,
      "metadata": {
        "collapsed": true,
        "id": "4QIia33SpPEj",
        "colab": {
          "base_uri": "https://localhost:8080/",
          "height": 35
        },
        "outputId": "81214e7b-3bc6-4dd9-8070-b49385696ae7"
      },
      "outputs": [
        {
          "output_type": "execute_result",
          "data": {
            "text/plain": [
              "'o'"
            ],
            "application/vnd.google.colaboratory.intrinsic+json": {
              "type": "string"
            }
          },
          "metadata": {},
          "execution_count": 17
        }
      ],
      "source": [
        "s ='hello'\n",
        "# Print out the 'o'\n",
        "\n",
        "# Method 1:\n",
        "s[-1]"
      ]
    },
    {
      "cell_type": "code",
      "execution_count": 18,
      "metadata": {
        "collapsed": true,
        "id": "O1YyUAKSpPEk",
        "colab": {
          "base_uri": "https://localhost:8080/",
          "height": 35
        },
        "outputId": "7a707379-96d6-4700-d82d-48c94a4316d2"
      },
      "outputs": [
        {
          "output_type": "execute_result",
          "data": {
            "text/plain": [
              "'o'"
            ],
            "application/vnd.google.colaboratory.intrinsic+json": {
              "type": "string"
            }
          },
          "metadata": {},
          "execution_count": 18
        }
      ],
      "source": [
        "# Method 2:\n",
        "s[4]"
      ]
    },
    {
      "cell_type": "markdown",
      "metadata": {
        "id": "6hYQz-a6pPEk"
      },
      "source": [
        "## Lists"
      ]
    },
    {
      "cell_type": "markdown",
      "metadata": {
        "id": "dbIURgIPpPEk"
      },
      "source": [
        "Build this list [0,0,0] two separate ways."
      ]
    },
    {
      "cell_type": "code",
      "execution_count": 23,
      "metadata": {
        "collapsed": true,
        "id": "OXw6MN6GpPEk",
        "colab": {
          "base_uri": "https://localhost:8080/"
        },
        "outputId": "c6a8d786-3b4a-437f-b820-b577bed067ae"
      },
      "outputs": [
        {
          "output_type": "execute_result",
          "data": {
            "text/plain": [
              "[0, 0, 0]"
            ]
          },
          "metadata": {},
          "execution_count": 23
        }
      ],
      "source": [
        "# Method 1:\n",
        "mylist = [0,0,0]\n",
        "mylist"
      ]
    },
    {
      "cell_type": "code",
      "execution_count": 24,
      "metadata": {
        "collapsed": true,
        "id": "H8U1QL9WpPEl",
        "colab": {
          "base_uri": "https://localhost:8080/"
        },
        "outputId": "9a01a467-2a5e-4ce3-d436-b92f04a155ad"
      },
      "outputs": [
        {
          "output_type": "execute_result",
          "data": {
            "text/plain": [
              "[0, 0, 0]"
            ]
          },
          "metadata": {},
          "execution_count": 24
        }
      ],
      "source": [
        "# Method 2:\n",
        "a = [0,0]\n",
        "b = [0]\n",
        "x = a + b\n",
        "x"
      ]
    },
    {
      "cell_type": "markdown",
      "metadata": {
        "id": "xRHQbxRspPEl"
      },
      "source": [
        "Reassign 'hello' in this nested list to say 'goodbye' instead:"
      ]
    },
    {
      "cell_type": "code",
      "execution_count": 26,
      "metadata": {
        "collapsed": true,
        "id": "AEIaQEnWpPEl",
        "colab": {
          "base_uri": "https://localhost:8080/"
        },
        "outputId": "5180acb5-3a01-45d9-d17a-299b3b854597"
      },
      "outputs": [
        {
          "output_type": "execute_result",
          "data": {
            "text/plain": [
              "[1, 2, [3, 4, 'goodbye']]"
            ]
          },
          "metadata": {},
          "execution_count": 26
        }
      ],
      "source": [
        "list3 = [1,2,[3,4,'hello']]\n",
        "list3[2][2] = 'goodbye'\n",
        "list3"
      ]
    },
    {
      "cell_type": "markdown",
      "metadata": {
        "id": "UHt_PH0QpPEl"
      },
      "source": [
        "Sort the list below:"
      ]
    },
    {
      "cell_type": "code",
      "execution_count": 28,
      "metadata": {
        "collapsed": true,
        "id": "CAIZlTJIpPEl",
        "colab": {
          "base_uri": "https://localhost:8080/"
        },
        "outputId": "fd6dd0f3-b694-4149-e7cb-2b45d0540c66"
      },
      "outputs": [
        {
          "output_type": "execute_result",
          "data": {
            "text/plain": [
              "[1, 3, 4, 5, 6]"
            ]
          },
          "metadata": {},
          "execution_count": 28
        }
      ],
      "source": [
        "list4 = [5,3,4,6,1]\n",
        "list4.sort()\n",
        "list4"
      ]
    },
    {
      "cell_type": "markdown",
      "metadata": {
        "id": "wgWmHPyZpPEm"
      },
      "source": [
        "## Dictionaries"
      ]
    },
    {
      "cell_type": "markdown",
      "metadata": {
        "id": "qsZIS-VWpPEm"
      },
      "source": [
        "Using keys and indexing, grab the 'hello' from the following dictionaries:"
      ]
    },
    {
      "cell_type": "code",
      "execution_count": 29,
      "metadata": {
        "collapsed": true,
        "id": "7ITYI-7rpPEm",
        "colab": {
          "base_uri": "https://localhost:8080/",
          "height": 35
        },
        "outputId": "4ae805be-b16b-4358-c52a-f074316d3cdd"
      },
      "outputs": [
        {
          "output_type": "execute_result",
          "data": {
            "text/plain": [
              "'hello'"
            ],
            "application/vnd.google.colaboratory.intrinsic+json": {
              "type": "string"
            }
          },
          "metadata": {},
          "execution_count": 29
        }
      ],
      "source": [
        "d = {'simple_key':'hello'}\n",
        "\n",
        "# Grab 'hello'\n",
        "d['simple_key']"
      ]
    },
    {
      "cell_type": "code",
      "execution_count": 30,
      "metadata": {
        "collapsed": true,
        "id": "_RSZMo0hpPEm",
        "colab": {
          "base_uri": "https://localhost:8080/",
          "height": 35
        },
        "outputId": "e0441738-7564-4d10-ab58-92d8ff8d1827"
      },
      "outputs": [
        {
          "output_type": "execute_result",
          "data": {
            "text/plain": [
              "'hello'"
            ],
            "application/vnd.google.colaboratory.intrinsic+json": {
              "type": "string"
            }
          },
          "metadata": {},
          "execution_count": 30
        }
      ],
      "source": [
        "d = {'k1':{'k2':'hello'}}\n",
        "\n",
        "# Grab 'hello'\n",
        "d['k1']['k2']"
      ]
    },
    {
      "cell_type": "code",
      "execution_count": 37,
      "metadata": {
        "collapsed": true,
        "id": "UQG6v2CFpPEm",
        "colab": {
          "base_uri": "https://localhost:8080/",
          "height": 35
        },
        "outputId": "a72434d7-49a1-49c4-b7c0-e88d40284919"
      },
      "outputs": [
        {
          "output_type": "execute_result",
          "data": {
            "text/plain": [
              "'hello'"
            ],
            "application/vnd.google.colaboratory.intrinsic+json": {
              "type": "string"
            }
          },
          "metadata": {},
          "execution_count": 37
        }
      ],
      "source": [
        "# Getting a little tricker\n",
        "d = {'k1':[{'nest_key':['this is deep',['hello']]}]}\n",
        "\n",
        "#Grab hello\n",
        "d['k1'][0]['nest_key'][1][0]"
      ]
    },
    {
      "cell_type": "code",
      "execution_count": 44,
      "metadata": {
        "collapsed": true,
        "id": "pIpnmK29pPEm",
        "colab": {
          "base_uri": "https://localhost:8080/",
          "height": 35
        },
        "outputId": "b4ee1fc3-a41e-41ff-9cb5-d6907fccb5a5"
      },
      "outputs": [
        {
          "output_type": "execute_result",
          "data": {
            "text/plain": [
              "'hello'"
            ],
            "application/vnd.google.colaboratory.intrinsic+json": {
              "type": "string"
            }
          },
          "metadata": {},
          "execution_count": 44
        }
      ],
      "source": [
        "# This will be hard and annoying!\n",
        "d = {'k1':[1,2,{'k2':['this is tricky',{'tough':[1,2,['hello']]}]}]}\n",
        "# Grab 'hello'\n",
        "d['k1'][2]['k2'][1]['tough'][2][0]\n"
      ]
    },
    {
      "cell_type": "markdown",
      "metadata": {
        "id": "ScwHdLNnpPEm"
      },
      "source": [
        "Can you sort a dictionary? Why or why not?<br><br>\n",
        "*Not, in dictionary the orden doesn't matter, that's usually for list*"
      ]
    },
    {
      "cell_type": "markdown",
      "metadata": {
        "id": "GWDZRXicpPEn"
      },
      "source": [
        "## Tuples"
      ]
    },
    {
      "cell_type": "markdown",
      "metadata": {
        "id": "GblQoSVhpPEn"
      },
      "source": [
        "What is the major difference between tuples and lists?<br><br>\n",
        "*Tuples are immutable, you can't change an element, but for list you can change the value for the element, list are mutable.*"
      ]
    },
    {
      "cell_type": "markdown",
      "metadata": {
        "id": "EYvdIkXdpPEn"
      },
      "source": [
        "How do you create a tuple?<br><br>\n",
        "Using ( ), for example\n",
        "*t = (1, 2 ,3 ,'one')*"
      ]
    },
    {
      "cell_type": "code",
      "source": [
        "t = (1,2,3,'one')"
      ],
      "metadata": {
        "id": "lQYJ0LtcwUdl"
      },
      "execution_count": 45,
      "outputs": []
    },
    {
      "cell_type": "code",
      "source": [
        "type(t)"
      ],
      "metadata": {
        "colab": {
          "base_uri": "https://localhost:8080/"
        },
        "id": "9tEB1LmmwX2U",
        "outputId": "0447a487-7527-483d-dd00-91268e260ff6"
      },
      "execution_count": 46,
      "outputs": [
        {
          "output_type": "execute_result",
          "data": {
            "text/plain": [
              "tuple"
            ]
          },
          "metadata": {},
          "execution_count": 46
        }
      ]
    },
    {
      "cell_type": "markdown",
      "metadata": {
        "id": "7Ee47GlrpPEn"
      },
      "source": [
        "## Sets "
      ]
    },
    {
      "cell_type": "markdown",
      "metadata": {
        "id": "AwzF7ZnJpPEn"
      },
      "source": [
        "What is unique about a set?<br><br>\n",
        "*In sets you have a one value for elements, if you put n times the value 2, it only consider the first*\n",
        "\n",
        "For example: N = [1,2,3,3,3,3,3,3,4]\n",
        "\n",
        "set(N)\n",
        "\n",
        "N = {1,2,3,4}\n",
        "\n",
        "The number 3, which is repeat 6 times, the set N only consider one 3. "
      ]
    },
    {
      "cell_type": "markdown",
      "metadata": {
        "id": "T8OpB_kLpPEn"
      },
      "source": [
        "Use a set to find the unique values of the list below:"
      ]
    },
    {
      "cell_type": "code",
      "execution_count": 48,
      "metadata": {
        "collapsed": true,
        "id": "m9eDMLLCpPEn",
        "colab": {
          "base_uri": "https://localhost:8080/"
        },
        "outputId": "21abbccc-3fc1-4d6c-83dc-f4d0a735e2fa"
      },
      "outputs": [
        {
          "output_type": "execute_result",
          "data": {
            "text/plain": [
              "{1, 2, 3, 4, 11, 22, 33}"
            ]
          },
          "metadata": {},
          "execution_count": 48
        }
      ],
      "source": [
        "list5 = [1,2,2,33,4,4,11,22,3,3,2]\n",
        "set(list5)\n",
        "\n"
      ]
    },
    {
      "cell_type": "markdown",
      "metadata": {
        "id": "pGAECNQapPEo"
      },
      "source": [
        "## Booleans"
      ]
    },
    {
      "cell_type": "markdown",
      "metadata": {
        "id": "0Y1Dctj4pPEo"
      },
      "source": [
        "For the following quiz questions, we will get a preview of comparison operators. In the table below, a=3 and b=4.\n",
        "\n",
        "<table class=\"table table-bordered\">\n",
        "<tr>\n",
        "<th style=\"width:10%\">Operator</th><th style=\"width:45%\">Description</th><th>Example</th>\n",
        "</tr>\n",
        "<tr>\n",
        "<td>==</td>\n",
        "<td>If the values of two operands are equal, then the condition becomes true.</td>\n",
        "<td> (a == b) is not true.</td>\n",
        "</tr>\n",
        "<tr>\n",
        "<td>!=</td>\n",
        "<td>If values of two operands are not equal, then condition becomes true.</td>\n",
        "<td> (a != b) is true.</td>\n",
        "</tr>\n",
        "<tr>\n",
        "<td>&gt;</td>\n",
        "<td>If the value of left operand is greater than the value of right operand, then condition becomes true.</td>\n",
        "<td> (a &gt; b) is not true.</td>\n",
        "</tr>\n",
        "<tr>\n",
        "<td>&lt;</td>\n",
        "<td>If the value of left operand is less than the value of right operand, then condition becomes true.</td>\n",
        "<td> (a &lt; b) is true.</td>\n",
        "</tr>\n",
        "<tr>\n",
        "<td>&gt;=</td>\n",
        "<td>If the value of left operand is greater than or equal to the value of right operand, then condition becomes true.</td>\n",
        "<td> (a &gt;= b) is not true. </td>\n",
        "</tr>\n",
        "<tr>\n",
        "<td>&lt;=</td>\n",
        "<td>If the value of left operand is less than or equal to the value of right operand, then condition becomes true.</td>\n",
        "<td> (a &lt;= b) is true. </td>\n",
        "</tr>\n",
        "</table>"
      ]
    },
    {
      "cell_type": "code",
      "source": [
        "a=3 \n",
        "b=4"
      ],
      "metadata": {
        "id": "Ixl4P8Fxy0Pm"
      },
      "execution_count": 56,
      "outputs": []
    },
    {
      "cell_type": "code",
      "source": [
        "(a == b)\n"
      ],
      "metadata": {
        "colab": {
          "base_uri": "https://localhost:8080/"
        },
        "id": "cn_nuHvNyXjV",
        "outputId": "b2f22973-8423-4515-baa5-76e3644bec7f"
      },
      "execution_count": 59,
      "outputs": [
        {
          "output_type": "execute_result",
          "data": {
            "text/plain": [
              "False"
            ]
          },
          "metadata": {},
          "execution_count": 59
        }
      ]
    },
    {
      "cell_type": "code",
      "source": [
        "(a != b)"
      ],
      "metadata": {
        "colab": {
          "base_uri": "https://localhost:8080/"
        },
        "id": "4hccsyhjyXam",
        "outputId": "c3272ec8-cf8d-444c-85dc-75252d168112"
      },
      "execution_count": 60,
      "outputs": [
        {
          "output_type": "execute_result",
          "data": {
            "text/plain": [
              "True"
            ]
          },
          "metadata": {},
          "execution_count": 60
        }
      ]
    },
    {
      "cell_type": "code",
      "source": [
        "(a > b)"
      ],
      "metadata": {
        "colab": {
          "base_uri": "https://localhost:8080/"
        },
        "id": "J70a9xKByXQt",
        "outputId": "25aaef02-b064-4af1-fea9-4829ce57c865"
      },
      "execution_count": 61,
      "outputs": [
        {
          "output_type": "execute_result",
          "data": {
            "text/plain": [
              "False"
            ]
          },
          "metadata": {},
          "execution_count": 61
        }
      ]
    },
    {
      "cell_type": "code",
      "source": [
        "(a < b)"
      ],
      "metadata": {
        "colab": {
          "base_uri": "https://localhost:8080/"
        },
        "id": "u3xOoQZUyXFl",
        "outputId": "75539126-31e2-4e47-d672-cbe06402439a"
      },
      "execution_count": 64,
      "outputs": [
        {
          "output_type": "execute_result",
          "data": {
            "text/plain": [
              "True"
            ]
          },
          "metadata": {},
          "execution_count": 64
        }
      ]
    },
    {
      "cell_type": "code",
      "source": [
        "(a >= b) "
      ],
      "metadata": {
        "colab": {
          "base_uri": "https://localhost:8080/"
        },
        "id": "8itjkZCoyWot",
        "outputId": "ab0b0396-708e-481f-bcf9-56e6feb0dd3b"
      },
      "execution_count": 63,
      "outputs": [
        {
          "output_type": "execute_result",
          "data": {
            "text/plain": [
              "False"
            ]
          },
          "metadata": {},
          "execution_count": 63
        }
      ]
    },
    {
      "cell_type": "code",
      "source": [
        "(a <= b) "
      ],
      "metadata": {
        "colab": {
          "base_uri": "https://localhost:8080/"
        },
        "id": "N0YmUjscyv93",
        "outputId": "e7e24d39-8233-45a4-f557-eb26b3002c6b"
      },
      "execution_count": 62,
      "outputs": [
        {
          "output_type": "execute_result",
          "data": {
            "text/plain": [
              "True"
            ]
          },
          "metadata": {},
          "execution_count": 62
        }
      ]
    },
    {
      "cell_type": "markdown",
      "metadata": {
        "id": "8Ttyx04DpPEo"
      },
      "source": [
        "What will be the resulting Boolean of the following pieces of code (answer fist then check by typing it in!)"
      ]
    },
    {
      "cell_type": "code",
      "execution_count": 49,
      "metadata": {
        "collapsed": true,
        "id": "8mMsTsqppPEo",
        "colab": {
          "base_uri": "https://localhost:8080/"
        },
        "outputId": "6c1a96c4-5395-48c1-ca67-c93d6fbf5635"
      },
      "outputs": [
        {
          "output_type": "execute_result",
          "data": {
            "text/plain": [
              "False"
            ]
          },
          "metadata": {},
          "execution_count": 49
        }
      ],
      "source": [
        "# Answer before running cell = False\n",
        "2 > 3"
      ]
    },
    {
      "cell_type": "code",
      "execution_count": 50,
      "metadata": {
        "collapsed": true,
        "id": "aRq0TJDapPEo",
        "colab": {
          "base_uri": "https://localhost:8080/"
        },
        "outputId": "ca85ca91-5a56-4700-de22-b1fbee8a974c"
      },
      "outputs": [
        {
          "output_type": "execute_result",
          "data": {
            "text/plain": [
              "False"
            ]
          },
          "metadata": {},
          "execution_count": 50
        }
      ],
      "source": [
        "# Answer before running cell = False\n",
        "3 <= 2"
      ]
    },
    {
      "cell_type": "code",
      "execution_count": 51,
      "metadata": {
        "collapsed": true,
        "id": "GZy6EBzYpPEo",
        "colab": {
          "base_uri": "https://localhost:8080/"
        },
        "outputId": "494d17b3-e034-4d28-edaa-9023126ceaff"
      },
      "outputs": [
        {
          "output_type": "execute_result",
          "data": {
            "text/plain": [
              "False"
            ]
          },
          "metadata": {},
          "execution_count": 51
        }
      ],
      "source": [
        "# Answer before running cell = False\n",
        "3 == 2.0"
      ]
    },
    {
      "cell_type": "code",
      "execution_count": 52,
      "metadata": {
        "collapsed": true,
        "id": "4IDXImWPpPEo",
        "colab": {
          "base_uri": "https://localhost:8080/"
        },
        "outputId": "ac027df6-a930-4091-c418-645aa90a3225"
      },
      "outputs": [
        {
          "output_type": "execute_result",
          "data": {
            "text/plain": [
              "True"
            ]
          },
          "metadata": {},
          "execution_count": 52
        }
      ],
      "source": [
        "# Answer before running cell = TRUE\n",
        "3.0 == 3"
      ]
    },
    {
      "cell_type": "code",
      "execution_count": 54,
      "metadata": {
        "collapsed": true,
        "id": "LlKRadP7pPEp",
        "colab": {
          "base_uri": "https://localhost:8080/"
        },
        "outputId": "a3288281-2131-477a-b258-7463e74c13cd"
      },
      "outputs": [
        {
          "output_type": "execute_result",
          "data": {
            "text/plain": [
              "False"
            ]
          },
          "metadata": {},
          "execution_count": 54
        }
      ],
      "source": [
        "# Answer before running cell =FALSE\n",
        "4**0.5 != 2"
      ]
    },
    {
      "cell_type": "markdown",
      "metadata": {
        "id": "sZXvfomOpPEp"
      },
      "source": [
        "Final Question: What is the boolean output of the cell block below?"
      ]
    },
    {
      "cell_type": "markdown",
      "source": [
        "*FALSE*"
      ],
      "metadata": {
        "id": "kwmSTalwzSsn"
      }
    },
    {
      "cell_type": "code",
      "execution_count": 65,
      "metadata": {
        "collapsed": true,
        "id": "jGMKJLwipPEp",
        "colab": {
          "base_uri": "https://localhost:8080/"
        },
        "outputId": "9eacede8-7692-4af3-fd5a-9c68744ad68b"
      },
      "outputs": [
        {
          "output_type": "execute_result",
          "data": {
            "text/plain": [
              "False"
            ]
          },
          "metadata": {},
          "execution_count": 65
        }
      ],
      "source": [
        "# two nested lists\n",
        "l_one = [1,2,[3,4]]\n",
        "l_two = [1,2,{'k1':4}]\n",
        "\n",
        "# True or False?\n",
        "l_one[2][0] >= l_two[2]['k1']"
      ]
    },
    {
      "cell_type": "code",
      "source": [
        "l_one[2][0]"
      ],
      "metadata": {
        "colab": {
          "base_uri": "https://localhost:8080/"
        },
        "id": "zUiImINszF3t",
        "outputId": "6f5a3dec-c87c-41ce-e04c-80186a611cf2"
      },
      "execution_count": 66,
      "outputs": [
        {
          "output_type": "execute_result",
          "data": {
            "text/plain": [
              "3"
            ]
          },
          "metadata": {},
          "execution_count": 66
        }
      ]
    },
    {
      "cell_type": "code",
      "source": [
        "l_two[2]['k1']"
      ],
      "metadata": {
        "colab": {
          "base_uri": "https://localhost:8080/"
        },
        "id": "557LebjwzOQe",
        "outputId": "79152dcc-1e36-4d0e-b856-cd0e55543232"
      },
      "execution_count": 67,
      "outputs": [
        {
          "output_type": "execute_result",
          "data": {
            "text/plain": [
              "4"
            ]
          },
          "metadata": {},
          "execution_count": 67
        }
      ]
    },
    {
      "cell_type": "markdown",
      "metadata": {
        "id": "Tz6dKo-9pPEp"
      },
      "source": [
        "## Great Job on your first assessment! "
      ]
    }
  ],
  "metadata": {
    "anaconda-cloud": {},
    "kernelspec": {
      "display_name": "Python 3",
      "language": "python",
      "name": "python3"
    },
    "language_info": {
      "codemirror_mode": {
        "name": "ipython",
        "version": 3
      },
      "file_extension": ".py",
      "mimetype": "text/x-python",
      "name": "python",
      "nbconvert_exporter": "python",
      "pygments_lexer": "ipython3",
      "version": "3.6.6"
    },
    "colab": {
      "provenance": [],
      "include_colab_link": true
    }
  },
  "nbformat": 4,
  "nbformat_minor": 0
}