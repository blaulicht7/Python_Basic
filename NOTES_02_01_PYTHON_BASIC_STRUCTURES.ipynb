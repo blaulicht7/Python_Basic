{
  "nbformat": 4,
  "nbformat_minor": 0,
  "metadata": {
    "kernelspec": {
      "display_name": "Python 3",
      "language": "python",
      "name": "python3"
    },
    "language_info": {
      "codemirror_mode": {
        "name": "ipython",
        "version": 3
      },
      "file_extension": ".py",
      "mimetype": "text/x-python",
      "name": "python",
      "nbconvert_exporter": "python",
      "pygments_lexer": "ipython3",
      "version": "3.7.6"
    },
    "colab": {
      "name": "Copia de NOTES 02.01 - PYTHON BASIC STRUCTURES.ipynb",
      "provenance": [],
      "include_colab_link": true
    }
  },
  "cells": [
    {
      "cell_type": "markdown",
      "metadata": {
        "id": "view-in-github",
        "colab_type": "text"
      },
      "source": [
        "<a href=\"https://colab.research.google.com/github/blaulicht7/Python_Basic/blob/main/NOTES_02_01_PYTHON_BASIC_STRUCTURES.ipynb\" target=\"_parent\"><img src=\"https://colab.research.google.com/assets/colab-badge.svg\" alt=\"Open In Colab\"/></a>"
      ]
    },
    {
      "cell_type": "markdown",
      "metadata": {
        "id": "-WbXYmzE6cCg"
      },
      "source": [
        "# 02.01 - BASIC STRUCTURES"
      ]
    },
    {
      "cell_type": "code",
      "metadata": {
        "id": "b8aH-QqO6cCi"
      },
      "source": [
        "!wget --no-cache -O init.py -q https://raw.githubusercontent.com/rramosp/ai4eng.v1/main/content/init.py\n",
        "import init; init.init(force_download=False); init.get_weblink()"
      ],
      "execution_count": null,
      "outputs": []
    },
    {
      "cell_type": "markdown",
      "metadata": {
        "id": "o5KBAb3U6cCj"
      },
      "source": [
        "## Introduction to Python"
      ]
    },
    {
      "cell_type": "markdown",
      "metadata": {
        "id": "xxOQHXP26cCk"
      },
      "source": [
        "Python is **interpreted** and **dynamically typed**. Observe in the following lines:\n",
        "\n",
        "- variables `a` and `b` have specific data types even if they are not explicitly defined.\n",
        "- python guesses their types by how they are being used (`\\\\` is integer division, while `\\` is floating point division) \n",
        "- python keeps executing stuff while no error is found $\\rightarrow$ python is interpreted"
      ]
    },
    {
      "cell_type": "code",
      "metadata": {
        "id": "c55jMDbl6cCk",
        "outputId": "ec86a4e9-a5dd-456f-abc0-4e6f51e36b08"
      },
      "source": [
        "a = 4\n",
        "print (a, type(a))"
      ],
      "execution_count": null,
      "outputs": [
        {
          "output_type": "stream",
          "text": [
            "4 <class 'int'>\n"
          ],
          "name": "stdout"
        }
      ]
    },
    {
      "cell_type": "code",
      "metadata": {
        "id": "W2I9-9vW6cCl",
        "outputId": "53bd643c-f76c-4ee3-a739-d369aaa653c1"
      },
      "source": [
        "b = 9.\n",
        "print (a, type(b))"
      ],
      "execution_count": null,
      "outputs": [
        {
          "output_type": "stream",
          "text": [
            "4 <class 'float'>\n"
          ],
          "name": "stdout"
        }
      ]
    },
    {
      "cell_type": "code",
      "metadata": {
        "id": "-xN3SEp96cCm",
        "outputId": "1d073f1a-ad54-4c43-df31-0f26338c920b"
      },
      "source": [
        "c = 9/4\n",
        "print (c, type(c))"
      ],
      "execution_count": null,
      "outputs": [
        {
          "output_type": "stream",
          "text": [
            "2.25 <class 'float'>\n"
          ],
          "name": "stdout"
        }
      ]
    },
    {
      "cell_type": "code",
      "metadata": {
        "id": "uAwfp_7V6cCn",
        "outputId": "d8cd3eb8-5e79-431e-cd95-268a797a1c11"
      },
      "source": [
        "d = 9//4\n",
        "print (d, type(d))\n",
        "print (x)"
      ],
      "execution_count": null,
      "outputs": [
        {
          "output_type": "stream",
          "text": [
            "2 <class 'int'>\n"
          ],
          "name": "stdout"
        },
        {
          "output_type": "error",
          "ename": "NameError",
          "evalue": "name 'x' is not defined",
          "traceback": [
            "\u001b[0;31m---------------------------------------------------------------------------\u001b[0m",
            "\u001b[0;31mNameError\u001b[0m                                 Traceback (most recent call last)",
            "\u001b[0;32m<ipython-input-4-35e15d72124c>\u001b[0m in \u001b[0;36m<module>\u001b[0;34m\u001b[0m\n\u001b[1;32m      1\u001b[0m \u001b[0md\u001b[0m \u001b[0;34m=\u001b[0m \u001b[0;36m9\u001b[0m\u001b[0;34m//\u001b[0m\u001b[0;36m4\u001b[0m\u001b[0;34m\u001b[0m\u001b[0;34m\u001b[0m\u001b[0m\n\u001b[1;32m      2\u001b[0m \u001b[0mprint\u001b[0m \u001b[0;34m(\u001b[0m\u001b[0md\u001b[0m\u001b[0;34m,\u001b[0m \u001b[0mtype\u001b[0m\u001b[0;34m(\u001b[0m\u001b[0md\u001b[0m\u001b[0;34m)\u001b[0m\u001b[0;34m)\u001b[0m\u001b[0;34m\u001b[0m\u001b[0;34m\u001b[0m\u001b[0m\n\u001b[0;32m----> 3\u001b[0;31m \u001b[0mprint\u001b[0m \u001b[0;34m(\u001b[0m\u001b[0mx\u001b[0m\u001b[0;34m)\u001b[0m\u001b[0;34m\u001b[0m\u001b[0;34m\u001b[0m\u001b[0m\n\u001b[0m",
            "\u001b[0;31mNameError\u001b[0m: name 'x' is not defined"
          ]
        }
      ]
    },
    {
      "cell_type": "markdown",
      "metadata": {
        "id": "Q0bzNrxl6cCn"
      },
      "source": [
        "but types can be enforced, or used for data conversion"
      ]
    },
    {
      "cell_type": "code",
      "metadata": {
        "id": "8CninhIx6cCo",
        "outputId": "f960a2e6-4dba-4e05-ee99-9c477c132ce8"
      },
      "source": [
        "a = 1\n",
        "b = float(a)\n",
        "print (a, \"::\", b)"
      ],
      "execution_count": null,
      "outputs": [
        {
          "output_type": "stream",
          "text": [
            "1 :: 1.0\n"
          ],
          "name": "stdout"
        }
      ]
    },
    {
      "cell_type": "code",
      "metadata": {
        "id": "PSs0CFOT6cCo",
        "outputId": "70c3b39f-278a-49ba-d7f5-b126db9adb28"
      },
      "source": [
        "s = \"el valor de 'a' es \"+str(a)\n",
        "print (s)"
      ],
      "execution_count": null,
      "outputs": [
        {
          "output_type": "stream",
          "text": [
            "el valor de 'a' es 1\n"
          ],
          "name": "stdout"
        }
      ]
    },
    {
      "cell_type": "markdown",
      "metadata": {
        "id": "5gleieNp6cCp"
      },
      "source": [
        "## Notebook cell outputs"
      ]
    },
    {
      "cell_type": "code",
      "metadata": {
        "id": "P6sf7-bc6cCp",
        "outputId": "03b4207f-ebbc-4ceb-f5dc-e04d0226aa60"
      },
      "source": [
        "a = 1\n",
        "b = float(a)\n",
        "a,b"
      ],
      "execution_count": null,
      "outputs": [
        {
          "output_type": "execute_result",
          "data": {
            "text/plain": [
              "(1, 1.0)"
            ]
          },
          "metadata": {
            "tags": []
          },
          "execution_count": 7
        }
      ]
    },
    {
      "cell_type": "code",
      "metadata": {
        "id": "PSveMo8n6cCq",
        "outputId": "b228229e-582d-453a-f51a-efd6dd189571"
      },
      "source": [
        "a = 1\n",
        "a\n",
        "b = float(a)\n",
        "b"
      ],
      "execution_count": null,
      "outputs": [
        {
          "output_type": "execute_result",
          "data": {
            "text/plain": [
              "1.0"
            ]
          },
          "metadata": {
            "tags": []
          },
          "execution_count": 8
        }
      ]
    },
    {
      "cell_type": "code",
      "metadata": {
        "id": "7uX22lXy6cCq",
        "outputId": "0aedd144-318c-4e31-870d-9c64ffa0868f"
      },
      "source": [
        "a = 1\n",
        "print (a)\n",
        "b = float(a)\n",
        "b"
      ],
      "execution_count": null,
      "outputs": [
        {
          "output_type": "stream",
          "text": [
            "1\n"
          ],
          "name": "stdout"
        },
        {
          "output_type": "execute_result",
          "data": {
            "text/plain": [
              "1.0"
            ]
          },
          "metadata": {
            "tags": []
          },
          "execution_count": 9
        }
      ]
    },
    {
      "cell_type": "code",
      "metadata": {
        "id": "seEZN59p6cCr"
      },
      "source": [
        ""
      ],
      "execution_count": null,
      "outputs": []
    },
    {
      "cell_type": "markdown",
      "metadata": {
        "id": "HB_j2IQy6cCr"
      },
      "source": [
        "## Lists\n",
        "\n",
        "ordered sequences of objects of **any** kind with cool indexing.\n",
        "\n",
        "indexing **starts at zero**."
      ]
    },
    {
      "cell_type": "code",
      "metadata": {
        "id": "N-tAmSTT6cCr"
      },
      "source": [
        "b = [1,10, 20.5, \"hola\", 10., 12, 13, 14., 15,16, 17., 18, 19, 20.]"
      ],
      "execution_count": null,
      "outputs": []
    },
    {
      "cell_type": "code",
      "metadata": {
        "id": "wL9_IKCK6cCr",
        "outputId": "a58c88db-bfc2-4d61-de1c-0eb9ef8a05e0"
      },
      "source": [
        "print (len(b))"
      ],
      "execution_count": null,
      "outputs": [
        {
          "output_type": "stream",
          "text": [
            "14\n"
          ],
          "name": "stdout"
        }
      ]
    },
    {
      "cell_type": "code",
      "metadata": {
        "id": "AgDPYR5n6cCr",
        "outputId": "1042b012-1c0e-46f0-eec7-b51dd528f219"
      },
      "source": [
        "print (b[:3])"
      ],
      "execution_count": null,
      "outputs": [
        {
          "output_type": "stream",
          "text": [
            "[1, 10, 20.5]\n"
          ],
          "name": "stdout"
        }
      ]
    },
    {
      "cell_type": "code",
      "metadata": {
        "id": "7vdASS1h6cCs",
        "outputId": "63da333a-8daa-4e83-f82a-24c0cfd06a7b"
      },
      "source": [
        "print (b[3:])"
      ],
      "execution_count": null,
      "outputs": [
        {
          "output_type": "stream",
          "text": [
            "['hola', 10.0, 12, 13, 14.0, 15, 16, 17.0, 18, 19, 20.0]\n"
          ],
          "name": "stdout"
        }
      ]
    },
    {
      "cell_type": "code",
      "metadata": {
        "id": "8VfAGhL96cCs",
        "outputId": "90e70914-aff7-4caa-8e52-ac818dcf76df"
      },
      "source": [
        "print (b[-3:])"
      ],
      "execution_count": null,
      "outputs": [
        {
          "output_type": "stream",
          "text": [
            "[18, 19, 20.0]\n"
          ],
          "name": "stdout"
        }
      ]
    },
    {
      "cell_type": "code",
      "metadata": {
        "id": "xJcpzf0K6cCs",
        "outputId": "c2b184e4-3255-4932-b39c-9d3c6df0f7b3"
      },
      "source": [
        "print (b[4])"
      ],
      "execution_count": null,
      "outputs": [
        {
          "output_type": "stream",
          "text": [
            "10.0\n"
          ],
          "name": "stdout"
        }
      ]
    },
    {
      "cell_type": "code",
      "metadata": {
        "id": "uY12YBi16cCs",
        "outputId": "c7201646-175f-4fc1-c885-1f9cd77e4583"
      },
      "source": [
        "print (b[5:10])"
      ],
      "execution_count": null,
      "outputs": [
        {
          "output_type": "stream",
          "text": [
            "[12, 13, 14.0, 15, 16]\n"
          ],
          "name": "stdout"
        }
      ]
    },
    {
      "cell_type": "code",
      "metadata": {
        "id": "2YjE3NB86cCt",
        "outputId": "fb678bb9-04fa-4572-d366-6806f35e71d5"
      },
      "source": [
        "print (b[-5:-2])"
      ],
      "execution_count": null,
      "outputs": [
        {
          "output_type": "stream",
          "text": [
            "[16, 17.0, 18]\n"
          ],
          "name": "stdout"
        }
      ]
    },
    {
      "cell_type": "code",
      "metadata": {
        "id": "XlwwZgCi6cCt",
        "outputId": "4b69874f-0b4d-439e-d642-e2d42b8ced60"
      },
      "source": [
        "print (b[::2])"
      ],
      "execution_count": null,
      "outputs": [
        {
          "output_type": "stream",
          "text": [
            "[1, 20.5, 10.0, 13, 15, 17.0, 19]\n"
          ],
          "name": "stdout"
        }
      ]
    },
    {
      "cell_type": "code",
      "metadata": {
        "id": "e25NnHy16cCt",
        "outputId": "24d81336-823d-484d-a4fc-330ac485bd0a"
      },
      "source": [
        "print (b[::-1])"
      ],
      "execution_count": null,
      "outputs": [
        {
          "output_type": "stream",
          "text": [
            "[20.0, 19, 18, 17.0, 16, 15, 14.0, 13, 12, 10.0, 'hola', 20.5, 10, 1]\n"
          ],
          "name": "stdout"
        }
      ]
    },
    {
      "cell_type": "code",
      "metadata": {
        "id": "llgb-1fi6cCt",
        "outputId": "5cda7785-06e2-4967-e421-97c0c3d8914b"
      },
      "source": [
        "b.append('elfin')\n",
        "b"
      ],
      "execution_count": null,
      "outputs": [
        {
          "output_type": "execute_result",
          "data": {
            "text/plain": [
              "[1, 10, 20.5, 'hola', 10.0, 12, 13, 14.0, 15, 16, 17.0, 18, 19, 20.0, 'elfin']"
            ]
          },
          "metadata": {
            "tags": []
          },
          "execution_count": 90
        }
      ]
    },
    {
      "cell_type": "markdown",
      "metadata": {
        "id": "1SIASP3g6cCt"
      },
      "source": [
        "can use variables as indexes"
      ]
    },
    {
      "cell_type": "code",
      "metadata": {
        "id": "M2mR2jVJ6cCu",
        "outputId": "83cd92f1-5d16-4859-d181-434d3ed81e9b"
      },
      "source": [
        "import numpy as np\n",
        "i = np.random.randint(len(b))\n",
        "print (i, '-->', b[i])"
      ],
      "execution_count": null,
      "outputs": [
        {
          "output_type": "stream",
          "text": [
            "13 --> 20.0\n"
          ],
          "name": "stdout"
        }
      ]
    },
    {
      "cell_type": "markdown",
      "metadata": {
        "id": "2HXhVkyU6cCu"
      },
      "source": [
        "truly **any** object"
      ]
    },
    {
      "cell_type": "code",
      "metadata": {
        "id": "Tj6ywWzR6cCu"
      },
      "source": [
        "a = 32\n",
        "b = 10\n",
        "s = [1,2,3,\"hola\", [10, \"nunca\", 90], a==b, -32]"
      ],
      "execution_count": null,
      "outputs": []
    },
    {
      "cell_type": "code",
      "metadata": {
        "id": "Mba0id-R6cCu",
        "outputId": "a9d486eb-cb88-4faa-c019-2104f120780d"
      },
      "source": [
        "print (s)"
      ],
      "execution_count": null,
      "outputs": [
        {
          "output_type": "stream",
          "text": [
            "[1, 2, 3, 'hola', [10, 'nunca', 90], False, -32]\n"
          ],
          "name": "stdout"
        }
      ]
    },
    {
      "cell_type": "code",
      "metadata": {
        "id": "wITYuqeU6cCv",
        "outputId": "573fbeec-80f1-4a00-e647-7a651300b129"
      },
      "source": [
        "print (len(s))"
      ],
      "execution_count": null,
      "outputs": [
        {
          "output_type": "stream",
          "text": [
            "7\n"
          ],
          "name": "stdout"
        }
      ]
    },
    {
      "cell_type": "code",
      "metadata": {
        "id": "j6aXXpWt6cCv",
        "outputId": "9ca51674-f43e-4788-a39c-12a1cc8dd165"
      },
      "source": [
        "s[4]"
      ],
      "execution_count": null,
      "outputs": [
        {
          "output_type": "execute_result",
          "data": {
            "text/plain": [
              "[10, 'nunca', 90]"
            ]
          },
          "metadata": {
            "tags": []
          },
          "execution_count": 25
        }
      ]
    },
    {
      "cell_type": "code",
      "metadata": {
        "id": "ymst3jzV6cCv",
        "outputId": "556dc576-0217-4aa7-cbc5-fc7ce7aea84d"
      },
      "source": [
        "s[4][1]"
      ],
      "execution_count": null,
      "outputs": [
        {
          "output_type": "execute_result",
          "data": {
            "text/plain": [
              "'nunca'"
            ]
          },
          "metadata": {
            "tags": []
          },
          "execution_count": 26
        }
      ]
    },
    {
      "cell_type": "code",
      "metadata": {
        "id": "I10vv4E16cCv",
        "outputId": "7e34682a-c646-448b-9497-8a58a9e1e041"
      },
      "source": [
        "s[3][1]"
      ],
      "execution_count": null,
      "outputs": [
        {
          "output_type": "execute_result",
          "data": {
            "text/plain": [
              "'o'"
            ]
          },
          "metadata": {
            "tags": []
          },
          "execution_count": 27
        }
      ]
    },
    {
      "cell_type": "code",
      "metadata": {
        "id": "u8NFnwmc6cCw",
        "outputId": "cb8eb8ec-18c7-4ac3-8021-d8580f9a191c"
      },
      "source": [
        "s[2][1]"
      ],
      "execution_count": null,
      "outputs": [
        {
          "output_type": "error",
          "ename": "TypeError",
          "evalue": "'int' object is not subscriptable",
          "traceback": [
            "\u001b[0;31m---------------------------------------------------------------------------\u001b[0m",
            "\u001b[0;31mTypeError\u001b[0m                                 Traceback (most recent call last)",
            "\u001b[0;32m<ipython-input-28-3e154303a25b>\u001b[0m in \u001b[0;36m<module>\u001b[0;34m\u001b[0m\n\u001b[0;32m----> 1\u001b[0;31m \u001b[0ms\u001b[0m\u001b[0;34m[\u001b[0m\u001b[0;36m2\u001b[0m\u001b[0;34m]\u001b[0m\u001b[0;34m[\u001b[0m\u001b[0;36m1\u001b[0m\u001b[0;34m]\u001b[0m\u001b[0;34m\u001b[0m\u001b[0;34m\u001b[0m\u001b[0m\n\u001b[0m",
            "\u001b[0;31mTypeError\u001b[0m: 'int' object is not subscriptable"
          ]
        }
      ]
    },
    {
      "cell_type": "markdown",
      "metadata": {
        "id": "4-tWW7Tk6cCw"
      },
      "source": [
        "**some list operations**"
      ]
    },
    {
      "cell_type": "code",
      "metadata": {
        "id": "5KhGZDeq6cCw"
      },
      "source": [
        "a = [\"hola\", 2, \"adios\"]\n",
        "b = [-10., 1, [3, 4]]"
      ],
      "execution_count": null,
      "outputs": []
    },
    {
      "cell_type": "code",
      "metadata": {
        "id": "nGN4Ai_Y6cCw",
        "outputId": "428a45d5-74f1-4661-c453-ea22da69d7f5"
      },
      "source": [
        "a + b"
      ],
      "execution_count": null,
      "outputs": [
        {
          "output_type": "execute_result",
          "data": {
            "text/plain": [
              "['hola', 2, 'adios', -10.0, 1, [3, 4]]"
            ]
          },
          "metadata": {
            "tags": []
          },
          "execution_count": 33
        }
      ]
    },
    {
      "cell_type": "code",
      "metadata": {
        "id": "b33y5v5t6cCx",
        "outputId": "c7d501a7-7aaf-49dc-f910-b040727605ab"
      },
      "source": [
        "a + a"
      ],
      "execution_count": null,
      "outputs": [
        {
          "output_type": "execute_result",
          "data": {
            "text/plain": [
              "['hola', 2, 'adios', 'hola', 2, 'adios']"
            ]
          },
          "metadata": {
            "tags": []
          },
          "execution_count": 34
        }
      ]
    },
    {
      "cell_type": "code",
      "metadata": {
        "id": "mOE08rPp6cCx",
        "outputId": "2577aa25-c3e8-4e41-9db9-1f20865d104e"
      },
      "source": [
        "a*2"
      ],
      "execution_count": null,
      "outputs": [
        {
          "output_type": "execute_result",
          "data": {
            "text/plain": [
              "['hola', 2, 'adios', 'hola', 2, 'adios']"
            ]
          },
          "metadata": {
            "tags": []
          },
          "execution_count": 35
        }
      ]
    },
    {
      "cell_type": "code",
      "metadata": {
        "id": "a2lzc-yt6cCx",
        "outputId": "531bdeb7-03a3-4eae-c0d6-81b9dd219243"
      },
      "source": [
        "a - b"
      ],
      "execution_count": null,
      "outputs": [
        {
          "output_type": "error",
          "ename": "TypeError",
          "evalue": "unsupported operand type(s) for -: 'list' and 'list'",
          "traceback": [
            "\u001b[0;31m---------------------------------------------------------------------------\u001b[0m",
            "\u001b[0;31mTypeError\u001b[0m                                 Traceback (most recent call last)",
            "\u001b[0;32m<ipython-input-36-09bd029d0285>\u001b[0m in \u001b[0;36m<module>\u001b[0;34m\u001b[0m\n\u001b[0;32m----> 1\u001b[0;31m \u001b[0ma\u001b[0m \u001b[0;34m-\u001b[0m \u001b[0mb\u001b[0m\u001b[0;34m\u001b[0m\u001b[0;34m\u001b[0m\u001b[0m\n\u001b[0m",
            "\u001b[0;31mTypeError\u001b[0m: unsupported operand type(s) for -: 'list' and 'list'"
          ]
        }
      ]
    },
    {
      "cell_type": "code",
      "metadata": {
        "id": "oT2-PDnR6cCx",
        "outputId": "e37b9ebc-b380-42af-8e00-31ed1e31b3ec"
      },
      "source": [
        "2 in a"
      ],
      "execution_count": null,
      "outputs": [
        {
          "output_type": "execute_result",
          "data": {
            "text/plain": [
              "True"
            ]
          },
          "metadata": {
            "tags": []
          },
          "execution_count": 37
        }
      ]
    },
    {
      "cell_type": "code",
      "metadata": {
        "id": "3Ad5fQQR6cCy",
        "outputId": "fa87821a-29c1-4dab-b7f0-5a515c8d8786"
      },
      "source": [
        "\"hola\" not in b"
      ],
      "execution_count": null,
      "outputs": [
        {
          "output_type": "execute_result",
          "data": {
            "text/plain": [
              "True"
            ]
          },
          "metadata": {
            "tags": []
          },
          "execution_count": 38
        }
      ]
    },
    {
      "cell_type": "code",
      "metadata": {
        "id": "AD1Kuvpv6cCy",
        "outputId": "38c834c3-a400-4833-b676-4cfde0055674"
      },
      "source": [
        "[3,4] in b"
      ],
      "execution_count": null,
      "outputs": [
        {
          "output_type": "execute_result",
          "data": {
            "text/plain": [
              "True"
            ]
          },
          "metadata": {
            "tags": []
          },
          "execution_count": 39
        }
      ]
    },
    {
      "cell_type": "code",
      "metadata": {
        "id": "rgJSqyZg6cCy"
      },
      "source": [
        ""
      ],
      "execution_count": null,
      "outputs": []
    },
    {
      "cell_type": "markdown",
      "metadata": {
        "id": "5eukPxyj6cCy"
      },
      "source": [
        "## Strings\n",
        "\n",
        "a string is like a special kind of list"
      ]
    },
    {
      "cell_type": "code",
      "metadata": {
        "id": "qO_C2vgE6cCy",
        "outputId": "ad5e1842-16c8-4760-d3bd-f31cb5eb43cd"
      },
      "source": [
        "a = \"en un lugar de la mancha\"\n",
        "a"
      ],
      "execution_count": null,
      "outputs": [
        {
          "output_type": "execute_result",
          "data": {
            "text/plain": [
              "'en un lugar de la mancha'"
            ]
          },
          "metadata": {
            "tags": []
          },
          "execution_count": 40
        }
      ]
    },
    {
      "cell_type": "code",
      "metadata": {
        "id": "w-a5f3Vd6cCz",
        "outputId": "8f7ceb12-6125-4d18-f375-7bb5372ca2c7"
      },
      "source": [
        "a[3:]"
      ],
      "execution_count": null,
      "outputs": [
        {
          "output_type": "execute_result",
          "data": {
            "text/plain": [
              "'un lugar de la mancha'"
            ]
          },
          "metadata": {
            "tags": []
          },
          "execution_count": 41
        }
      ]
    },
    {
      "cell_type": "code",
      "metadata": {
        "id": "xNB5TSR66cCz",
        "outputId": "bfd6e4a6-2890-4d3e-995d-25011761724d"
      },
      "source": [
        "a[-10:]"
      ],
      "execution_count": null,
      "outputs": [
        {
          "output_type": "execute_result",
          "data": {
            "text/plain": [
              "' la mancha'"
            ]
          },
          "metadata": {
            "tags": []
          },
          "execution_count": 42
        }
      ]
    },
    {
      "cell_type": "code",
      "metadata": {
        "id": "dKktPBub6cCz",
        "outputId": "5e673343-382f-4e16-b842-ed08ff9ffddc"
      },
      "source": [
        "a[::-1]"
      ],
      "execution_count": null,
      "outputs": [
        {
          "output_type": "execute_result",
          "data": {
            "text/plain": [
              "'ahcnam al ed ragul nu ne'"
            ]
          },
          "metadata": {
            "tags": []
          },
          "execution_count": 43
        }
      ]
    },
    {
      "cell_type": "code",
      "metadata": {
        "id": "prUoYvYw6cCz",
        "outputId": "f1dd5792-488c-4548-b944-1c36c0b53af9"
      },
      "source": [
        "a[::2]"
      ],
      "execution_count": null,
      "outputs": [
        {
          "output_type": "execute_result",
          "data": {
            "text/plain": [
              "'e nlgrd amnh'"
            ]
          },
          "metadata": {
            "tags": []
          },
          "execution_count": 44
        }
      ]
    },
    {
      "cell_type": "code",
      "metadata": {
        "id": "hWLCZ_yb6cCz",
        "outputId": "dfe9b7f8-9891-4502-c44e-512d3be55a68"
      },
      "source": [
        "'lugar' in a"
      ],
      "execution_count": null,
      "outputs": [
        {
          "output_type": "execute_result",
          "data": {
            "text/plain": [
              "True"
            ]
          },
          "metadata": {
            "tags": []
          },
          "execution_count": 45
        }
      ]
    },
    {
      "cell_type": "markdown",
      "metadata": {
        "id": "EPEK47HW6cC0"
      },
      "source": [
        "with special operations"
      ]
    },
    {
      "cell_type": "code",
      "metadata": {
        "id": "iLvbnIzL6cC0",
        "outputId": "8108e2b0-64d9-4d9e-b0a8-11e6adcd45cc"
      },
      "source": [
        "words = a.split()\n",
        "words"
      ],
      "execution_count": null,
      "outputs": [
        {
          "output_type": "execute_result",
          "data": {
            "text/plain": [
              "['en', 'un', 'lugar', 'de', 'la', 'mancha']"
            ]
          },
          "metadata": {
            "tags": []
          },
          "execution_count": 46
        }
      ]
    },
    {
      "cell_type": "code",
      "metadata": {
        "id": "MSUMmkrx6cC0",
        "outputId": "8c1f88d8-02fe-4f08-e0b1-3cd946f2d981"
      },
      "source": [
        "\"::\".join(words)"
      ],
      "execution_count": null,
      "outputs": [
        {
          "output_type": "execute_result",
          "data": {
            "text/plain": [
              "'en::un::lugar::de::la::mancha'"
            ]
          },
          "metadata": {
            "tags": []
          },
          "execution_count": 47
        }
      ]
    },
    {
      "cell_type": "code",
      "metadata": {
        "id": "9MRCMTEq6cC0",
        "outputId": "a5064b00-0327-4dfb-fbe3-21f9a29310b7"
      },
      "source": [
        "a.upper()"
      ],
      "execution_count": null,
      "outputs": [
        {
          "output_type": "execute_result",
          "data": {
            "text/plain": [
              "'EN UN LUGAR DE LA MANCHA'"
            ]
          },
          "metadata": {
            "tags": []
          },
          "execution_count": 48
        }
      ]
    },
    {
      "cell_type": "code",
      "metadata": {
        "id": "AM59kVTO6cC0",
        "outputId": "34309f87-f29e-4457-8e80-7da0ae2c748b"
      },
      "source": [
        "a.startswith(\"en\")"
      ],
      "execution_count": null,
      "outputs": [
        {
          "output_type": "execute_result",
          "data": {
            "text/plain": [
              "True"
            ]
          },
          "metadata": {
            "tags": []
          },
          "execution_count": 49
        }
      ]
    },
    {
      "cell_type": "code",
      "metadata": {
        "id": "8x_TM-5W6cC1",
        "outputId": "cc903b5e-4b7e-44e7-e901-8a7d0d588f2f"
      },
      "source": [
        "a.endswith(\"lugar\")"
      ],
      "execution_count": null,
      "outputs": [
        {
          "output_type": "execute_result",
          "data": {
            "text/plain": [
              "False"
            ]
          },
          "metadata": {
            "tags": []
          },
          "execution_count": 50
        }
      ]
    },
    {
      "cell_type": "code",
      "metadata": {
        "id": "1gn4ru_f6cC1",
        "outputId": "9a789ad6-edee-4bf9-b10d-3dd876748ff8"
      },
      "source": [
        "a.find('lugar')"
      ],
      "execution_count": null,
      "outputs": [
        {
          "output_type": "execute_result",
          "data": {
            "text/plain": [
              "6"
            ]
          },
          "metadata": {
            "tags": []
          },
          "execution_count": 51
        }
      ]
    },
    {
      "cell_type": "code",
      "metadata": {
        "id": "WaePMURO6cC2",
        "outputId": "0bde57a4-cf17-4f98-a3b2-10c53ece8afe"
      },
      "source": [
        "a[a.find('lugar'):]"
      ],
      "execution_count": null,
      "outputs": [
        {
          "output_type": "execute_result",
          "data": {
            "text/plain": [
              "'lugar de la mancha'"
            ]
          },
          "metadata": {
            "tags": []
          },
          "execution_count": 52
        }
      ]
    },
    {
      "cell_type": "code",
      "metadata": {
        "id": "86Kl3crt6cC3"
      },
      "source": [
        ""
      ],
      "execution_count": null,
      "outputs": []
    },
    {
      "cell_type": "markdown",
      "metadata": {
        "id": "nteJU3786cC4"
      },
      "source": [
        "## `for` loops\n",
        "\n",
        "unlike other languages, `for` loops are defined over **iterables**. A `list` is an iterable, and there are many other iterables.\n",
        "\n",
        "Python syntax is **indented**.\n",
        "\n",
        "Observe python determines the semantics of `*` according to the context"
      ]
    },
    {
      "cell_type": "code",
      "metadata": {
        "id": "kk4hUwDH6cC4"
      },
      "source": [
        "b = [1,10, 20.5, \"hola\", 10.]"
      ],
      "execution_count": null,
      "outputs": []
    },
    {
      "cell_type": "code",
      "metadata": {
        "id": "8IUKmTTC6cC6",
        "outputId": "f712d76c-9b64-4a58-fd39-ba1557f4b769"
      },
      "source": [
        "for i in b:\n",
        "    print (i, \"-->\", type(i), \"x2 -->\", i*2)"
      ],
      "execution_count": null,
      "outputs": [
        {
          "output_type": "stream",
          "text": [
            "1 --> <class 'int'> x2 --> 2\n",
            "10 --> <class 'int'> x2 --> 20\n",
            "20.5 --> <class 'float'> x2 --> 41.0\n",
            "hola --> <class 'str'> x2 --> holahola\n",
            "10.0 --> <class 'float'> x2 --> 20.0\n"
          ],
          "name": "stdout"
        }
      ]
    },
    {
      "cell_type": "markdown",
      "metadata": {
        "id": "iUp2iTJl6cC9"
      },
      "source": [
        "another example of python as interpreted language"
      ]
    },
    {
      "cell_type": "code",
      "metadata": {
        "id": "4VlOuUjW6cDB",
        "outputId": "bf09d0f6-6634-4d14-e8ca-962c6f67a89a"
      },
      "source": [
        "b = [1,10, 20.5, \"hola\", 10.]\n",
        "for i in b:\n",
        "    print (i, \"-->\", type(i), \"x2 -->\", i**2)"
      ],
      "execution_count": null,
      "outputs": [
        {
          "output_type": "stream",
          "text": [
            "1 --> <class 'int'> x2 --> 1\n",
            "10 --> <class 'int'> x2 --> 100\n",
            "20.5 --> <class 'float'> x2 --> 420.25\n"
          ],
          "name": "stdout"
        },
        {
          "output_type": "error",
          "ename": "TypeError",
          "evalue": "unsupported operand type(s) for ** or pow(): 'str' and 'int'",
          "traceback": [
            "\u001b[0;31m---------------------------------------------------------------------------\u001b[0m",
            "\u001b[0;31mTypeError\u001b[0m                                 Traceback (most recent call last)",
            "\u001b[0;32m<ipython-input-55-4b8904782ded>\u001b[0m in \u001b[0;36m<module>\u001b[0;34m\u001b[0m\n\u001b[1;32m      1\u001b[0m \u001b[0mb\u001b[0m \u001b[0;34m=\u001b[0m \u001b[0;34m[\u001b[0m\u001b[0;36m1\u001b[0m\u001b[0;34m,\u001b[0m\u001b[0;36m10\u001b[0m\u001b[0;34m,\u001b[0m \u001b[0;36m20.5\u001b[0m\u001b[0;34m,\u001b[0m \u001b[0;34m\"hola\"\u001b[0m\u001b[0;34m,\u001b[0m \u001b[0;36m10.\u001b[0m\u001b[0;34m]\u001b[0m\u001b[0;34m\u001b[0m\u001b[0;34m\u001b[0m\u001b[0m\n\u001b[1;32m      2\u001b[0m \u001b[0;32mfor\u001b[0m \u001b[0mi\u001b[0m \u001b[0;32min\u001b[0m \u001b[0mb\u001b[0m\u001b[0;34m:\u001b[0m\u001b[0;34m\u001b[0m\u001b[0;34m\u001b[0m\u001b[0m\n\u001b[0;32m----> 3\u001b[0;31m     \u001b[0mprint\u001b[0m \u001b[0;34m(\u001b[0m\u001b[0mi\u001b[0m\u001b[0;34m,\u001b[0m \u001b[0;34m\"-->\"\u001b[0m\u001b[0;34m,\u001b[0m \u001b[0mtype\u001b[0m\u001b[0;34m(\u001b[0m\u001b[0mi\u001b[0m\u001b[0;34m)\u001b[0m\u001b[0;34m,\u001b[0m \u001b[0;34m\"x2 -->\"\u001b[0m\u001b[0;34m,\u001b[0m \u001b[0mi\u001b[0m\u001b[0;34m**\u001b[0m\u001b[0;36m2\u001b[0m\u001b[0;34m)\u001b[0m\u001b[0;34m\u001b[0m\u001b[0;34m\u001b[0m\u001b[0m\n\u001b[0m",
            "\u001b[0;31mTypeError\u001b[0m: unsupported operand type(s) for ** or pow(): 'str' and 'int'"
          ]
        }
      ]
    },
    {
      "cell_type": "markdown",
      "metadata": {
        "id": "HrCmAFkC6cDB"
      },
      "source": [
        "**iterators**\n",
        "\n",
        "sometimes we do not need to hold all the contents of a list in memory, but they can be generated as they are being asked for."
      ]
    },
    {
      "cell_type": "code",
      "metadata": {
        "scrolled": true,
        "id": "lXMz5VfK6cDC",
        "outputId": "bb41ae9a-ec5b-4e4e-e820-01646f50c8fe"
      },
      "source": [
        "k = range(-3,10,2)\n",
        "k"
      ],
      "execution_count": null,
      "outputs": [
        {
          "output_type": "execute_result",
          "data": {
            "text/plain": [
              "range(-3, 10, 2)"
            ]
          },
          "metadata": {
            "tags": []
          },
          "execution_count": 56
        }
      ]
    },
    {
      "cell_type": "markdown",
      "metadata": {
        "id": "yMQBMetF6cDD"
      },
      "source": [
        "size in memory"
      ]
    },
    {
      "cell_type": "code",
      "metadata": {
        "id": "ik61JZ0m6cDD",
        "outputId": "6123b50c-9dad-4e34-a486-2e4d51c3e18c"
      },
      "source": [
        "k.__sizeof__()"
      ],
      "execution_count": null,
      "outputs": [
        {
          "output_type": "execute_result",
          "data": {
            "text/plain": [
              "48"
            ]
          },
          "metadata": {
            "tags": []
          },
          "execution_count": 57
        }
      ]
    },
    {
      "cell_type": "code",
      "metadata": {
        "id": "liXt-sbR6cDD",
        "outputId": "4f588797-f961-4994-b3b5-7c8e38b29fde"
      },
      "source": [
        "for i in k:\n",
        "    print (i, end=\", \")"
      ],
      "execution_count": null,
      "outputs": [
        {
          "output_type": "stream",
          "text": [
            "-3, -1, 1, 3, 5, 7, 9, "
          ],
          "name": "stdout"
        }
      ]
    },
    {
      "cell_type": "code",
      "metadata": {
        "id": "ibJJX3_A6cDE",
        "outputId": "547c03bc-cc17-4ceb-e97a-f009ed6c40a0"
      },
      "source": [
        "big_range = range(0,100000,2)\n",
        "big_range.__sizeof__()"
      ],
      "execution_count": null,
      "outputs": [
        {
          "output_type": "execute_result",
          "data": {
            "text/plain": [
              "48"
            ]
          },
          "metadata": {
            "tags": []
          },
          "execution_count": 59
        }
      ]
    },
    {
      "cell_type": "code",
      "metadata": {
        "id": "9U4fKc6G6cDE",
        "outputId": "3338abb9-5cde-4e2b-b386-1250250a2677"
      },
      "source": [
        "s = 0\n",
        "for i in big_range:\n",
        "    s += i\n",
        "s"
      ],
      "execution_count": null,
      "outputs": [
        {
          "output_type": "execute_result",
          "data": {
            "text/plain": [
              "2499950000"
            ]
          },
          "metadata": {
            "tags": []
          },
          "execution_count": 60
        }
      ]
    },
    {
      "cell_type": "markdown",
      "metadata": {
        "id": "v-e4zAlu6cDF"
      },
      "source": [
        "if converted to a list, then they are physically in memory"
      ]
    },
    {
      "cell_type": "code",
      "metadata": {
        "id": "tGHapCmX6cDF",
        "outputId": "4fd1a674-82bc-4aea-b515-17052d2f3b3f"
      },
      "source": [
        "a = list(big_range)\n",
        "a.__sizeof__()"
      ],
      "execution_count": null,
      "outputs": [
        {
          "output_type": "execute_result",
          "data": {
            "text/plain": [
              "450088"
            ]
          },
          "metadata": {
            "tags": []
          },
          "execution_count": 61
        }
      ]
    },
    {
      "cell_type": "markdown",
      "metadata": {
        "id": "2w40HLAs6cDF"
      },
      "source": [
        "zip iterators"
      ]
    },
    {
      "cell_type": "code",
      "metadata": {
        "id": "TCxQn9RP6cDG",
        "outputId": "5ac98503-20d9-4540-f057-e3e9d460508a"
      },
      "source": [
        "a = [\"nada\", \"adios\", 10.]\n",
        "b = [1,10, 20.5, \"hola\", 10.]\n",
        "\n",
        "for i,j in zip(a,b):\n",
        "    print (i,j)"
      ],
      "execution_count": null,
      "outputs": [
        {
          "output_type": "stream",
          "text": [
            "nada 1\n",
            "adios 10\n",
            "10.0 20.5\n"
          ],
          "name": "stdout"
        }
      ]
    },
    {
      "cell_type": "code",
      "metadata": {
        "id": "V2-cEyxd6cDG"
      },
      "source": [
        ""
      ],
      "execution_count": null,
      "outputs": []
    },
    {
      "cell_type": "markdown",
      "metadata": {
        "id": "NRK3uWkQ6cDG"
      },
      "source": [
        "## Other control structures\n",
        "\n",
        "string formatting / if / then / break / continue / while, etc."
      ]
    },
    {
      "cell_type": "code",
      "metadata": {
        "id": "fwWJS2JB6cDG",
        "outputId": "b1eedbd6-dab5-4848-d3a6-e0901d4bc2c9"
      },
      "source": [
        "b = [1,10, 20.5, \"hola\", 10., 12]\n",
        "for i in b:\n",
        "    if i=='hola':\n",
        "        break\n",
        "    print (i, type(i))"
      ],
      "execution_count": null,
      "outputs": [
        {
          "output_type": "stream",
          "text": [
            "1 <class 'int'>\n",
            "10 <class 'int'>\n",
            "20.5 <class 'float'>\n"
          ],
          "name": "stdout"
        }
      ]
    },
    {
      "cell_type": "code",
      "metadata": {
        "id": "rcT0j5706cDG",
        "outputId": "22448819-b417-4bf4-ae2d-a434b6b1005c"
      },
      "source": [
        "b = [1,10, 20.5, \"hola\", 10., 12]\n",
        "for i in b:\n",
        "    if i=='hola':\n",
        "        break\n",
        "    elif type(i)==int:\n",
        "        print (\"INT\", end=\" \")\n",
        "    elif i>10:\n",
        "        print (\">10\", end=\" \")\n",
        "    print (i, type(i))"
      ],
      "execution_count": null,
      "outputs": [
        {
          "output_type": "stream",
          "text": [
            "INT 1 <class 'int'>\n",
            "INT 10 <class 'int'>\n",
            ">10 20.5 <class 'float'>\n"
          ],
          "name": "stdout"
        }
      ]
    },
    {
      "cell_type": "code",
      "metadata": {
        "id": "zNBOSqiQ6cDG",
        "outputId": "e5fb2e22-7d76-46be-d569-8f003e2da699"
      },
      "source": [
        "for i in b:\n",
        "    if i=='hola':\n",
        "        continue\n",
        "    elif type(i)==int:\n",
        "        print (\"INT\", end=\" \")\n",
        "    elif i>10:\n",
        "        print (\">10\", end=\" \")\n",
        "    else:\n",
        "        print (\"UNK\", end=\" \")\n",
        "    print (i, type(i))        \n",
        "    "
      ],
      "execution_count": null,
      "outputs": [
        {
          "output_type": "stream",
          "text": [
            "INT 1 <class 'int'>\n",
            "INT 10 <class 'int'>\n",
            ">10 20.5 <class 'float'>\n",
            "UNK 10.0 <class 'float'>\n",
            "INT 12 <class 'int'>\n"
          ],
          "name": "stdout"
        }
      ]
    },
    {
      "cell_type": "code",
      "metadata": {
        "id": "TpJ9K4Cp6cDH",
        "outputId": "3f21d92a-73bf-49c6-855a-54f727bf3d42"
      },
      "source": [
        "for pos, i in enumerate(b):\n",
        "    if i=='hola':\n",
        "        continue\n",
        "    print (\"%02d :: %5.1f :: %20s\"%(pos,i,type(i)))"
      ],
      "execution_count": null,
      "outputs": [
        {
          "output_type": "stream",
          "text": [
            "00 ::   1.0 ::        <class 'int'>\n",
            "01 ::  10.0 ::        <class 'int'>\n",
            "02 ::  20.5 ::      <class 'float'>\n",
            "04 ::  10.0 ::      <class 'float'>\n",
            "05 ::  12.0 ::        <class 'int'>\n"
          ],
          "name": "stdout"
        }
      ]
    },
    {
      "cell_type": "code",
      "metadata": {
        "id": "Vq5FzFPR6cDH",
        "outputId": "be937eab-9f8e-47d4-881b-6597c88a9ac5"
      },
      "source": [
        "i=1\n",
        "while i<len(b):\n",
        "    print (i, b[i], type(b[i]))\n",
        "    i += 1"
      ],
      "execution_count": null,
      "outputs": [
        {
          "output_type": "stream",
          "text": [
            "1 10 <class 'int'>\n",
            "2 20.5 <class 'float'>\n",
            "3 hola <class 'str'>\n",
            "4 10.0 <class 'float'>\n",
            "5 12 <class 'int'>\n"
          ],
          "name": "stdout"
        }
      ]
    },
    {
      "cell_type": "markdown",
      "metadata": {
        "id": "BVomKk9a6cDH"
      },
      "source": [
        "## Dictionaries"
      ]
    },
    {
      "cell_type": "code",
      "metadata": {
        "id": "66MHN8i56cDH",
        "outputId": "e9df37fc-86b2-41ca-8267-acb7113ecbf9"
      },
      "source": [
        "d = {\"i1\": 16, \"nombre\": \"haskel\", \"edad\": 32, 20: \"el numero 20\"}\n",
        "\n",
        "d['i1']"
      ],
      "execution_count": null,
      "outputs": [
        {
          "output_type": "execute_result",
          "data": {
            "text/plain": [
              "16"
            ]
          },
          "metadata": {
            "tags": []
          },
          "execution_count": 68
        }
      ]
    },
    {
      "cell_type": "code",
      "metadata": {
        "id": "8-W79-h-6cDH",
        "outputId": "2071a074-22d2-4aec-cf7b-1ae7141ebe07"
      },
      "source": [
        "d[20]"
      ],
      "execution_count": null,
      "outputs": [
        {
          "output_type": "execute_result",
          "data": {
            "text/plain": [
              "'el numero 20'"
            ]
          },
          "metadata": {
            "tags": []
          },
          "execution_count": 69
        }
      ]
    },
    {
      "cell_type": "code",
      "metadata": {
        "id": "Bix6w7wN6cDI",
        "outputId": "9ffe562b-1e91-4fcc-92bc-200817e2f7e6"
      },
      "source": [
        "d.values()"
      ],
      "execution_count": null,
      "outputs": [
        {
          "output_type": "execute_result",
          "data": {
            "text/plain": [
              "dict_values([16, 'haskel', 32, 'el numero 20'])"
            ]
          },
          "metadata": {
            "tags": []
          },
          "execution_count": 70
        }
      ]
    },
    {
      "cell_type": "code",
      "metadata": {
        "id": "liZL-rsH6cDI",
        "outputId": "aa61f6c2-c5c5-4ee9-c1c2-1882064e37f0"
      },
      "source": [
        "d.keys()"
      ],
      "execution_count": null,
      "outputs": [
        {
          "output_type": "execute_result",
          "data": {
            "text/plain": [
              "dict_keys(['i1', 'nombre', 'edad', 20])"
            ]
          },
          "metadata": {
            "tags": []
          },
          "execution_count": 71
        }
      ]
    },
    {
      "cell_type": "code",
      "metadata": {
        "id": "pvCJ5IqP6cDI",
        "outputId": "bcbe8d5d-dde9-45a9-e376-7a94e34728ed"
      },
      "source": [
        "for i in d.keys():\n",
        "    print(\"la clave\", i, \"tiene el valor\", d[i])"
      ],
      "execution_count": null,
      "outputs": [
        {
          "output_type": "stream",
          "text": [
            "la clave i1 tiene el valor 16\n",
            "la clave nombre tiene el valor haskel\n",
            "la clave edad tiene el valor 32\n",
            "la clave 20 tiene el valor el numero 20\n"
          ],
          "name": "stdout"
        }
      ]
    },
    {
      "cell_type": "code",
      "metadata": {
        "id": "YseaBdCp6cDI",
        "outputId": "32883900-8854-41ab-94c9-fe28121fed7a"
      },
      "source": [
        "for k,v in d.items():\n",
        "    print(\"la clave\", k, \"tiene el valor\", v)    "
      ],
      "execution_count": null,
      "outputs": [
        {
          "output_type": "stream",
          "text": [
            "la clave i1 tiene el valor 16\n",
            "la clave nombre tiene el valor haskel\n",
            "la clave edad tiene el valor 32\n",
            "la clave 20 tiene el valor el numero 20\n"
          ],
          "name": "stdout"
        }
      ]
    },
    {
      "cell_type": "markdown",
      "metadata": {
        "id": "sfWi41V86cDJ"
      },
      "source": [
        "and can be updated"
      ]
    },
    {
      "cell_type": "code",
      "metadata": {
        "id": "3iznAACP6cDJ"
      },
      "source": [
        "d[48] = \"otro numero\"\n",
        "d[\"nada\"] = 0"
      ],
      "execution_count": null,
      "outputs": []
    },
    {
      "cell_type": "code",
      "metadata": {
        "id": "P7GPHwoQ6cDJ",
        "outputId": "714cdd56-5a0a-4afd-9ff9-5a188343c4bb"
      },
      "source": [
        "for k,v in d.items():\n",
        "    print(\"la clave\", k, \"tiene el valor\", v)    "
      ],
      "execution_count": null,
      "outputs": [
        {
          "output_type": "stream",
          "text": [
            "la clave i1 tiene el valor 16\n",
            "la clave nombre tiene el valor haskel\n",
            "la clave edad tiene el valor 32\n",
            "la clave 20 tiene el valor el numero 20\n",
            "la clave 48 tiene el valor otro numero\n",
            "la clave nada tiene el valor 0\n"
          ],
          "name": "stdout"
        }
      ]
    },
    {
      "cell_type": "markdown",
      "metadata": {
        "id": "822-2ayH6cDJ"
      },
      "source": [
        "## Tuples\n",
        "\n",
        "tuples are **inmutable** lists"
      ]
    },
    {
      "cell_type": "code",
      "metadata": {
        "id": "ZyzjJ4Y76cDJ"
      },
      "source": [
        "a = (10,3,4,5)"
      ],
      "execution_count": null,
      "outputs": []
    },
    {
      "cell_type": "code",
      "metadata": {
        "id": "xY2rRk7C6cDJ",
        "outputId": "561eedd6-85de-4fb2-e396-d0c8a0c4c659"
      },
      "source": [
        "a[3], a[::-1], sum(a)"
      ],
      "execution_count": null,
      "outputs": [
        {
          "output_type": "execute_result",
          "data": {
            "text/plain": [
              "(5, (5, 4, 3, 10), 22)"
            ]
          },
          "metadata": {
            "tags": []
          },
          "execution_count": 6
        }
      ]
    },
    {
      "cell_type": "code",
      "metadata": {
        "id": "OaG2YSVs6cDK",
        "outputId": "63074e97-e5d5-467b-8315-02cf4aea42a0"
      },
      "source": [
        "a[3]=1"
      ],
      "execution_count": null,
      "outputs": [
        {
          "output_type": "error",
          "ename": "TypeError",
          "evalue": "'tuple' object does not support item assignment",
          "traceback": [
            "\u001b[0;31m---------------------------------------------------------------------------\u001b[0m",
            "\u001b[0;31mTypeError\u001b[0m                                 Traceback (most recent call last)",
            "\u001b[0;32m<ipython-input-4-36ab6b9a6038>\u001b[0m in \u001b[0;36m<module>\u001b[0;34m\u001b[0m\n\u001b[0;32m----> 1\u001b[0;31m \u001b[0ma\u001b[0m\u001b[0;34m[\u001b[0m\u001b[0;36m3\u001b[0m\u001b[0;34m]\u001b[0m\u001b[0;34m=\u001b[0m\u001b[0;36m1\u001b[0m\u001b[0;34m\u001b[0m\u001b[0;34m\u001b[0m\u001b[0m\n\u001b[0m",
            "\u001b[0;31mTypeError\u001b[0m: 'tuple' object does not support item assignment"
          ]
        }
      ]
    },
    {
      "cell_type": "markdown",
      "metadata": {
        "id": "k0PtZVB66cDK"
      },
      "source": [
        "and thus can be used for keys, indexing, etc."
      ]
    },
    {
      "cell_type": "code",
      "metadata": {
        "id": "u7GjQfLs6cDK",
        "outputId": "12426d05-d312-43ba-b62c-2d96398e1ef5"
      },
      "source": [
        "d = {}\n",
        "d[\"hola\"] = 3\n",
        "d[1] = \"one\"\n",
        "d[(4,5)] = \"a tuple\"\n",
        "d"
      ],
      "execution_count": null,
      "outputs": [
        {
          "output_type": "execute_result",
          "data": {
            "text/plain": [
              "{'hola': 3, 1: 'one', (4, 5): 'a tuple'}"
            ]
          },
          "metadata": {
            "tags": []
          },
          "execution_count": 8
        }
      ]
    },
    {
      "cell_type": "markdown",
      "metadata": {
        "id": "YHvcuefr6cDK"
      },
      "source": [
        "however"
      ]
    },
    {
      "cell_type": "code",
      "metadata": {
        "id": "xRDIyC246cDK",
        "outputId": "4ce64c51-fc09-4fc8-ebb4-d2fd7f049d44"
      },
      "source": [
        "d[[4,5]]"
      ],
      "execution_count": null,
      "outputs": [
        {
          "output_type": "error",
          "ename": "TypeError",
          "evalue": "unhashable type: 'list'",
          "traceback": [
            "\u001b[0;31m---------------------------------------------------------------------------\u001b[0m",
            "\u001b[0;31mTypeError\u001b[0m                                 Traceback (most recent call last)",
            "\u001b[0;32m<ipython-input-9-857cb2d3ff14>\u001b[0m in \u001b[0;36m<module>\u001b[0;34m\u001b[0m\n\u001b[0;32m----> 1\u001b[0;31m \u001b[0md\u001b[0m\u001b[0;34m[\u001b[0m\u001b[0;34m[\u001b[0m\u001b[0;36m4\u001b[0m\u001b[0;34m,\u001b[0m\u001b[0;36m5\u001b[0m\u001b[0;34m]\u001b[0m\u001b[0;34m]\u001b[0m\u001b[0;34m\u001b[0m\u001b[0;34m\u001b[0m\u001b[0m\n\u001b[0m",
            "\u001b[0;31mTypeError\u001b[0m: unhashable type: 'list'"
          ]
        }
      ]
    },
    {
      "cell_type": "code",
      "metadata": {
        "id": "hoCXstpV6cDK"
      },
      "source": [
        ""
      ],
      "execution_count": null,
      "outputs": []
    }
  ]
}