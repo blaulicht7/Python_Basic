{
  "nbformat": 4,
  "nbformat_minor": 0,
  "metadata": {
    "colab": {
      "provenance": [],
      "toc_visible": true,
      "mount_file_id": "1O3s4jU8FEkYOwVHNcg8oqVwuwbrNAnbL",
      "authorship_tag": "ABX9TyNtSKlcRQW5pDXiUKQx1LeW",
      "include_colab_link": true
    },
    "kernelspec": {
      "name": "python3",
      "display_name": "Python 3"
    },
    "language_info": {
      "name": "python"
    }
  },
  "cells": [
    {
      "cell_type": "markdown",
      "metadata": {
        "id": "view-in-github",
        "colab_type": "text"
      },
      "source": [
        "<a href=\"https://colab.research.google.com/github/blaulicht7/Python_Basic/blob/main/Primeros_conceptos.ipynb\" target=\"_parent\"><img src=\"https://colab.research.google.com/assets/colab-badge.svg\" alt=\"Open In Colab\"/></a>"
      ]
    },
    {
      "cell_type": "markdown",
      "source": [
        "# **CONCEPTOS BÁSICOS**\n",
        "**Integer:** números enteros, no tienen decimales. Ejemplo 100\n",
        "\n",
        "**Float:** números decimales, después del punto decimal puede mostrar dígitos. Ejemplo: 5.3\n",
        "\n",
        "*Nota: El número 0.0 es un número float*\n",
        "\n",
        "Más información https://docs.python.org/2/tutorial/floatingpoint.html\n"
      ],
      "metadata": {
        "id": "VfsO-b0ZFKe7"
      }
    },
    {
      "cell_type": "code",
      "execution_count": null,
      "metadata": {
        "colab": {
          "base_uri": "https://localhost:8080/"
        },
        "id": "z2Ot14UY68wB",
        "outputId": "6217a7e7-b9d1-4e0e-ac62-ce138f8985e5"
      },
      "outputs": [
        {
          "output_type": "stream",
          "name": "stdout",
          "text": [
            "hello \n",
            "world\n"
          ]
        }
      ],
      "source": [
        "#Para crear una segunda línea se debe usar \\n \n",
        "print (\"hello \\nworld\")\n"
      ]
    },
    {
      "cell_type": "code",
      "source": [
        "#Para crear un espacio más grande se debe usar \\t\n",
        "print (\"hello \\tworld\")"
      ],
      "metadata": {
        "colab": {
          "base_uri": "https://localhost:8080/"
        },
        "id": "0H-CnjFkPcDn",
        "outputId": "eb289f2c-7eab-4480-ee25-571ed1e71feb"
      },
      "execution_count": null,
      "outputs": [
        {
          "output_type": "stream",
          "name": "stdout",
          "text": [
            "hello \tworld\n"
          ]
        }
      ]
    },
    {
      "cell_type": "code",
      "source": [
        "#Funcion len, se usa para contar los caracteres \n",
        "len(\"hello\")"
      ],
      "metadata": {
        "colab": {
          "base_uri": "https://localhost:8080/"
        },
        "id": "xG1XNDWuPb8f",
        "outputId": "06708bc0-dab1-408f-b54d-7183d88af98e"
      },
      "execution_count": null,
      "outputs": [
        {
          "output_type": "execute_result",
          "data": {
            "text/plain": [
              "5"
            ]
          },
          "metadata": {},
          "execution_count": 4
        }
      ]
    },
    {
      "cell_type": "code",
      "source": [
        "mystring = \"Hello World\""
      ],
      "metadata": {
        "id": "OBw6ArIiPbzw"
      },
      "execution_count": null,
      "outputs": []
    },
    {
      "cell_type": "code",
      "source": [
        "mystring"
      ],
      "metadata": {
        "colab": {
          "base_uri": "https://localhost:8080/",
          "height": 35
        },
        "id": "FI_-9kzL-YAV",
        "outputId": "a283091e-8aff-49b7-cb70-2a765584a1ba"
      },
      "execution_count": null,
      "outputs": [
        {
          "output_type": "execute_result",
          "data": {
            "text/plain": [
              "'Hello World'"
            ],
            "application/vnd.google.colaboratory.intrinsic+json": {
              "type": "string"
            }
          },
          "metadata": {},
          "execution_count": 6
        }
      ]
    },
    {
      "cell_type": "code",
      "source": [
        "#Para seleccionar caracteres especificos, se le conoce como indexación\n",
        "mystring[0]"
      ],
      "metadata": {
        "colab": {
          "base_uri": "https://localhost:8080/",
          "height": 35
        },
        "id": "Ig3UixEQ-X9O",
        "outputId": "f1515d47-5ce4-41d7-be0f-1a36804a9b9e"
      },
      "execution_count": null,
      "outputs": [
        {
          "output_type": "execute_result",
          "data": {
            "text/plain": [
              "'H'"
            ],
            "application/vnd.google.colaboratory.intrinsic+json": {
              "type": "string"
            }
          },
          "metadata": {},
          "execution_count": 7
        }
      ]
    },
    {
      "cell_type": "code",
      "source": [
        "mystring [8]"
      ],
      "metadata": {
        "colab": {
          "base_uri": "https://localhost:8080/",
          "height": 35
        },
        "id": "YDJCwCmG-X6O",
        "outputId": "3524ec31-4077-4b13-a098-ab6290ff0b96"
      },
      "execution_count": null,
      "outputs": [
        {
          "output_type": "execute_result",
          "data": {
            "text/plain": [
              "'r'"
            ],
            "application/vnd.google.colaboratory.intrinsic+json": {
              "type": "string"
            }
          },
          "metadata": {},
          "execution_count": 8
        }
      ]
    },
    {
      "cell_type": "code",
      "source": [
        "#Puedo usar valores positivos o negativos para seleccionar los caracteres de un string\n",
        "mystring[-2]"
      ],
      "metadata": {
        "colab": {
          "base_uri": "https://localhost:8080/",
          "height": 35
        },
        "id": "cYGmX6rV-X20",
        "outputId": "2b07a643-ebb8-42a6-b744-4e7fee2228d1"
      },
      "execution_count": null,
      "outputs": [
        {
          "output_type": "execute_result",
          "data": {
            "text/plain": [
              "'l'"
            ],
            "application/vnd.google.colaboratory.intrinsic+json": {
              "type": "string"
            }
          },
          "metadata": {},
          "execution_count": 9
        }
      ]
    },
    {
      "cell_type": "code",
      "source": [
        "#Slicing, se usa más para dividir un punto y desde ahí continuar con la expresión\n",
        "mystring = \"abcdefghijk\""
      ],
      "metadata": {
        "id": "nI3aNpne-Xzl"
      },
      "execution_count": null,
      "outputs": []
    },
    {
      "cell_type": "code",
      "source": [
        "mystring"
      ],
      "metadata": {
        "colab": {
          "base_uri": "https://localhost:8080/",
          "height": 35
        },
        "id": "lh-kGxoN-XwD",
        "outputId": "70462ea9-a02c-4a25-93f3-c881424014d8"
      },
      "execution_count": null,
      "outputs": [
        {
          "output_type": "execute_result",
          "data": {
            "text/plain": [
              "'abcdefghijk'"
            ],
            "application/vnd.google.colaboratory.intrinsic+json": {
              "type": "string"
            }
          },
          "metadata": {},
          "execution_count": 11
        }
      ]
    },
    {
      "cell_type": "code",
      "source": [
        "mystring [2:]"
      ],
      "metadata": {
        "colab": {
          "base_uri": "https://localhost:8080/",
          "height": 35
        },
        "id": "0qlg41va-Xp1",
        "outputId": "7fceb371-4201-4089-cbe4-41a1413c9ac5"
      },
      "execution_count": null,
      "outputs": [
        {
          "output_type": "execute_result",
          "data": {
            "text/plain": [
              "'cdefghijk'"
            ],
            "application/vnd.google.colaboratory.intrinsic+json": {
              "type": "string"
            }
          },
          "metadata": {},
          "execution_count": 12
        }
      ]
    },
    {
      "cell_type": "code",
      "source": [
        "mystring [3:6]"
      ],
      "metadata": {
        "id": "NhPBM4Kg_4n2",
        "colab": {
          "base_uri": "https://localhost:8080/",
          "height": 35
        },
        "outputId": "caef6364-eb52-4d22-dda8-e1f706c3c82f"
      },
      "execution_count": null,
      "outputs": [
        {
          "output_type": "execute_result",
          "data": {
            "text/plain": [
              "'def'"
            ],
            "application/vnd.google.colaboratory.intrinsic+json": {
              "type": "string"
            }
          },
          "metadata": {},
          "execution_count": 13
        }
      ]
    },
    {
      "cell_type": "code",
      "source": [
        "mystring [1:3]"
      ],
      "metadata": {
        "id": "vssfh4nd_4k_",
        "colab": {
          "base_uri": "https://localhost:8080/",
          "height": 35
        },
        "outputId": "c7be3063-c862-48ff-8092-a9e3def95121"
      },
      "execution_count": null,
      "outputs": [
        {
          "output_type": "execute_result",
          "data": {
            "text/plain": [
              "'bc'"
            ],
            "application/vnd.google.colaboratory.intrinsic+json": {
              "type": "string"
            }
          },
          "metadata": {},
          "execution_count": 14
        }
      ]
    },
    {
      "cell_type": "code",
      "source": [
        "#Para escoger de 2 en dos debemos colocar dos veces ::, también se puede de 3 en 3\n",
        "mystring[::2]"
      ],
      "metadata": {
        "id": "Bg8ZZMdQ_4h4",
        "colab": {
          "base_uri": "https://localhost:8080/",
          "height": 35
        },
        "outputId": "cc7868ff-c807-4283-e6b0-832ef3d1b827"
      },
      "execution_count": null,
      "outputs": [
        {
          "output_type": "execute_result",
          "data": {
            "text/plain": [
              "'acegik'"
            ],
            "application/vnd.google.colaboratory.intrinsic+json": {
              "type": "string"
            }
          },
          "metadata": {},
          "execution_count": 15
        }
      ]
    },
    {
      "cell_type": "code",
      "source": [
        "mystring[::3]"
      ],
      "metadata": {
        "id": "pkPTp8P-_4ev",
        "colab": {
          "base_uri": "https://localhost:8080/",
          "height": 35
        },
        "outputId": "d146b747-49e5-418d-f364-3dfa48860dd1"
      },
      "execution_count": null,
      "outputs": [
        {
          "output_type": "execute_result",
          "data": {
            "text/plain": [
              "'adgj'"
            ],
            "application/vnd.google.colaboratory.intrinsic+json": {
              "type": "string"
            }
          },
          "metadata": {},
          "execution_count": 16
        }
      ]
    },
    {
      "cell_type": "code",
      "source": [
        "#Para dar la inversa a la expresión usaremos  ::-1\n",
        "mystring[::-1]"
      ],
      "metadata": {
        "id": "e4TS8qJq_4bO",
        "colab": {
          "base_uri": "https://localhost:8080/",
          "height": 35
        },
        "outputId": "7418fa72-fbaa-4dc8-ccfd-a239efea2904"
      },
      "execution_count": null,
      "outputs": [
        {
          "output_type": "execute_result",
          "data": {
            "text/plain": [
              "'kjihgfedcba'"
            ],
            "application/vnd.google.colaboratory.intrinsic+json": {
              "type": "string"
            }
          },
          "metadata": {},
          "execution_count": 18
        }
      ]
    },
    {
      "cell_type": "markdown",
      "source": [
        "# **IMMUTABILITY - STRING**"
      ],
      "metadata": {
        "id": "HqUGXgDe02eO"
      }
    },
    {
      "cell_type": "markdown",
      "source": [
        "no pueden mutar o cambiar los valores de un string"
      ],
      "metadata": {
        "id": "D_9M6RQlCXM4"
      }
    },
    {
      "cell_type": "code",
      "source": [],
      "metadata": {
        "id": "dGguFKtG_4YP"
      },
      "execution_count": null,
      "outputs": []
    },
    {
      "cell_type": "code",
      "source": [],
      "metadata": {
        "id": "y0KdQLMQ01d5"
      },
      "execution_count": null,
      "outputs": []
    },
    {
      "cell_type": "code",
      "source": [
        "2 + 3"
      ],
      "metadata": {
        "colab": {
          "base_uri": "https://localhost:8080/"
        },
        "id": "Pgy40lzA01bC",
        "outputId": "34c2b04d-62f3-4e41-cfa2-f09a19ad4197"
      },
      "execution_count": null,
      "outputs": [
        {
          "output_type": "execute_result",
          "data": {
            "text/plain": [
              "5"
            ]
          },
          "metadata": {},
          "execution_count": 20
        }
      ]
    },
    {
      "cell_type": "code",
      "source": [
        "'2' + '3'"
      ],
      "metadata": {
        "colab": {
          "base_uri": "https://localhost:8080/",
          "height": 35
        },
        "id": "NOhPo2GW01YI",
        "outputId": "dbd0a694-daa6-4944-b3c9-ecf01d02c7a6"
      },
      "execution_count": null,
      "outputs": [
        {
          "output_type": "execute_result",
          "data": {
            "text/plain": [
              "'23'"
            ],
            "application/vnd.google.colaboratory.intrinsic+json": {
              "type": "string"
            }
          },
          "metadata": {},
          "execution_count": 19
        }
      ]
    },
    {
      "cell_type": "code",
      "source": [
        "#Mayusculas y minusculas\n",
        "x = \"Hello World\"\n",
        "x"
      ],
      "metadata": {
        "colab": {
          "base_uri": "https://localhost:8080/",
          "height": 35
        },
        "id": "YivlsYVE01Vf",
        "outputId": "2b72f374-f123-47b8-e14e-4fc7d06b5661"
      },
      "execution_count": null,
      "outputs": [
        {
          "output_type": "execute_result",
          "data": {
            "text/plain": [
              "'Hello World'"
            ],
            "application/vnd.google.colaboratory.intrinsic+json": {
              "type": "string"
            }
          },
          "metadata": {},
          "execution_count": 22
        }
      ]
    },
    {
      "cell_type": "code",
      "source": [
        "x.upper()"
      ],
      "metadata": {
        "colab": {
          "base_uri": "https://localhost:8080/",
          "height": 35
        },
        "id": "DpAN8m1Y01Sn",
        "outputId": "33c5c7ea-5622-48fc-89f2-33a8c490e3e6"
      },
      "execution_count": null,
      "outputs": [
        {
          "output_type": "execute_result",
          "data": {
            "text/plain": [
              "'HELLO WORLD'"
            ],
            "application/vnd.google.colaboratory.intrinsic+json": {
              "type": "string"
            }
          },
          "metadata": {},
          "execution_count": 23
        }
      ]
    },
    {
      "cell_type": "code",
      "source": [
        "x.lower()"
      ],
      "metadata": {
        "colab": {
          "base_uri": "https://localhost:8080/",
          "height": 35
        },
        "id": "SsMOEkEg01P2",
        "outputId": "f2e91157-d5d0-4277-bc2d-e95bd88ac6fc"
      },
      "execution_count": null,
      "outputs": [
        {
          "output_type": "execute_result",
          "data": {
            "text/plain": [
              "'hello world'"
            ],
            "application/vnd.google.colaboratory.intrinsic+json": {
              "type": "string"
            }
          },
          "metadata": {},
          "execution_count": 24
        }
      ]
    },
    {
      "cell_type": "code",
      "source": [
        "#Para dividir una expresión que tenga espacios\n",
        "x.split()"
      ],
      "metadata": {
        "colab": {
          "base_uri": "https://localhost:8080/"
        },
        "id": "DXDmEpY-01M_",
        "outputId": "b65d79d9-af5a-4e82-f95d-8163a476fd46"
      },
      "execution_count": null,
      "outputs": [
        {
          "output_type": "execute_result",
          "data": {
            "text/plain": [
              "['Hello', 'World']"
            ]
          },
          "metadata": {},
          "execution_count": 25
        }
      ]
    },
    {
      "cell_type": "markdown",
      "source": [
        "1. ¿Las cadenas son mutables?: Las cadenas no son mutables. (lo que significa que no se puede utilizar la indexación para cambiar elementos individuales de una cadena)\n",
        "\n",
        "2. ¿Cómo puedo crear comentarios en mi código?: Puedes usar el hashtag # para crear comentarios en tu código"
      ],
      "metadata": {
        "id": "-UBREc3nWbGK"
      }
    },
    {
      "cell_type": "markdown",
      "source": [
        "#**INTERPOLACIÓN DE STRINGS**\n",
        "\n",
        "*Formatting with the .format() method\n",
        "\n",
        "Una buena manera de dar formato a los objetos en su cadena para las declaraciones de impresión es con el método string .format(). La sintaxis es:\n",
        "\n",
        "***'String here {} then also {}'.format('something1','something2')***"
      ],
      "metadata": {
        "id": "NsaykU59Xml2"
      }
    },
    {
      "cell_type": "code",
      "source": [
        "print('This is a string {}'.format('INSERTED'))"
      ],
      "metadata": {
        "colab": {
          "base_uri": "https://localhost:8080/"
        },
        "id": "ER55OkEE01KP",
        "outputId": "a0fbf2e0-c045-4d41-cb80-a1110100995d"
      },
      "execution_count": null,
      "outputs": [
        {
          "output_type": "stream",
          "name": "stdout",
          "text": [
            "This is a string INSERTED\n"
          ]
        }
      ]
    },
    {
      "cell_type": "code",
      "source": [
        "print('The {} {} {}'.format('fox','brown','quick'))"
      ],
      "metadata": {
        "colab": {
          "base_uri": "https://localhost:8080/"
        },
        "id": "bsjaByuW01HP",
        "outputId": "62cf30f9-7661-4f32-d32d-3039b23a2e54"
      },
      "execution_count": null,
      "outputs": [
        {
          "output_type": "stream",
          "name": "stdout",
          "text": [
            "The fox brown quick\n"
          ]
        }
      ]
    },
    {
      "cell_type": "code",
      "source": [
        "print('The {2} {1} {0}'.format('fox','brown','quick'))"
      ],
      "metadata": {
        "colab": {
          "base_uri": "https://localhost:8080/"
        },
        "id": "dcVpitkI01EH",
        "outputId": "131585ce-fe25-4c53-b5ad-f79744e79511"
      },
      "execution_count": null,
      "outputs": [
        {
          "output_type": "stream",
          "name": "stdout",
          "text": [
            "The quick brown fox\n"
          ]
        }
      ]
    },
    {
      "cell_type": "code",
      "source": [
        "print('The {q} {b} {f}'.format(f='fox', b='brown', q='quick'))"
      ],
      "metadata": {
        "colab": {
          "base_uri": "https://localhost:8080/"
        },
        "id": "BDMwbJYw01BI",
        "outputId": "8c14fe48-3a32-47a6-bcd7-2926d77c05d5"
      },
      "execution_count": null,
      "outputs": [
        {
          "output_type": "stream",
          "name": "stdout",
          "text": [
            "The quick brown fox\n"
          ]
        }
      ]
    },
    {
      "cell_type": "code",
      "source": [
        "print('The {f} {f} {f}'.format(f='fox', b='brown', q='quick'))"
      ],
      "metadata": {
        "colab": {
          "base_uri": "https://localhost:8080/"
        },
        "id": "uvGjddez00-H",
        "outputId": "cf710336-f02a-42e8-ea9a-a865826ee61e"
      },
      "execution_count": null,
      "outputs": [
        {
          "output_type": "stream",
          "name": "stdout",
          "text": [
            "The fox fox fox\n"
          ]
        }
      ]
    },
    {
      "cell_type": "markdown",
      "source": [],
      "metadata": {
        "id": "mp7h8zxb35_S"
      }
    },
    {
      "cell_type": "markdown",
      "source": [
        "# **FLOAT FORMATTING FOLLOWS**\n",
        "\n",
        "*\"{value:width.precision f}\"*\n",
        "\n",
        "Donde:\n",
        "value: valor o número\n",
        "\n",
        "width: tamaño del número (Ejem: 15 caracteres)\n",
        "\n",
        "precision: precisión de la expresión o número después del punto "
      ],
      "metadata": {
        "id": "E2xXhQ75bBae"
      }
    },
    {
      "cell_type": "code",
      "source": [
        "result = 100/777"
      ],
      "metadata": {
        "id": "kO3bKucX007H"
      },
      "execution_count": null,
      "outputs": []
    },
    {
      "cell_type": "code",
      "source": [
        "result"
      ],
      "metadata": {
        "colab": {
          "base_uri": "https://localhost:8080/"
        },
        "id": "8K0Nlt8i004A",
        "outputId": "24e2ee9f-af83-4d67-832f-8082907d52c8"
      },
      "execution_count": null,
      "outputs": [
        {
          "output_type": "execute_result",
          "data": {
            "text/plain": [
              "0.1287001287001287"
            ]
          },
          "metadata": {},
          "execution_count": 33
        }
      ]
    },
    {
      "cell_type": "code",
      "source": [
        "print(\"The result was {r:1.5f}\".format(r=result))"
      ],
      "metadata": {
        "colab": {
          "base_uri": "https://localhost:8080/"
        },
        "id": "7Wf_Ah3S000n",
        "outputId": "c3f0dbd9-67b5-404b-da88-98024950192c"
      },
      "execution_count": null,
      "outputs": [
        {
          "output_type": "stream",
          "name": "stdout",
          "text": [
            "The result was 0.12870\n"
          ]
        }
      ]
    },
    {
      "cell_type": "code",
      "source": [
        "print(\"The result was {r:10.5f}\".format(r=result))"
      ],
      "metadata": {
        "colab": {
          "base_uri": "https://localhost:8080/"
        },
        "id": "Sdo1JuF9z8iR",
        "outputId": "9a50a79b-956b-43d3-98bd-f5264e5593de"
      },
      "execution_count": null,
      "outputs": [
        {
          "output_type": "stream",
          "name": "stdout",
          "text": [
            "The result was    0.12870\n"
          ]
        }
      ]
    },
    {
      "cell_type": "markdown",
      "source": [
        "#**FORMATEOS RÁPIDOS DE CADENA**"
      ],
      "metadata": {
        "id": "8lR1uQsU1JlP"
      }
    },
    {
      "cell_type": "code",
      "source": [
        "name = \"Jose\""
      ],
      "metadata": {
        "id": "Ola0ECWQz8fY"
      },
      "execution_count": null,
      "outputs": []
    },
    {
      "cell_type": "code",
      "source": [
        "print(f'Hello, his name is {name}')"
      ],
      "metadata": {
        "colab": {
          "base_uri": "https://localhost:8080/"
        },
        "id": "vX4Pag4Uz8cX",
        "outputId": "edae32f1-a635-4ba6-d7df-4d339482df1d"
      },
      "execution_count": null,
      "outputs": [
        {
          "output_type": "stream",
          "name": "stdout",
          "text": [
            "Hello, his name is Jose\n"
          ]
        }
      ]
    },
    {
      "cell_type": "code",
      "source": [
        "name = \"Sam\"\n",
        "age = 3"
      ],
      "metadata": {
        "id": "3lbELgkaz8Ze"
      },
      "execution_count": null,
      "outputs": []
    },
    {
      "cell_type": "code",
      "source": [
        "print(f'{name} is {age} years old.')"
      ],
      "metadata": {
        "colab": {
          "base_uri": "https://localhost:8080/"
        },
        "id": "3AMLcvYDz8WP",
        "outputId": "07153a67-bd0a-4902-9f8e-b52f6a8d5718"
      },
      "execution_count": null,
      "outputs": [
        {
          "output_type": "stream",
          "name": "stdout",
          "text": [
            "Sam is 3 years old.\n"
          ]
        }
      ]
    },
    {
      "cell_type": "markdown",
      "source": [
        "1.) He importado la impresión del módulo __future__, ahora la impresión no funciona. ¿Qué ha pasado?\n",
        "\n",
        "Esto se debe a que una vez que importas desde el módulo __future__ en Python 2.7, una sentencia print ya no funcionará, y print debe entonces utilizar una función print(). Lo que significa que debes usar\n",
        "\n",
        "print('Lo que vayas a imprimir')\n",
        "\n",
        "o si estás usando algún formato\n",
        "\n",
        "print('Esto es una cadena con un {p}'.format(p='insert'))\n",
        "\n",
        "El módulo __future__ te permite utilizar la funcionalidad de Python3 en un entorno de Python2, pero algunas funcionalidades se sobrescriben (como la sentencia print, o la división clásica cuando importas división).\n",
        "\n",
        "Dado que estamos usando Jupyter Notebooks, una vez que se hace la importación, todas las celdas requerirán el uso de la función print(). Tendrás que reiniciar Python o iniciar un nuevo cuaderno para recuperar la antigua funcionalidad.\n"
      ],
      "metadata": {
        "id": "R_3jn9cv2xGo"
      }
    },
    {
      "cell_type": "code",
      "source": [
        "print('Python {}'.format('rules!'))"
      ],
      "metadata": {
        "colab": {
          "base_uri": "https://localhost:8080/"
        },
        "id": "0WSd8kv5z8TP",
        "outputId": "6ba03200-05ac-44c2-aa68-494f13ce2826"
      },
      "execution_count": null,
      "outputs": [
        {
          "output_type": "stream",
          "name": "stdout",
          "text": [
            "Python rules!\n"
          ]
        }
      ]
    },
    {
      "cell_type": "markdown",
      "source": [
        "#**LISTAS EN PYTHON**"
      ],
      "metadata": {
        "id": "0Va3fJol3nRR"
      }
    },
    {
      "cell_type": "markdown",
      "source": [
        "Una lista es una secuencia ordenada de elementos, puedo cambiar los elementos de una lista, en la cadena (string) no se puede"
      ],
      "metadata": {
        "id": "WrfZqr-BBIbm"
      }
    },
    {
      "cell_type": "code",
      "source": [
        "my_list = [1,2,3]"
      ],
      "metadata": {
        "id": "SIkYf6_0z8P3"
      },
      "execution_count": null,
      "outputs": []
    },
    {
      "cell_type": "code",
      "source": [
        "my_list = ['String', 100, 23.5]"
      ],
      "metadata": {
        "id": "77oLY2fK4CLp"
      },
      "execution_count": null,
      "outputs": []
    },
    {
      "cell_type": "code",
      "source": [
        "my_list"
      ],
      "metadata": {
        "colab": {
          "base_uri": "https://localhost:8080/"
        },
        "id": "XmyqSpf-4CIh",
        "outputId": "c91b061f-9027-4714-bd1d-1d07c944199a"
      },
      "execution_count": null,
      "outputs": [
        {
          "output_type": "execute_result",
          "data": {
            "text/plain": [
              "['String', 100, 23.5]"
            ]
          },
          "metadata": {},
          "execution_count": 48
        }
      ]
    },
    {
      "cell_type": "code",
      "source": [
        "#Para conocer cuantos elementos tiene la lista usaremos len\n",
        "len(my_list)"
      ],
      "metadata": {
        "colab": {
          "base_uri": "https://localhost:8080/"
        },
        "id": "byuwxJOX4CF7",
        "outputId": "82c65771-2336-4408-b302-e26a82184270"
      },
      "execution_count": null,
      "outputs": [
        {
          "output_type": "execute_result",
          "data": {
            "text/plain": [
              "3"
            ]
          },
          "metadata": {},
          "execution_count": 49
        }
      ]
    },
    {
      "cell_type": "code",
      "source": [
        "mylist = [\"one\", \"two\", \"three\"]"
      ],
      "metadata": {
        "id": "tr2ZPSe64CCk"
      },
      "execution_count": null,
      "outputs": []
    },
    {
      "cell_type": "code",
      "source": [
        "mylist[0]"
      ],
      "metadata": {
        "colab": {
          "base_uri": "https://localhost:8080/",
          "height": 35
        },
        "id": "pKwffv7I4B_S",
        "outputId": "722e2cff-5625-4b24-d11a-f44ee3202caa"
      },
      "execution_count": null,
      "outputs": [
        {
          "output_type": "execute_result",
          "data": {
            "text/plain": [
              "'one'"
            ],
            "application/vnd.google.colaboratory.intrinsic+json": {
              "type": "string"
            }
          },
          "metadata": {},
          "execution_count": 51
        }
      ]
    },
    {
      "cell_type": "code",
      "source": [
        "mylist[1:]"
      ],
      "metadata": {
        "colab": {
          "base_uri": "https://localhost:8080/"
        },
        "id": "ZPwtJP5b4B8D",
        "outputId": "91ca5949-187c-4b29-ee09-028227211060"
      },
      "execution_count": null,
      "outputs": [
        {
          "output_type": "execute_result",
          "data": {
            "text/plain": [
              "['two', 'three']"
            ]
          },
          "metadata": {},
          "execution_count": 52
        }
      ]
    },
    {
      "cell_type": "code",
      "source": [
        "another_list = [\"four\", \"five\"]"
      ],
      "metadata": {
        "id": "15VKCGpZ4B4i"
      },
      "execution_count": null,
      "outputs": []
    },
    {
      "cell_type": "code",
      "source": [
        "mylist + another_list"
      ],
      "metadata": {
        "colab": {
          "base_uri": "https://localhost:8080/"
        },
        "id": "-RHLpDsQ4B1R",
        "outputId": "5ce21581-7453-45d4-c979-dfb248bcf4ab"
      },
      "execution_count": null,
      "outputs": [
        {
          "output_type": "execute_result",
          "data": {
            "text/plain": [
              "['one', 'two', 'three', 'four', 'five']"
            ]
          },
          "metadata": {},
          "execution_count": 54
        }
      ]
    },
    {
      "cell_type": "code",
      "source": [
        "new_list = mylist + another_list"
      ],
      "metadata": {
        "id": "GZu6a4zg4ByJ"
      },
      "execution_count": null,
      "outputs": []
    },
    {
      "cell_type": "code",
      "source": [
        "new_list"
      ],
      "metadata": {
        "colab": {
          "base_uri": "https://localhost:8080/"
        },
        "id": "CSFr2adg4Buq",
        "outputId": "1bb85115-64c9-42c6-adbd-e8aedb6a6fd5"
      },
      "execution_count": null,
      "outputs": [
        {
          "output_type": "execute_result",
          "data": {
            "text/plain": [
              "['one', 'two', 'three', 'four', 'five']"
            ]
          },
          "metadata": {},
          "execution_count": 56
        }
      ]
    },
    {
      "cell_type": "code",
      "source": [
        "new_list[0] = \"ONE ALL CAPS\""
      ],
      "metadata": {
        "id": "j4t5wDHTB_YZ"
      },
      "execution_count": null,
      "outputs": []
    },
    {
      "cell_type": "code",
      "source": [
        "new_list"
      ],
      "metadata": {
        "colab": {
          "base_uri": "https://localhost:8080/"
        },
        "id": "4yPGHGbvB_Vg",
        "outputId": "31cf65fc-c3ea-4261-a42e-290f6bba4026"
      },
      "execution_count": null,
      "outputs": [
        {
          "output_type": "execute_result",
          "data": {
            "text/plain": [
              "['ONE ALL CAPS', 'two', 'three', 'four', 'five']"
            ]
          },
          "metadata": {},
          "execution_count": 58
        }
      ]
    },
    {
      "cell_type": "code",
      "source": [
        "#PARA AGREGAR UN ELEMENTO SE PUEDE USAR append \n",
        "new_list.append(\"six\")"
      ],
      "metadata": {
        "id": "2T_-aOhMB_SY"
      },
      "execution_count": null,
      "outputs": []
    },
    {
      "cell_type": "code",
      "source": [
        "new_list"
      ],
      "metadata": {
        "colab": {
          "base_uri": "https://localhost:8080/"
        },
        "id": "7VhCy5IEB_Pa",
        "outputId": "23e18452-955a-4ac9-8a7e-63224f87744f"
      },
      "execution_count": null,
      "outputs": [
        {
          "output_type": "execute_result",
          "data": {
            "text/plain": [
              "['ONE ALL CAPS', 'two', 'three', 'four', 'five', 'six']"
            ]
          },
          "metadata": {},
          "execution_count": 60
        }
      ]
    },
    {
      "cell_type": "code",
      "source": [
        "new_list.append(\"seven\")"
      ],
      "metadata": {
        "id": "BbpX-ZWcB_MR"
      },
      "execution_count": null,
      "outputs": []
    },
    {
      "cell_type": "code",
      "source": [
        "new_list"
      ],
      "metadata": {
        "colab": {
          "base_uri": "https://localhost:8080/"
        },
        "id": "lhJvl6QvB_JM",
        "outputId": "24a3cbb0-5d7d-4cd4-8dde-8b3f46739841"
      },
      "execution_count": null,
      "outputs": [
        {
          "output_type": "execute_result",
          "data": {
            "text/plain": [
              "['ONE ALL CAPS', 'two', 'three', 'four', 'five', 'six', 'seven']"
            ]
          },
          "metadata": {},
          "execution_count": 62
        }
      ]
    },
    {
      "cell_type": "code",
      "source": [
        "#PARA ELIMINAR UN ELEMENTO PODEMOS USAR pop\n",
        "new_list.pop(-1)"
      ],
      "metadata": {
        "colab": {
          "base_uri": "https://localhost:8080/",
          "height": 35
        },
        "id": "uwYp8E0TB_GC",
        "outputId": "626b54fd-1b71-42cc-df5e-56d3be42e985"
      },
      "execution_count": null,
      "outputs": [
        {
          "output_type": "execute_result",
          "data": {
            "text/plain": [
              "'seven'"
            ],
            "application/vnd.google.colaboratory.intrinsic+json": {
              "type": "string"
            }
          },
          "metadata": {},
          "execution_count": 63
        }
      ]
    },
    {
      "cell_type": "code",
      "source": [
        "new_list"
      ],
      "metadata": {
        "colab": {
          "base_uri": "https://localhost:8080/"
        },
        "id": "LnJIpktrB_Cq",
        "outputId": "80a5192f-9423-41d8-a0ab-eac1461143b1"
      },
      "execution_count": null,
      "outputs": [
        {
          "output_type": "execute_result",
          "data": {
            "text/plain": [
              "['ONE ALL CAPS', 'two', 'three', 'four', 'five', 'six']"
            ]
          },
          "metadata": {},
          "execution_count": 64
        }
      ]
    },
    {
      "cell_type": "code",
      "source": [
        "new_list.pop()"
      ],
      "metadata": {
        "colab": {
          "base_uri": "https://localhost:8080/",
          "height": 35
        },
        "id": "MsoEgywEB-_g",
        "outputId": "55d3f9b4-0a75-4ca3-f0af-024241e74fb2"
      },
      "execution_count": null,
      "outputs": [
        {
          "output_type": "execute_result",
          "data": {
            "text/plain": [
              "'six'"
            ],
            "application/vnd.google.colaboratory.intrinsic+json": {
              "type": "string"
            }
          },
          "metadata": {},
          "execution_count": 65
        }
      ]
    },
    {
      "cell_type": "code",
      "source": [
        "new_list"
      ],
      "metadata": {
        "colab": {
          "base_uri": "https://localhost:8080/"
        },
        "id": "_lKTe80XB-7_",
        "outputId": "53214cf9-64a4-4704-9828-983cced37ef1"
      },
      "execution_count": null,
      "outputs": [
        {
          "output_type": "execute_result",
          "data": {
            "text/plain": [
              "['ONE ALL CAPS', 'two', 'three', 'four', 'five']"
            ]
          },
          "metadata": {},
          "execution_count": 66
        }
      ]
    },
    {
      "cell_type": "code",
      "source": [
        "new_list.pop(0)"
      ],
      "metadata": {
        "colab": {
          "base_uri": "https://localhost:8080/",
          "height": 35
        },
        "id": "Yi3A-D8YB-4w",
        "outputId": "7d9e9c91-b5e1-4025-aeb0-1da803fa3d44"
      },
      "execution_count": null,
      "outputs": [
        {
          "output_type": "execute_result",
          "data": {
            "text/plain": [
              "'ONE ALL CAPS'"
            ],
            "application/vnd.google.colaboratory.intrinsic+json": {
              "type": "string"
            }
          },
          "metadata": {},
          "execution_count": 67
        }
      ]
    },
    {
      "cell_type": "code",
      "source": [
        "new_list"
      ],
      "metadata": {
        "colab": {
          "base_uri": "https://localhost:8080/"
        },
        "id": "XF4QAu024BrU",
        "outputId": "86fef203-eae0-4079-bdc1-ec047822a31b"
      },
      "execution_count": null,
      "outputs": [
        {
          "output_type": "execute_result",
          "data": {
            "text/plain": [
              "['two', 'three', 'four', 'five']"
            ]
          },
          "metadata": {},
          "execution_count": 68
        }
      ]
    },
    {
      "cell_type": "code",
      "source": [
        "#PARA ORDENAR UNA LISTA DE MENOR A MAYOR SE USA sort\n",
        "new_list = ['a', 'e', 'x', 'b','c']\n",
        "num_list = [4,1,8,3]"
      ],
      "metadata": {
        "id": "VpfWtQu4z8KA"
      },
      "execution_count": null,
      "outputs": []
    },
    {
      "cell_type": "code",
      "source": [
        "new_list.sort()"
      ],
      "metadata": {
        "id": "X3U_dfd-SpqX"
      },
      "execution_count": null,
      "outputs": []
    },
    {
      "cell_type": "code",
      "source": [
        "new_list"
      ],
      "metadata": {
        "colab": {
          "base_uri": "https://localhost:8080/"
        },
        "id": "pu2MwgHJSrHl",
        "outputId": "e1cb4da7-a7d9-4f9e-a4e9-ee1c46002709"
      },
      "execution_count": null,
      "outputs": [
        {
          "output_type": "execute_result",
          "data": {
            "text/plain": [
              "['a', 'b', 'c', 'e', 'x']"
            ]
          },
          "metadata": {},
          "execution_count": 73
        }
      ]
    },
    {
      "cell_type": "code",
      "source": [
        "num_list.sort()"
      ],
      "metadata": {
        "id": "6BiV0ofCSrEn"
      },
      "execution_count": null,
      "outputs": []
    },
    {
      "cell_type": "code",
      "source": [
        "num_list"
      ],
      "metadata": {
        "colab": {
          "base_uri": "https://localhost:8080/"
        },
        "id": "Qeiv55iTSrBW",
        "outputId": "449ad122-afca-45fe-ecce-f3f11a9d4e62"
      },
      "execution_count": null,
      "outputs": [
        {
          "output_type": "execute_result",
          "data": {
            "text/plain": [
              "[1, 3, 4, 8]"
            ]
          },
          "metadata": {},
          "execution_count": 75
        }
      ]
    },
    {
      "cell_type": "code",
      "source": [
        "#PARA ORDENAR UNA LISTA DE MAYOR A MENOR SE USA reverse"
      ],
      "metadata": {
        "id": "FgfvvhNgSq-h"
      },
      "execution_count": null,
      "outputs": []
    },
    {
      "cell_type": "code",
      "source": [
        "num_list.reverse()"
      ],
      "metadata": {
        "id": "nUiuxxgTSq7P"
      },
      "execution_count": null,
      "outputs": []
    },
    {
      "cell_type": "code",
      "source": [
        "num_list"
      ],
      "metadata": {
        "colab": {
          "base_uri": "https://localhost:8080/"
        },
        "id": "ZbLS0pBfSq3_",
        "outputId": "d4172888-753f-4667-f357-1b04717c9ac6"
      },
      "execution_count": null,
      "outputs": [
        {
          "output_type": "execute_result",
          "data": {
            "text/plain": [
              "[8, 4, 3, 1]"
            ]
          },
          "metadata": {},
          "execution_count": 77
        }
      ]
    },
    {
      "cell_type": "code",
      "source": [
        "first_list = ['Donita', 26, 2.7]"
      ],
      "metadata": {
        "id": "dQmHxs80Sq02"
      },
      "execution_count": null,
      "outputs": []
    },
    {
      "cell_type": "markdown",
      "source": [
        "¿Cómo puedo indexar una lista anidada? Por ejemplo, si quiero tomar 2 de [1,1,[1,2]]?\n",
        "\n",
        "Sólo tienes que añadir otro conjunto de paréntesis para indexar la lista anidada, por ejemplo: mi_lista[2][1] . Más adelante descubriremos más objetos anidados, ¡y más tarde te preguntaremos sobre ellos!"
      ],
      "metadata": {
        "id": "h8ZorBZlUK0e"
      }
    },
    {
      "cell_type": "markdown",
      "source": [
        "# **DICCIONARIOS EN PYTHON**"
      ],
      "metadata": {
        "id": "9azIGKapUcm2"
      }
    },
    {
      "cell_type": "markdown",
      "source": [
        "*   Los diccionarios: los objetos recuperados por el nombre de la clave. Desordenados y no pueden ser ordenados\n",
        "*   Listas: Objetos recuperados por ubicación. La secuencia ordenada puede ser indexada o cortada. \n",
        "\n"
      ],
      "metadata": {
        "id": "uEM8xI_f2_F_"
      }
    },
    {
      "cell_type": "code",
      "source": [
        "my_dict = {'key1':'value1', 'key2':'value2'}"
      ],
      "metadata": {
        "id": "Wr3G9TuISqxt"
      },
      "execution_count": null,
      "outputs": []
    },
    {
      "cell_type": "code",
      "source": [
        "my_dict"
      ],
      "metadata": {
        "colab": {
          "base_uri": "https://localhost:8080/"
        },
        "id": "kWID3iiD2tSv",
        "outputId": "a36cac9b-da8c-437d-b9dd-a87a13775552"
      },
      "execution_count": null,
      "outputs": [
        {
          "output_type": "execute_result",
          "data": {
            "text/plain": [
              "{'key1': 'value1', 'key2': 'value2'}"
            ]
          },
          "metadata": {},
          "execution_count": 2
        }
      ]
    },
    {
      "cell_type": "code",
      "source": [
        "my_dict['key1']"
      ],
      "metadata": {
        "colab": {
          "base_uri": "https://localhost:8080/",
          "height": 35
        },
        "id": "jIk5KJuh2tPe",
        "outputId": "abae932a-92ca-4597-b642-ce91da06b188"
      },
      "execution_count": null,
      "outputs": [
        {
          "output_type": "execute_result",
          "data": {
            "text/plain": [
              "'value1'"
            ],
            "application/vnd.google.colaboratory.intrinsic+json": {
              "type": "string"
            }
          },
          "metadata": {},
          "execution_count": 3
        }
      ]
    },
    {
      "cell_type": "code",
      "source": [
        "prices_lookup = {'apple':2.99, 'oranges':1.99, 'milk':5.80}"
      ],
      "metadata": {
        "id": "1ho4FiNq2tMg"
      },
      "execution_count": null,
      "outputs": []
    },
    {
      "cell_type": "code",
      "source": [
        "prices_lookup['apple']"
      ],
      "metadata": {
        "colab": {
          "base_uri": "https://localhost:8080/"
        },
        "id": "6qZFMMZ22tJX",
        "outputId": "6d10d27a-a793-4918-d19a-2b606a3b11a7"
      },
      "execution_count": null,
      "outputs": [
        {
          "output_type": "execute_result",
          "data": {
            "text/plain": [
              "2.99"
            ]
          },
          "metadata": {},
          "execution_count": 6
        }
      ]
    },
    {
      "cell_type": "code",
      "source": [
        "d = {'k1':123, 'k2':[0,1,2], 'k3':{'insidekey':100}}"
      ],
      "metadata": {
        "id": "zq3fstCO2tGe"
      },
      "execution_count": null,
      "outputs": []
    },
    {
      "cell_type": "code",
      "source": [
        "d['k2'][1]"
      ],
      "metadata": {
        "colab": {
          "base_uri": "https://localhost:8080/"
        },
        "id": "t4kIxHAG2tDX",
        "outputId": "fc81e17e-3a3c-44c0-8962-917494ae497e"
      },
      "execution_count": null,
      "outputs": [
        {
          "output_type": "execute_result",
          "data": {
            "text/plain": [
              "1"
            ]
          },
          "metadata": {},
          "execution_count": 10
        }
      ]
    },
    {
      "cell_type": "code",
      "source": [
        "d['k3']['insidekey']"
      ],
      "metadata": {
        "colab": {
          "base_uri": "https://localhost:8080/"
        },
        "id": "EyGzriAv2tAJ",
        "outputId": "893fe699-a8db-488c-a520-3b6c1c57f8c4"
      },
      "execution_count": null,
      "outputs": [
        {
          "output_type": "execute_result",
          "data": {
            "text/plain": [
              "100"
            ]
          },
          "metadata": {},
          "execution_count": 12
        }
      ]
    },
    {
      "cell_type": "code",
      "source": [
        "d = {'key1':['a','b','c']}"
      ],
      "metadata": {
        "id": "nwKU18182s86"
      },
      "execution_count": null,
      "outputs": []
    },
    {
      "cell_type": "code",
      "source": [
        "d"
      ],
      "metadata": {
        "colab": {
          "base_uri": "https://localhost:8080/"
        },
        "id": "yBkp8Ryj2s5o",
        "outputId": "8aef6056-41f4-4134-a219-7b8cf7b9151f"
      },
      "execution_count": null,
      "outputs": [
        {
          "output_type": "execute_result",
          "data": {
            "text/plain": [
              "{'key1': ['a', 'b', 'c']}"
            ]
          },
          "metadata": {},
          "execution_count": 14
        }
      ]
    },
    {
      "cell_type": "code",
      "source": [
        "d['key1']"
      ],
      "metadata": {
        "colab": {
          "base_uri": "https://localhost:8080/"
        },
        "id": "lKlhTYxi2s2Y",
        "outputId": "642c7c71-30dd-4ef1-d6af-027fa8461caf"
      },
      "execution_count": null,
      "outputs": [
        {
          "output_type": "execute_result",
          "data": {
            "text/plain": [
              "['a', 'b', 'c']"
            ]
          },
          "metadata": {},
          "execution_count": 15
        }
      ]
    },
    {
      "cell_type": "code",
      "source": [
        "mylist = d['key1']"
      ],
      "metadata": {
        "id": "f2_AcEDd2szP"
      },
      "execution_count": null,
      "outputs": []
    },
    {
      "cell_type": "code",
      "source": [
        "mylist"
      ],
      "metadata": {
        "colab": {
          "base_uri": "https://localhost:8080/"
        },
        "id": "f_I5cUQj2swG",
        "outputId": "b78516af-6c11-4f09-cf10-1641ba6a0e21"
      },
      "execution_count": null,
      "outputs": [
        {
          "output_type": "execute_result",
          "data": {
            "text/plain": [
              "['a', 'b', 'c']"
            ]
          },
          "metadata": {},
          "execution_count": 18
        }
      ]
    },
    {
      "cell_type": "code",
      "source": [
        "mylist[2]"
      ],
      "metadata": {
        "colab": {
          "base_uri": "https://localhost:8080/",
          "height": 35
        },
        "id": "fWBr2pmj2stP",
        "outputId": "de937f56-5201-4b71-9fa4-adf9dba698e2"
      },
      "execution_count": null,
      "outputs": [
        {
          "output_type": "execute_result",
          "data": {
            "text/plain": [
              "'c'"
            ],
            "application/vnd.google.colaboratory.intrinsic+json": {
              "type": "string"
            }
          },
          "metadata": {},
          "execution_count": 19
        }
      ]
    },
    {
      "cell_type": "code",
      "source": [
        "mylist[2].upper()"
      ],
      "metadata": {
        "colab": {
          "base_uri": "https://localhost:8080/",
          "height": 35
        },
        "id": "OhERtxwS2sp4",
        "outputId": "0b37dd97-f8b2-4c2f-9c1f-f6c6b05b1a0d"
      },
      "execution_count": null,
      "outputs": [
        {
          "output_type": "execute_result",
          "data": {
            "text/plain": [
              "'C'"
            ],
            "application/vnd.google.colaboratory.intrinsic+json": {
              "type": "string"
            }
          },
          "metadata": {},
          "execution_count": 20
        }
      ]
    },
    {
      "cell_type": "code",
      "source": [
        "d['key1'][2].upper()"
      ],
      "metadata": {
        "colab": {
          "base_uri": "https://localhost:8080/",
          "height": 35
        },
        "id": "T7fGAoCL2sm_",
        "outputId": "90fa698a-d256-438e-8851-3342dcd5c6fb"
      },
      "execution_count": null,
      "outputs": [
        {
          "output_type": "execute_result",
          "data": {
            "text/plain": [
              "'C'"
            ],
            "application/vnd.google.colaboratory.intrinsic+json": {
              "type": "string"
            }
          },
          "metadata": {},
          "execution_count": 21
        }
      ]
    },
    {
      "cell_type": "code",
      "source": [
        "d = {'key1':100, 'key2':200}"
      ],
      "metadata": {
        "id": "OEvJqHbm2sjx"
      },
      "execution_count": null,
      "outputs": []
    },
    {
      "cell_type": "code",
      "source": [
        "d"
      ],
      "metadata": {
        "colab": {
          "base_uri": "https://localhost:8080/"
        },
        "id": "IkT016fa2sgr",
        "outputId": "a9df10cf-84c2-44f7-890c-808b2c551529"
      },
      "execution_count": null,
      "outputs": [
        {
          "output_type": "execute_result",
          "data": {
            "text/plain": [
              "{'key1': 100, 'key2': 200}"
            ]
          },
          "metadata": {},
          "execution_count": 37
        }
      ]
    },
    {
      "cell_type": "code",
      "source": [
        "#PARA AGREGAR UN VALOR MÁS SIMPLEMENTE COLOCAMOS LO SIGUIENTE\n",
        "d['k3'] = 300"
      ],
      "metadata": {
        "id": "IfPRbKVd2sdf"
      },
      "execution_count": null,
      "outputs": []
    },
    {
      "cell_type": "code",
      "source": [
        "d"
      ],
      "metadata": {
        "colab": {
          "base_uri": "https://localhost:8080/"
        },
        "id": "V4JCbofH2saK",
        "outputId": "52740bee-1a23-4840-d062-3b9341560261"
      },
      "execution_count": null,
      "outputs": [
        {
          "output_type": "execute_result",
          "data": {
            "text/plain": [
              "{'key1': 100, 'key2': 200, 'k3': 300}"
            ]
          },
          "metadata": {},
          "execution_count": 39
        }
      ]
    },
    {
      "cell_type": "code",
      "source": [
        "#PARA CAMBIAR DE VALOR TAMBIÉN ES SENCILLO, ES SOLO CAMBIAR EL VALOR\n",
        "d['key1'] = 'NEW VALUE'"
      ],
      "metadata": {
        "id": "rX6B8Esd2sXH"
      },
      "execution_count": null,
      "outputs": []
    },
    {
      "cell_type": "code",
      "source": [
        "d"
      ],
      "metadata": {
        "colab": {
          "base_uri": "https://localhost:8080/"
        },
        "id": "SmhQjEBj2sTn",
        "outputId": "5606a28a-d90a-466e-bfc8-1ec244120d66"
      },
      "execution_count": null,
      "outputs": [
        {
          "output_type": "execute_result",
          "data": {
            "text/plain": [
              "{'key1': 'NEW VALUE', 'key2': 200, 'k3': 300}"
            ]
          },
          "metadata": {},
          "execution_count": 41
        }
      ]
    },
    {
      "cell_type": "code",
      "source": [
        "#PARA CONOCER LOS KEYS EN UN DICCIONARIO COLOCAREMOS LO SIGUIENTE\n",
        "d.keys()"
      ],
      "metadata": {
        "id": "0sKOh2B-Spnu",
        "colab": {
          "base_uri": "https://localhost:8080/"
        },
        "outputId": "c3e46fdf-28f7-4f2e-ce22-e0c0834ef5c9"
      },
      "execution_count": null,
      "outputs": [
        {
          "output_type": "execute_result",
          "data": {
            "text/plain": [
              "dict_keys(['key1', 'key2', 'k3'])"
            ]
          },
          "metadata": {},
          "execution_count": 42
        }
      ]
    },
    {
      "cell_type": "code",
      "source": [
        "#PARA CONOCER LOS VALORES EN UN DICCIONARIO COLOCAREMOS LO SIGUIENTE\n",
        "d.values()"
      ],
      "metadata": {
        "id": "e7kjY0wOSpk1",
        "colab": {
          "base_uri": "https://localhost:8080/"
        },
        "outputId": "fbaab7db-abb1-4f41-f5e0-76aa056182ea"
      },
      "execution_count": null,
      "outputs": [
        {
          "output_type": "execute_result",
          "data": {
            "text/plain": [
              "dict_values(['NEW VALUE', 200, 300])"
            ]
          },
          "metadata": {},
          "execution_count": 43
        }
      ]
    },
    {
      "cell_type": "code",
      "source": [
        "#PARA CONOCER TODOS LOS ITEMS EN UN DICCIONARIO COLOCAMOS\n",
        "d.items()"
      ],
      "metadata": {
        "id": "2oJPuzdASpiJ",
        "colab": {
          "base_uri": "https://localhost:8080/"
        },
        "outputId": "6238a81a-dc3b-4c11-c971-f604dd5a7adc"
      },
      "execution_count": null,
      "outputs": [
        {
          "output_type": "execute_result",
          "data": {
            "text/plain": [
              "dict_items([('key1', 'NEW VALUE'), ('key2', 200), ('k3', 300)])"
            ]
          },
          "metadata": {},
          "execution_count": 44
        }
      ]
    },
    {
      "cell_type": "code",
      "source": [
        "days_month = {'January':31, 'February': 28, 'April':30}"
      ],
      "metadata": {
        "id": "3YbUxuudSpbu"
      },
      "execution_count": null,
      "outputs": []
    },
    {
      "cell_type": "markdown",
      "source": [
        "*¿Los diccionarios mantienen un orden? ¿Cómo puedo imprimir los valores del diccionario en orden?*\n",
        "\n",
        "Los diccionarios son mapeos y no mantienen el orden."
      ],
      "metadata": {
        "id": "ns_nhnWaHJNr"
      }
    },
    {
      "cell_type": "markdown",
      "source": [
        "# **TUPLAS**"
      ],
      "metadata": {
        "id": "oqNVPqEZJHXU"
      }
    },
    {
      "cell_type": "markdown",
      "source": [
        "Las Tuplas son similares a las listas, sin embargo, hay una diferencia y es que son inmutables. Un elemento que está dentro de una tupla, no puede ser reasignado. \n",
        "\n",
        "1.   Tuplas usan parentesis (1,2,3)\n",
        "2.   Los diccionarios usan llaves {1,2,3}\n",
        "3.   Las listas usan corchetes [1,2,3]\n"
      ],
      "metadata": {
        "id": "cG9qxeDMJMTk"
      }
    },
    {
      "cell_type": "code",
      "source": [
        "t = (1,2,3)"
      ],
      "metadata": {
        "id": "V-FpvpjEK_Em"
      },
      "execution_count": null,
      "outputs": []
    },
    {
      "cell_type": "code",
      "source": [
        "mylist = [1,2,3]"
      ],
      "metadata": {
        "id": "fzTQ_H4jK_Bd"
      },
      "execution_count": null,
      "outputs": []
    },
    {
      "cell_type": "code",
      "source": [
        "type(t)"
      ],
      "metadata": {
        "colab": {
          "base_uri": "https://localhost:8080/"
        },
        "id": "NTX0vOQYK--V",
        "outputId": "978c8a39-9aa0-4cdf-ddab-ec0e7f7faec2"
      },
      "execution_count": null,
      "outputs": [
        {
          "output_type": "execute_result",
          "data": {
            "text/plain": [
              "tuple"
            ]
          },
          "metadata": {},
          "execution_count": 48
        }
      ]
    },
    {
      "cell_type": "code",
      "source": [
        "type(mylist)"
      ],
      "metadata": {
        "colab": {
          "base_uri": "https://localhost:8080/"
        },
        "id": "pFaYpDt5K-7U",
        "outputId": "db3e7bbc-dfe2-4274-a5f5-b9f31bff6da1"
      },
      "execution_count": null,
      "outputs": [
        {
          "output_type": "execute_result",
          "data": {
            "text/plain": [
              "list"
            ]
          },
          "metadata": {},
          "execution_count": 49
        }
      ]
    },
    {
      "cell_type": "code",
      "source": [
        "len(t)"
      ],
      "metadata": {
        "colab": {
          "base_uri": "https://localhost:8080/"
        },
        "id": "9TBiYCV1K-4U",
        "outputId": "a5338c52-e2ed-466a-b032-ea9854dfd77c"
      },
      "execution_count": null,
      "outputs": [
        {
          "output_type": "execute_result",
          "data": {
            "text/plain": [
              "3"
            ]
          },
          "metadata": {},
          "execution_count": 50
        }
      ]
    },
    {
      "cell_type": "code",
      "source": [
        "t"
      ],
      "metadata": {
        "id": "kMFV7v4SSpY2",
        "colab": {
          "base_uri": "https://localhost:8080/"
        },
        "outputId": "7dbe6fe3-9dd0-4380-f5fd-b2cc1f27308b"
      },
      "execution_count": null,
      "outputs": [
        {
          "output_type": "execute_result",
          "data": {
            "text/plain": [
              "(1, 2, 3)"
            ]
          },
          "metadata": {},
          "execution_count": 51
        }
      ]
    },
    {
      "cell_type": "code",
      "source": [
        "t = ('one',2)"
      ],
      "metadata": {
        "id": "nRcQQCZvKM-A"
      },
      "execution_count": null,
      "outputs": []
    },
    {
      "cell_type": "code",
      "source": [
        "t[0]"
      ],
      "metadata": {
        "colab": {
          "base_uri": "https://localhost:8080/",
          "height": 35
        },
        "id": "4OZqjJp1KM6s",
        "outputId": "45194795-7220-4795-bd88-f14d37e34788"
      },
      "execution_count": null,
      "outputs": [
        {
          "output_type": "execute_result",
          "data": {
            "text/plain": [
              "'one'"
            ],
            "application/vnd.google.colaboratory.intrinsic+json": {
              "type": "string"
            }
          },
          "metadata": {},
          "execution_count": 53
        }
      ]
    },
    {
      "cell_type": "code",
      "source": [
        "t[-1]"
      ],
      "metadata": {
        "colab": {
          "base_uri": "https://localhost:8080/"
        },
        "id": "0k9HTapOKM38",
        "outputId": "e7243575-218b-4df1-d35d-9afbdce517a4"
      },
      "execution_count": null,
      "outputs": [
        {
          "output_type": "execute_result",
          "data": {
            "text/plain": [
              "2"
            ]
          },
          "metadata": {},
          "execution_count": 54
        }
      ]
    },
    {
      "cell_type": "code",
      "source": [
        "t = ('a','a','b')"
      ],
      "metadata": {
        "id": "8mVWDZIdKM1F"
      },
      "execution_count": null,
      "outputs": []
    },
    {
      "cell_type": "code",
      "source": [
        "#PARA CONTAR EL NUMERO DE VECES QUE ESTÁ LA LETRA 'a' EN LA TUPLA\n",
        "t.count('a')"
      ],
      "metadata": {
        "colab": {
          "base_uri": "https://localhost:8080/"
        },
        "id": "4MAwQLpQKMx_",
        "outputId": "6fb95742-5875-4cbf-dc5e-0cfe077929c5"
      },
      "execution_count": null,
      "outputs": [
        {
          "output_type": "execute_result",
          "data": {
            "text/plain": [
              "2"
            ]
          },
          "metadata": {},
          "execution_count": 56
        }
      ]
    },
    {
      "cell_type": "code",
      "source": [
        "#PARA CONOCER EN DONDE SE ENCUENTRA UBICADO 'a'\n",
        "t.index('a')"
      ],
      "metadata": {
        "colab": {
          "base_uri": "https://localhost:8080/"
        },
        "id": "QTgGrj7iKMu1",
        "outputId": "f28bf245-55df-4ede-c6b8-d4e775a157f0"
      },
      "execution_count": null,
      "outputs": [
        {
          "output_type": "execute_result",
          "data": {
            "text/plain": [
              "0"
            ]
          },
          "metadata": {},
          "execution_count": 57
        }
      ]
    },
    {
      "cell_type": "code",
      "source": [
        "t.index('b')"
      ],
      "metadata": {
        "colab": {
          "base_uri": "https://localhost:8080/"
        },
        "id": "vSuWV6beKMrw",
        "outputId": "47623cb8-20c5-4567-cdc5-23daef1872a8"
      },
      "execution_count": null,
      "outputs": [
        {
          "output_type": "execute_result",
          "data": {
            "text/plain": [
              "2"
            ]
          },
          "metadata": {},
          "execution_count": 58
        }
      ]
    },
    {
      "cell_type": "code",
      "source": [
        "t"
      ],
      "metadata": {
        "colab": {
          "base_uri": "https://localhost:8080/"
        },
        "id": "v7SNRIPeKMoo",
        "outputId": "e8167737-b00d-494d-bb71-57d40a07c90c"
      },
      "execution_count": null,
      "outputs": [
        {
          "output_type": "execute_result",
          "data": {
            "text/plain": [
              "('a', 'a', 'b')"
            ]
          },
          "metadata": {},
          "execution_count": 59
        }
      ]
    },
    {
      "cell_type": "code",
      "source": [
        "mylist"
      ],
      "metadata": {
        "colab": {
          "base_uri": "https://localhost:8080/"
        },
        "id": "o7KHEoINKMlu",
        "outputId": "b4a4031f-f2d0-4bc0-fbec-9d747a85753a"
      },
      "execution_count": null,
      "outputs": [
        {
          "output_type": "execute_result",
          "data": {
            "text/plain": [
              "[1, 2, 3]"
            ]
          },
          "metadata": {},
          "execution_count": 60
        }
      ]
    },
    {
      "cell_type": "code",
      "source": [
        "mylist[0] = 'NEW'"
      ],
      "metadata": {
        "id": "IXpKqeCmKMit"
      },
      "execution_count": null,
      "outputs": []
    },
    {
      "cell_type": "code",
      "source": [
        "mylist"
      ],
      "metadata": {
        "colab": {
          "base_uri": "https://localhost:8080/"
        },
        "id": "cvDKbBZuKMfu",
        "outputId": "f34ed115-ef05-41d9-a83d-74e02cc26c4c"
      },
      "execution_count": null,
      "outputs": [
        {
          "output_type": "execute_result",
          "data": {
            "text/plain": [
              "['NEW', 2, 3]"
            ]
          },
          "metadata": {},
          "execution_count": 63
        }
      ]
    },
    {
      "cell_type": "code",
      "source": [
        "t[0] = 'NEW'"
      ],
      "metadata": {
        "colab": {
          "base_uri": "https://localhost:8080/",
          "height": 165
        },
        "id": "sLSDnF00KMcl",
        "outputId": "c1df10ea-7db7-4ccd-ec7d-d6bb396a3c89"
      },
      "execution_count": null,
      "outputs": [
        {
          "output_type": "error",
          "ename": "TypeError",
          "evalue": "ignored",
          "traceback": [
            "\u001b[0;31m---------------------------------------------------------------------------\u001b[0m",
            "\u001b[0;31mTypeError\u001b[0m                                 Traceback (most recent call last)",
            "\u001b[0;32m<ipython-input-64-93bfe9be1549>\u001b[0m in \u001b[0;36m<module>\u001b[0;34m\u001b[0m\n\u001b[0;32m----> 1\u001b[0;31m \u001b[0mt\u001b[0m\u001b[0;34m[\u001b[0m\u001b[0;36m0\u001b[0m\u001b[0;34m]\u001b[0m \u001b[0;34m=\u001b[0m \u001b[0;34m'NEW'\u001b[0m\u001b[0;34m\u001b[0m\u001b[0;34m\u001b[0m\u001b[0m\n\u001b[0m",
            "\u001b[0;31mTypeError\u001b[0m: 'tuple' object does not support item assignment"
          ]
        }
      ]
    },
    {
      "cell_type": "markdown",
      "source": [
        "# **SETS**\n",
        "\n",
        "Sets o Conjuntos, son colecciones desordenadas de elementos únicos.\n",
        "Lo que significa que sólo puede haber un representante del mismo objeto.\n",
        "\n"
      ],
      "metadata": {
        "id": "TpiUlugjdlOB"
      }
    },
    {
      "cell_type": "markdown",
      "source": [
        "Tiene que tener valores únicos, un elemento no puede repetirse más de 1 vez. "
      ],
      "metadata": {
        "id": "7R7x0Joudk-J"
      }
    },
    {
      "cell_type": "code",
      "source": [
        "myset = set()"
      ],
      "metadata": {
        "id": "7I0qEgNtdnbC"
      },
      "execution_count": null,
      "outputs": []
    },
    {
      "cell_type": "code",
      "source": [
        "myset"
      ],
      "metadata": {
        "colab": {
          "base_uri": "https://localhost:8080/"
        },
        "id": "KBLLTw7_dnYR",
        "outputId": "3af5f136-701c-4b61-f43d-fa47a429fe8d"
      },
      "execution_count": null,
      "outputs": [
        {
          "output_type": "execute_result",
          "data": {
            "text/plain": [
              "set()"
            ]
          },
          "metadata": {},
          "execution_count": 66
        }
      ]
    },
    {
      "cell_type": "code",
      "source": [
        "myset.add(1)"
      ],
      "metadata": {
        "id": "0trOh77cdnVZ"
      },
      "execution_count": null,
      "outputs": []
    },
    {
      "cell_type": "code",
      "source": [
        "myset"
      ],
      "metadata": {
        "colab": {
          "base_uri": "https://localhost:8080/"
        },
        "id": "FGLEGuZAdnSR",
        "outputId": "098388c9-d9e8-4b95-a1c3-a3359c474e5e"
      },
      "execution_count": null,
      "outputs": [
        {
          "output_type": "execute_result",
          "data": {
            "text/plain": [
              "{1}"
            ]
          },
          "metadata": {},
          "execution_count": 68
        }
      ]
    },
    {
      "cell_type": "code",
      "source": [
        "myset.add(2)"
      ],
      "metadata": {
        "id": "6GnBgnA8dnPZ"
      },
      "execution_count": null,
      "outputs": []
    },
    {
      "cell_type": "code",
      "source": [
        "myset"
      ],
      "metadata": {
        "colab": {
          "base_uri": "https://localhost:8080/"
        },
        "id": "XcrGLmhcdnMi",
        "outputId": "13131540-84d7-4312-e272-be1a00e0913d"
      },
      "execution_count": null,
      "outputs": [
        {
          "output_type": "execute_result",
          "data": {
            "text/plain": [
              "{1, 2}"
            ]
          },
          "metadata": {},
          "execution_count": 70
        }
      ]
    },
    {
      "cell_type": "code",
      "source": [
        "#AQUÍ VAMOS A VOLVER AGREGAR EL ELEMENTO 2 Y VEREMOS QUE NO SE REPITE\n",
        "myset.add(2)"
      ],
      "metadata": {
        "id": "0OJYLGhcdnJr"
      },
      "execution_count": null,
      "outputs": []
    },
    {
      "cell_type": "code",
      "source": [
        "myset"
      ],
      "metadata": {
        "colab": {
          "base_uri": "https://localhost:8080/"
        },
        "id": "j2rjX_4bdnGq",
        "outputId": "fab39f74-8de9-4d02-82ad-fa22d055f8a4"
      },
      "execution_count": null,
      "outputs": [
        {
          "output_type": "execute_result",
          "data": {
            "text/plain": [
              "{1, 2}"
            ]
          },
          "metadata": {},
          "execution_count": 72
        }
      ]
    },
    {
      "cell_type": "code",
      "source": [
        "mylist = [1,1,1,1,1,2,2,2,2,2,3,3,3,3,3]"
      ],
      "metadata": {
        "id": "hUaGlIVndnDi"
      },
      "execution_count": null,
      "outputs": []
    },
    {
      "cell_type": "code",
      "source": [
        "set(mylist)"
      ],
      "metadata": {
        "colab": {
          "base_uri": "https://localhost:8080/"
        },
        "id": "bPaOYfDBdnA1",
        "outputId": "1da918fc-6f39-40a3-f4fa-25856f00999b"
      },
      "execution_count": null,
      "outputs": [
        {
          "output_type": "execute_result",
          "data": {
            "text/plain": [
              "{1, 2, 3}"
            ]
          },
          "metadata": {},
          "execution_count": 74
        }
      ]
    },
    {
      "cell_type": "code",
      "source": [
        "set('Mississippi')"
      ],
      "metadata": {
        "colab": {
          "base_uri": "https://localhost:8080/"
        },
        "id": "lLeClFx2dm9y",
        "outputId": "6438dde9-d1c7-446b-fcc8-f99887422baf"
      },
      "execution_count": null,
      "outputs": [
        {
          "output_type": "execute_result",
          "data": {
            "text/plain": [
              "{'M', 'i', 'p', 's'}"
            ]
          },
          "metadata": {},
          "execution_count": 75
        }
      ]
    },
    {
      "cell_type": "markdown",
      "source": [
        "# **BOLEANOS**\n",
        "\n",
        "Es un termino que se usa en los operadores que permiten transmitir declaraciones *Verdaderas* o *Falsas*.\n",
        "\n",
        "Son muy importantes más adelante cuando tratemos el flujo de control y la lógica.  "
      ],
      "metadata": {
        "id": "MyHO6RW_jbwu"
      }
    },
    {
      "cell_type": "code",
      "source": [
        "True"
      ],
      "metadata": {
        "colab": {
          "base_uri": "https://localhost:8080/"
        },
        "id": "OFFrA4MPkUWZ",
        "outputId": "35525533-c5b0-43b4-910c-c4ddc96c6752"
      },
      "execution_count": null,
      "outputs": [
        {
          "output_type": "execute_result",
          "data": {
            "text/plain": [
              "True"
            ]
          },
          "metadata": {},
          "execution_count": 76
        }
      ]
    },
    {
      "cell_type": "code",
      "source": [
        "False"
      ],
      "metadata": {
        "colab": {
          "base_uri": "https://localhost:8080/"
        },
        "id": "9pLr8QIAkUTC",
        "outputId": "7aee833f-9f56-4fb4-9a92-f3a5c00c8eca"
      },
      "execution_count": null,
      "outputs": [
        {
          "output_type": "execute_result",
          "data": {
            "text/plain": [
              "False"
            ]
          },
          "metadata": {},
          "execution_count": 77
        }
      ]
    },
    {
      "cell_type": "code",
      "source": [
        "type(False)"
      ],
      "metadata": {
        "colab": {
          "base_uri": "https://localhost:8080/"
        },
        "id": "ruZHy6a5kUP0",
        "outputId": "5b6f10a6-7738-4bb4-8839-7cbb81b01b72"
      },
      "execution_count": null,
      "outputs": [
        {
          "output_type": "execute_result",
          "data": {
            "text/plain": [
              "bool"
            ]
          },
          "metadata": {},
          "execution_count": 78
        }
      ]
    },
    {
      "cell_type": "code",
      "source": [
        "1 > 2"
      ],
      "metadata": {
        "colab": {
          "base_uri": "https://localhost:8080/"
        },
        "id": "EqwDgqhYkUM9",
        "outputId": "ac40a858-4b41-4456-ed89-dd6db93e932d"
      },
      "execution_count": null,
      "outputs": [
        {
          "output_type": "execute_result",
          "data": {
            "text/plain": [
              "False"
            ]
          },
          "metadata": {},
          "execution_count": 79
        }
      ]
    },
    {
      "cell_type": "code",
      "source": [
        "1 == 1"
      ],
      "metadata": {
        "colab": {
          "base_uri": "https://localhost:8080/"
        },
        "id": "clBV2ksfkUJn",
        "outputId": "19a1bffd-ae72-485d-d526-40cc9892d618"
      },
      "execution_count": null,
      "outputs": [
        {
          "output_type": "execute_result",
          "data": {
            "text/plain": [
              "True"
            ]
          },
          "metadata": {},
          "execution_count": 80
        }
      ]
    },
    {
      "cell_type": "markdown",
      "source": [
        "# **I/O with Basic Files in Python**"
      ],
      "metadata": {
        "id": "ugPSge2slIKz"
      }
    },
    {
      "cell_type": "markdown",
      "source": [
        "Trabajar con archivos de texto "
      ],
      "metadata": {
        "id": "afRB3TRTo3j8"
      }
    },
    {
      "cell_type": "code",
      "source": [
        "pwd"
      ],
      "metadata": {
        "colab": {
          "base_uri": "https://localhost:8080/",
          "height": 35
        },
        "id": "FV3UXn-EkUB0",
        "outputId": "37776523-66ec-4b1b-c472-51934fba7fbd"
      },
      "execution_count": null,
      "outputs": [
        {
          "output_type": "execute_result",
          "data": {
            "text/plain": [
              "'/content'"
            ],
            "application/vnd.google.colaboratory.intrinsic+json": {
              "type": "string"
            }
          },
          "metadata": {},
          "execution_count": 82
        }
      ]
    },
    {
      "cell_type": "code",
      "source": [],
      "metadata": {
        "id": "JeHcD9Fzjzay"
      },
      "execution_count": null,
      "outputs": []
    },
    {
      "cell_type": "code",
      "source": [],
      "metadata": {
        "id": "P9swLWyodm6y"
      },
      "execution_count": null,
      "outputs": []
    },
    {
      "cell_type": "code",
      "source": [],
      "metadata": {
        "id": "ykgEJDq5dm3t"
      },
      "execution_count": null,
      "outputs": []
    },
    {
      "cell_type": "code",
      "source": [],
      "metadata": {
        "id": "bu9D_rNvdm0p"
      },
      "execution_count": null,
      "outputs": []
    },
    {
      "cell_type": "code",
      "source": [],
      "metadata": {
        "id": "U13BUtAGdmxx"
      },
      "execution_count": null,
      "outputs": []
    },
    {
      "cell_type": "code",
      "source": [],
      "metadata": {
        "id": "lM6Rw5Ltdmuy"
      },
      "execution_count": null,
      "outputs": []
    },
    {
      "cell_type": "code",
      "source": [],
      "metadata": {
        "id": "8wsXBOoHdmrx"
      },
      "execution_count": null,
      "outputs": []
    },
    {
      "cell_type": "code",
      "source": [],
      "metadata": {
        "id": "R1EntH6vdmoy"
      },
      "execution_count": null,
      "outputs": []
    },
    {
      "cell_type": "code",
      "source": [],
      "metadata": {
        "id": "Pw5ZnDhPdmlg"
      },
      "execution_count": null,
      "outputs": []
    }
  ]
}