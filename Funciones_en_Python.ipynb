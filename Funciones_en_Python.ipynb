{
  "nbformat": 4,
  "nbformat_minor": 0,
  "metadata": {
    "colab": {
      "provenance": [],
      "authorship_tag": "ABX9TyMcS2j3Lda2d5pHCRMND2FQ",
      "include_colab_link": true
    },
    "kernelspec": {
      "name": "python3",
      "display_name": "Python 3"
    },
    "language_info": {
      "name": "python"
    }
  },
  "cells": [
    {
      "cell_type": "markdown",
      "metadata": {
        "id": "view-in-github",
        "colab_type": "text"
      },
      "source": [
        "<a href=\"https://colab.research.google.com/github/blaulicht7/Python_Basic/blob/main/Funciones_en_Python.ipynb\" target=\"_parent\"><img src=\"https://colab.research.google.com/assets/colab-badge.svg\" alt=\"Open In Colab\"/></a>"
      ]
    },
    {
      "cell_type": "markdown",
      "source": [
        "# *Funciones en Python*"
      ],
      "metadata": {
        "id": "20YzcLNi9HMD"
      }
    },
    {
      "cell_type": "markdown",
      "source": [
        "Las funciones son esenciales en cualquier lenguaje de programación. Una función es un conjunto de instrucciones que se utilizan de forma repetida porque son complejas."
      ],
      "metadata": {
        "id": "jGaeOVh76HY_"
      }
    },
    {
      "cell_type": "markdown",
      "source": [
        "* Método se refiere a una función que forma parte de una clase se que debe ser accedido como parte de esa clase.\n",
        "\n",
        "* Las clases son como los elementos que viven dentro de una librería.\n",
        "* Se puede decir que todos los métodos son funciones pero no todas las funciones son métodos. "
      ],
      "metadata": {
        "id": "Qun4TuTh6_M8"
      }
    },
    {
      "cell_type": "code",
      "source": [
        "#Función suma\n",
        "def suma(x,y):\n",
        "  return x+y"
      ],
      "metadata": {
        "id": "wlnst4Fy6-as"
      },
      "execution_count": 7,
      "outputs": []
    },
    {
      "cell_type": "code",
      "source": [
        "#Usando métodos de la clase y suma\n",
        "class operaciones(object): \n",
        "  def suma(self, x, y):\n",
        "    self.resultado = x+y\n",
        "    return self.resultado\n"
      ],
      "metadata": {
        "id": "XL0Bs1e66Kud"
      },
      "execution_count": 4,
      "outputs": []
    },
    {
      "cell_type": "code",
      "source": [
        "suma(2,3)"
      ],
      "metadata": {
        "colab": {
          "base_uri": "https://localhost:8080/"
        },
        "id": "Io0n65wW6KrY",
        "outputId": "a3a5c532-9471-4737-ae16-6e65a3304afa"
      },
      "execution_count": 2,
      "outputs": [
        {
          "output_type": "execute_result",
          "data": {
            "text/plain": [
              "5"
            ]
          },
          "metadata": {},
          "execution_count": 2
        }
      ]
    },
    {
      "cell_type": "code",
      "source": [
        "operInstance = operaciones()\n",
        "operInstance.suma(2,3)"
      ],
      "metadata": {
        "colab": {
          "base_uri": "https://localhost:8080/"
        },
        "id": "GB7WAj796KoN",
        "outputId": "a0c67a37-cf67-4f67-bce8-f9c112a2d863"
      },
      "execution_count": 5,
      "outputs": [
        {
          "output_type": "execute_result",
          "data": {
            "text/plain": [
              "5"
            ]
          },
          "metadata": {},
          "execution_count": 5
        }
      ]
    },
    {
      "cell_type": "markdown",
      "source": [
        "# *Creando una función simple*"
      ],
      "metadata": {
        "id": "vkoCdl8U9GIk"
      }
    },
    {
      "cell_type": "code",
      "source": [
        "def saludar():\n",
        "  print(\"Hola estoy programando!\")\n",
        "  return"
      ],
      "metadata": {
        "id": "ea9-DbSB6KlH"
      },
      "execution_count": 8,
      "outputs": []
    },
    {
      "cell_type": "code",
      "source": [
        "saludar()"
      ],
      "metadata": {
        "colab": {
          "base_uri": "https://localhost:8080/"
        },
        "id": "_z0Qnl_M6Kh_",
        "outputId": "554c1267-29ea-4fc4-b8e1-8daf226b7e63"
      },
      "execution_count": 9,
      "outputs": [
        {
          "output_type": "stream",
          "name": "stdout",
          "text": [
            "Hola estoy programando!\n"
          ]
        }
      ]
    },
    {
      "cell_type": "code",
      "source": [
        "def saludar():\n",
        "  name = str(input(\"Introduce tu nombre: \"))\n",
        "  if name:\n",
        "    print(\"Hola \"+name)\n",
        "  else:\n",
        "    print(\"Hola estoy programando!\")\n",
        "  return"
      ],
      "metadata": {
        "id": "TBo-EKT-6Kes"
      },
      "execution_count": 10,
      "outputs": []
    },
    {
      "cell_type": "code",
      "source": [
        "saludar()"
      ],
      "metadata": {
        "colab": {
          "base_uri": "https://localhost:8080/"
        },
        "id": "qUIylpPj6Kbk",
        "outputId": "8dc949ff-6bac-4d7b-b46c-aa24f7686baa"
      },
      "execution_count": 14,
      "outputs": [
        {
          "output_type": "stream",
          "name": "stdout",
          "text": [
            "Introduce tu nombre: Jeane\n",
            "Hola Jeane\n"
          ]
        }
      ]
    },
    {
      "cell_type": "code",
      "source": [
        "suma(2,3)*5"
      ],
      "metadata": {
        "colab": {
          "base_uri": "https://localhost:8080/"
        },
        "id": "oQ51EbKB6KYW",
        "outputId": "04cd1383-e0d7-4572-b90d-d54780b21e0c"
      },
      "execution_count": 15,
      "outputs": [
        {
          "output_type": "execute_result",
          "data": {
            "text/plain": [
              "25"
            ]
          },
          "metadata": {},
          "execution_count": 15
        }
      ]
    },
    {
      "cell_type": "code",
      "source": [
        "#La tupla devuelve como resultado un conjunto de números, ya no solo un valor individual\n",
        "def sumaresta(x,y):\n",
        "  suma = x+y\n",
        "  resta = x-y\n",
        "  return(suma, resta)"
      ],
      "metadata": {
        "id": "qQSFAPiM6KVU"
      },
      "execution_count": 17,
      "outputs": []
    },
    {
      "cell_type": "code",
      "source": [
        "sumaresta(2,3)"
      ],
      "metadata": {
        "colab": {
          "base_uri": "https://localhost:8080/"
        },
        "id": "1X7Ott3R6KSV",
        "outputId": "ae4c9552-e861-4f1b-9f48-bd4a728a1f8e"
      },
      "execution_count": 18,
      "outputs": [
        {
          "output_type": "execute_result",
          "data": {
            "text/plain": [
              "(5, -1)"
            ]
          },
          "metadata": {},
          "execution_count": 18
        }
      ]
    },
    {
      "cell_type": "markdown",
      "source": [
        "# *Funciones con números variables*"
      ],
      "metadata": {
        "id": "Elty599fNfxP"
      }
    },
    {
      "cell_type": "code",
      "source": [
        "#No tiene un número definido de objetos, en este caso, se puede sumar todos los que se puedan\n",
        "def suma(*args):\n",
        "  return sum(args)"
      ],
      "metadata": {
        "id": "vhojTdBV6KPP"
      },
      "execution_count": 19,
      "outputs": []
    },
    {
      "cell_type": "code",
      "source": [
        "suma(1,2)"
      ],
      "metadata": {
        "colab": {
          "base_uri": "https://localhost:8080/"
        },
        "id": "z8bPU4HX6KMG",
        "outputId": "cd728a9c-1677-4169-bea7-a1277210a36f"
      },
      "execution_count": 20,
      "outputs": [
        {
          "output_type": "execute_result",
          "data": {
            "text/plain": [
              "3"
            ]
          },
          "metadata": {},
          "execution_count": 20
        }
      ]
    },
    {
      "cell_type": "code",
      "source": [
        "suma(1,2,3,4)"
      ],
      "metadata": {
        "colab": {
          "base_uri": "https://localhost:8080/"
        },
        "id": "P7o803mu6KI0",
        "outputId": "845303c9-583b-42ce-b9a8-958a66595eef"
      },
      "execution_count": 21,
      "outputs": [
        {
          "output_type": "execute_result",
          "data": {
            "text/plain": [
              "10"
            ]
          },
          "metadata": {},
          "execution_count": 21
        }
      ]
    },
    {
      "cell_type": "code",
      "source": [
        "suma(1,2,3,4,5,6,7,8,9,10)"
      ],
      "metadata": {
        "colab": {
          "base_uri": "https://localhost:8080/"
        },
        "id": "p504gASA6KF2",
        "outputId": "0403e473-fee0-402f-86a8-6902eb47f4be"
      },
      "execution_count": 22,
      "outputs": [
        {
          "output_type": "execute_result",
          "data": {
            "text/plain": [
              "55"
            ]
          },
          "metadata": {},
          "execution_count": 22
        }
      ]
    },
    {
      "cell_type": "code",
      "source": [
        "#Dentro de una función se pueden crear variables \n",
        "# total = total + d**2\n",
        "# versión reducida es total+= d**2\n",
        "def sumacuadrado(*datos):\n",
        "  total=0\n",
        "  for d in datos:\n",
        "    total = total + d**2\n",
        "  return total"
      ],
      "metadata": {
        "id": "wPUR42qZ6KCt"
      },
      "execution_count": 26,
      "outputs": []
    },
    {
      "cell_type": "code",
      "source": [
        "sumacuadrado(1,2,3)"
      ],
      "metadata": {
        "colab": {
          "base_uri": "https://localhost:8080/"
        },
        "id": "9mhFtK4q6J_n",
        "outputId": "bf476f21-d533-4742-b533-207b441598d4"
      },
      "execution_count": 24,
      "outputs": [
        {
          "output_type": "execute_result",
          "data": {
            "text/plain": [
              "14"
            ]
          },
          "metadata": {},
          "execution_count": 24
        }
      ]
    },
    {
      "cell_type": "code",
      "source": [
        "sumacuadrado(2.5,3.6,8.9,-2,12.67)"
      ],
      "metadata": {
        "colab": {
          "base_uri": "https://localhost:8080/"
        },
        "id": "gBb7_z5N6J8e",
        "outputId": "e614bfb3-cceb-4b23-f058-e5122b601c28"
      },
      "execution_count": 25,
      "outputs": [
        {
          "output_type": "execute_result",
          "data": {
            "text/plain": [
              "262.9489"
            ]
          },
          "metadata": {},
          "execution_count": 25
        }
      ]
    },
    {
      "cell_type": "markdown",
      "source": [
        "# *Funciones anónimas*"
      ],
      "metadata": {
        "id": "yNOWFhPePNRx"
      }
    },
    {
      "cell_type": "markdown",
      "source": [
        "Son también funciones lambda, se declaran con lambda, luego se coloca una variable, y luego la expresión. "
      ],
      "metadata": {
        "id": "kSn5Lh5WPTOC"
      }
    },
    {
      "cell_type": "code",
      "source": [
        "doble = lambda x: x*2"
      ],
      "metadata": {
        "id": "PZPSdRia6J5X"
      },
      "execution_count": 27,
      "outputs": []
    },
    {
      "cell_type": "code",
      "source": [
        "doble (4)"
      ],
      "metadata": {
        "colab": {
          "base_uri": "https://localhost:8080/"
        },
        "id": "luFR8m1c6J2F",
        "outputId": "e9759615-933d-40c9-d9f6-952ce4116609"
      },
      "execution_count": 28,
      "outputs": [
        {
          "output_type": "execute_result",
          "data": {
            "text/plain": [
              "8"
            ]
          },
          "metadata": {},
          "execution_count": 28
        }
      ]
    },
    {
      "cell_type": "code",
      "source": [
        "cuadrado = lambda x: x**2"
      ],
      "metadata": {
        "id": "q61fWAaR6Jy8"
      },
      "execution_count": 29,
      "outputs": []
    },
    {
      "cell_type": "code",
      "source": [
        "cuadrado(5)"
      ],
      "metadata": {
        "colab": {
          "base_uri": "https://localhost:8080/"
        },
        "id": "mmY6KL1C6Jv9",
        "outputId": "5c6583e4-0822-4da1-80e7-f18d556a2ca7"
      },
      "execution_count": 30,
      "outputs": [
        {
          "output_type": "execute_result",
          "data": {
            "text/plain": [
              "25"
            ]
          },
          "metadata": {},
          "execution_count": 30
        }
      ]
    },
    {
      "cell_type": "code",
      "source": [
        "suma = lambda x, y: x+y"
      ],
      "metadata": {
        "id": "7IEtA27x6Js1"
      },
      "execution_count": 31,
      "outputs": []
    },
    {
      "cell_type": "code",
      "source": [
        "suma(2,3)"
      ],
      "metadata": {
        "colab": {
          "base_uri": "https://localhost:8080/"
        },
        "id": "nNZBUCn06Jpt",
        "outputId": "cdbc8907-4230-4892-b7ff-1c261e5a50bf"
      },
      "execution_count": 32,
      "outputs": [
        {
          "output_type": "execute_result",
          "data": {
            "text/plain": [
              "5"
            ]
          },
          "metadata": {},
          "execution_count": 32
        }
      ]
    },
    {
      "cell_type": "code",
      "source": [
        "from functools import reduce"
      ],
      "metadata": {
        "id": "dwPjXB0Z6Jm1"
      },
      "execution_count": 34,
      "outputs": []
    },
    {
      "cell_type": "code",
      "source": [
        "data = [1,2,3,4,5,6,7,8,9,10]"
      ],
      "metadata": {
        "id": "RzYP6yRM6Jj2"
      },
      "execution_count": 35,
      "outputs": []
    },
    {
      "cell_type": "code",
      "source": [
        "#Filter, filtra los datos\n",
        "filtered_data = list(filter(lambda x: (x*2>8),data))"
      ],
      "metadata": {
        "id": "QRvAxlra6Jgs"
      },
      "execution_count": 39,
      "outputs": []
    },
    {
      "cell_type": "code",
      "source": [
        "filtered_data"
      ],
      "metadata": {
        "colab": {
          "base_uri": "https://localhost:8080/"
        },
        "id": "oYgWYmNf6Jdk",
        "outputId": "717a2689-2b80-4fc7-d452-4ebaf164d1d8"
      },
      "execution_count": 40,
      "outputs": [
        {
          "output_type": "execute_result",
          "data": {
            "text/plain": [
              "[5, 6, 7, 8, 9, 10]"
            ]
          },
          "metadata": {},
          "execution_count": 40
        }
      ]
    },
    {
      "cell_type": "code",
      "source": [
        "#Map mapea los datos y los transforma dependiendo de la función\n",
        "mapped_data= list(map(lambda x: x*2, data))"
      ],
      "metadata": {
        "id": "qG_E0A776Jae"
      },
      "execution_count": 41,
      "outputs": []
    },
    {
      "cell_type": "code",
      "source": [
        "mapped_data"
      ],
      "metadata": {
        "colab": {
          "base_uri": "https://localhost:8080/"
        },
        "id": "IZuC_MsJ6JXO",
        "outputId": "3df5fa20-9b2f-4ccc-aa94-2e23e8a56e12"
      },
      "execution_count": 42,
      "outputs": [
        {
          "output_type": "execute_result",
          "data": {
            "text/plain": [
              "[2, 4, 6, 8, 10, 12, 14, 16, 18, 20]"
            ]
          },
          "metadata": {},
          "execution_count": 42
        }
      ]
    },
    {
      "cell_type": "code",
      "source": [
        "#Reduce, reduce valores\n",
        "reduced_data = reduce(lambda x, y: x+y, data)"
      ],
      "metadata": {
        "id": "etsIr8lt6JT8"
      },
      "execution_count": 46,
      "outputs": []
    },
    {
      "cell_type": "code",
      "source": [
        "reduced_data"
      ],
      "metadata": {
        "colab": {
          "base_uri": "https://localhost:8080/"
        },
        "id": "TfM5ffNa6JQ0",
        "outputId": "6dd8ee3e-ebd7-4931-881c-572ccd7e814d"
      },
      "execution_count": 45,
      "outputs": [
        {
          "output_type": "execute_result",
          "data": {
            "text/plain": [
              "55"
            ]
          },
          "metadata": {},
          "execution_count": 45
        }
      ]
    }
  ]
}