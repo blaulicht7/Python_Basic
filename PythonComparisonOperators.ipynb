{
  "nbformat": 4,
  "nbformat_minor": 0,
  "metadata": {
    "colab": {
      "provenance": [],
      "collapsed_sections": [],
      "authorship_tag": "ABX9TyOuPhSFECkWtoPs+2g/S+oh",
      "include_colab_link": true
    },
    "kernelspec": {
      "name": "python3",
      "display_name": "Python 3"
    },
    "language_info": {
      "name": "python"
    }
  },
  "cells": [
    {
      "cell_type": "markdown",
      "metadata": {
        "id": "view-in-github",
        "colab_type": "text"
      },
      "source": [
        "<a href=\"https://colab.research.google.com/github/blaulicht7/Python_Basic/blob/main/PythonComparisonOperators.ipynb\" target=\"_parent\"><img src=\"https://colab.research.google.com/assets/colab-badge.svg\" alt=\"Open In Colab\"/></a>"
      ]
    },
    {
      "cell_type": "markdown",
      "source": [
        "# **Python Comparison Operators**"
      ],
      "metadata": {
        "id": "4D-n8yxrkGU5"
      }
    },
    {
      "cell_type": "markdown",
      "source": [
        "Se usa el operador == para asignar igualdad porque si usamos =, python puede pensar que se está asignando una variable.\n",
        "\n",
        "Se debe tener en cuenta que se puede usar == para todo tipo de datos, strings (considerar minúsculas y mayúsculas), numbers (float or integer), etc. y si queremos igualar debemos considerar que sean del mismo tipo.\n"
      ],
      "metadata": {
        "id": "y9uXD7C1Zv0U"
      }
    },
    {
      "cell_type": "code",
      "execution_count": 1,
      "metadata": {
        "id": "TpL6rZvgj3fg",
        "colab": {
          "base_uri": "https://localhost:8080/"
        },
        "outputId": "3462c515-46d3-4c63-99de-6369db4589c0"
      },
      "outputs": [
        {
          "output_type": "execute_result",
          "data": {
            "text/plain": [
              "True"
            ]
          },
          "metadata": {},
          "execution_count": 1
        }
      ],
      "source": [
        "1 == 1"
      ]
    },
    {
      "cell_type": "code",
      "source": [
        "'1' == 1"
      ],
      "metadata": {
        "colab": {
          "base_uri": "https://localhost:8080/"
        },
        "id": "7vHuvLk8aF6U",
        "outputId": "3a2f4f1d-7db3-4b8f-82c8-62e886594b5c"
      },
      "execution_count": 2,
      "outputs": [
        {
          "output_type": "execute_result",
          "data": {
            "text/plain": [
              "False"
            ]
          },
          "metadata": {},
          "execution_count": 2
        }
      ]
    },
    {
      "cell_type": "code",
      "source": [
        "'hello' == 'Hello'"
      ],
      "metadata": {
        "colab": {
          "base_uri": "https://localhost:8080/"
        },
        "id": "NlDpxHFlaF3D",
        "outputId": "48c590f9-22b5-4f35-bb65-a5fa298d350e"
      },
      "execution_count": 4,
      "outputs": [
        {
          "output_type": "execute_result",
          "data": {
            "text/plain": [
              "False"
            ]
          },
          "metadata": {},
          "execution_count": 4
        }
      ]
    },
    {
      "cell_type": "code",
      "source": [
        "2.0 == 2"
      ],
      "metadata": {
        "colab": {
          "base_uri": "https://localhost:8080/"
        },
        "id": "ZglxWxTWaFzt",
        "outputId": "8addbba9-0236-47cf-d3e0-e4865a02f3d6"
      },
      "execution_count": 5,
      "outputs": [
        {
          "output_type": "execute_result",
          "data": {
            "text/plain": [
              "True"
            ]
          },
          "metadata": {},
          "execution_count": 5
        }
      ]
    },
    {
      "cell_type": "markdown",
      "source": [
        "Se usa la expresión **!=** para expresar desigualdad"
      ],
      "metadata": {
        "id": "mQQ0jV82aauj"
      }
    },
    {
      "cell_type": "code",
      "source": [
        "3 != 3"
      ],
      "metadata": {
        "colab": {
          "base_uri": "https://localhost:8080/"
        },
        "id": "5WBzAsEeaFwD",
        "outputId": "95228dd1-ddd8-4683-f567-0b8a2f1fc6e1"
      },
      "execution_count": 6,
      "outputs": [
        {
          "output_type": "execute_result",
          "data": {
            "text/plain": [
              "False"
            ]
          },
          "metadata": {},
          "execution_count": 6
        }
      ]
    },
    {
      "cell_type": "code",
      "source": [
        "3 != 4"
      ],
      "metadata": {
        "colab": {
          "base_uri": "https://localhost:8080/"
        },
        "id": "CYEW9PTWaFsk",
        "outputId": "8693b30c-2e0b-4d6d-e6cd-0577119b166f"
      },
      "execution_count": 7,
      "outputs": [
        {
          "output_type": "execute_result",
          "data": {
            "text/plain": [
              "True"
            ]
          },
          "metadata": {},
          "execution_count": 7
        }
      ]
    },
    {
      "cell_type": "markdown",
      "source": [
        "Se pueden usar los siguientes signos: ** >, <, <=, >= **"
      ],
      "metadata": {
        "id": "XUjOv8U6asVU"
      }
    },
    {
      "cell_type": "code",
      "source": [
        "2 > 1"
      ],
      "metadata": {
        "colab": {
          "base_uri": "https://localhost:8080/"
        },
        "id": "e5UUhlThaFo8",
        "outputId": "1911f4d1-d7a4-4eea-f4fd-b15eac44921e"
      },
      "execution_count": 8,
      "outputs": [
        {
          "output_type": "execute_result",
          "data": {
            "text/plain": [
              "True"
            ]
          },
          "metadata": {},
          "execution_count": 8
        }
      ]
    },
    {
      "cell_type": "code",
      "source": [
        "1 > 2"
      ],
      "metadata": {
        "colab": {
          "base_uri": "https://localhost:8080/"
        },
        "id": "vr5liBKTaFlU",
        "outputId": "1f81d9a4-7f50-4bc8-975f-30bcbe970a20"
      },
      "execution_count": 9,
      "outputs": [
        {
          "output_type": "execute_result",
          "data": {
            "text/plain": [
              "False"
            ]
          },
          "metadata": {},
          "execution_count": 9
        }
      ]
    },
    {
      "cell_type": "code",
      "source": [
        "2 < 5"
      ],
      "metadata": {
        "colab": {
          "base_uri": "https://localhost:8080/"
        },
        "id": "MO7TkrAVaz87",
        "outputId": "3d7205e9-0c7d-475c-9d23-e98caab170ea"
      },
      "execution_count": 10,
      "outputs": [
        {
          "output_type": "execute_result",
          "data": {
            "text/plain": [
              "True"
            ]
          },
          "metadata": {},
          "execution_count": 10
        }
      ]
    },
    {
      "cell_type": "code",
      "source": [
        "2 < 2"
      ],
      "metadata": {
        "colab": {
          "base_uri": "https://localhost:8080/"
        },
        "id": "Qzqxw7Mzaz5j",
        "outputId": "f907963d-5fb6-418c-c817-a799197f707a"
      },
      "execution_count": 11,
      "outputs": [
        {
          "output_type": "execute_result",
          "data": {
            "text/plain": [
              "False"
            ]
          },
          "metadata": {},
          "execution_count": 11
        }
      ]
    },
    {
      "cell_type": "markdown",
      "source": [
        "# **Python Comparison Operators II**\n",
        "\n",
        "\n"
      ],
      "metadata": {
        "id": "4jT-fDeMbLlF"
      }
    },
    {
      "cell_type": "markdown",
      "source": [
        "Operadores lógicos: Vamos a encadenar diferentes comparaciones, se utilizaran los operadores de comparación **and, or, not.**"
      ],
      "metadata": {
        "id": "k8LFmI2lbWOr"
      }
    },
    {
      "cell_type": "markdown",
      "source": [
        "**AND**\n",
        "\n",
        "Para que el resultado de este operador lógico sea *TRUE*, ambos casos deben ser *TRUE*"
      ],
      "metadata": {
        "id": "7u9YVJiyd5k6"
      }
    },
    {
      "cell_type": "code",
      "source": [
        "1 < 2 and 2 <3 "
      ],
      "metadata": {
        "colab": {
          "base_uri": "https://localhost:8080/"
        },
        "id": "8cD3Jdxoaz20",
        "outputId": "94210a6f-d2df-4296-ab70-3290d9aa057b"
      },
      "execution_count": 12,
      "outputs": [
        {
          "output_type": "execute_result",
          "data": {
            "text/plain": [
              "True"
            ]
          },
          "metadata": {},
          "execution_count": 12
        }
      ]
    },
    {
      "cell_type": "code",
      "source": [
        "'h' == 'h' and 2 == 2"
      ],
      "metadata": {
        "colab": {
          "base_uri": "https://localhost:8080/"
        },
        "id": "q3B7fAlCazzs",
        "outputId": "2cd485a6-fa42-49f3-d7b0-5da216aff47d"
      },
      "execution_count": 13,
      "outputs": [
        {
          "output_type": "execute_result",
          "data": {
            "text/plain": [
              "True"
            ]
          },
          "metadata": {},
          "execution_count": 13
        }
      ]
    },
    {
      "cell_type": "markdown",
      "source": [
        "**OR**\n",
        "\n",
        "Para que el resultado de este operador lógico sea *TRUE*, no es necesario que los dos valores sean verdaderos, uno es suficiente. "
      ],
      "metadata": {
        "id": "X9VZcfSOeGfT"
      }
    },
    {
      "cell_type": "code",
      "source": [
        "100 == 1 or 2 == 2"
      ],
      "metadata": {
        "colab": {
          "base_uri": "https://localhost:8080/"
        },
        "id": "5gv1exROdzyz",
        "outputId": "37c0138a-5c73-4d95-e58a-6e8de8b96fde"
      },
      "execution_count": 15,
      "outputs": [
        {
          "output_type": "execute_result",
          "data": {
            "text/plain": [
              "True"
            ]
          },
          "metadata": {},
          "execution_count": 15
        }
      ]
    },
    {
      "cell_type": "code",
      "source": [
        "2 == 3 or 1 ==4 "
      ],
      "metadata": {
        "colab": {
          "base_uri": "https://localhost:8080/"
        },
        "id": "jBsyfoGkdzu0",
        "outputId": "553cf01d-9505-4e39-dc49-5916d8cb8a56"
      },
      "execution_count": 16,
      "outputs": [
        {
          "output_type": "execute_result",
          "data": {
            "text/plain": [
              "False"
            ]
          },
          "metadata": {},
          "execution_count": 16
        }
      ]
    },
    {
      "cell_type": "markdown",
      "source": [
        "NOT \n",
        "\n",
        "Devuelve el valor contrario "
      ],
      "metadata": {
        "id": "eVLknFhthRnW"
      }
    },
    {
      "cell_type": "code",
      "source": [
        "1 == 1"
      ],
      "metadata": {
        "colab": {
          "base_uri": "https://localhost:8080/"
        },
        "id": "spBTQQgBdzqk",
        "outputId": "2bd6ed62-2cc2-41fe-b3e8-7b10b59b1d33"
      },
      "execution_count": 17,
      "outputs": [
        {
          "output_type": "execute_result",
          "data": {
            "text/plain": [
              "True"
            ]
          },
          "metadata": {},
          "execution_count": 17
        }
      ]
    },
    {
      "cell_type": "code",
      "source": [
        "not 1 == 1"
      ],
      "metadata": {
        "colab": {
          "base_uri": "https://localhost:8080/"
        },
        "id": "boVBp47adzlL",
        "outputId": "cc1d6760-417e-4814-e0fd-29c0820f611a"
      },
      "execution_count": 18,
      "outputs": [
        {
          "output_type": "execute_result",
          "data": {
            "text/plain": [
              "False"
            ]
          },
          "metadata": {},
          "execution_count": 18
        }
      ]
    }
  ]
}